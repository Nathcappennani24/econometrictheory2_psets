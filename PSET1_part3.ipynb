{
 "cells": [
  {
   "cell_type": "markdown",
   "id": "a42255ba",
   "metadata": {},
   "source": [
    "# Even Study Analysis"
   ]
  },
  {
   "cell_type": "code",
   "execution_count": 122,
   "id": "8cd26657",
   "metadata": {},
   "outputs": [],
   "source": [
    "import pandas as pd \n",
    "\n",
    "import numpy as np \n",
    "import matplotlib.pyplot as plt\n",
    "\n",
    "from scipy import stats\n",
    "import statsmodels.api as sm\n",
    "import statsmodels.formula.api as smf\n",
    "\n",
    "from pandas.api import types\n",
    "\n",
    "from linearmodels import PanelOLS\n"
   ]
  },
  {
   "cell_type": "code",
   "execution_count": 123,
   "id": "0555abb2",
   "metadata": {},
   "outputs": [],
   "source": [
    "data = pd.read_csv(\"src/did_training_productivity.csv\", index_col = 0)\n",
    "# standardize the periods so as to have period 13 as 0, as period 13 represents the start of the treatment\n",
    "data[\"period\"] -= 13"
   ]
  },
  {
   "cell_type": "markdown",
   "id": "b852e0ef",
   "metadata": {},
   "source": [
    "Estimate the dynamic DiD specification:\n",
    "\n",
    "$$Y_{it} = \\alpha_i + \\delta_t + \\sum_{\\tau=-k}^{-2} \\delta_{\\tau} W_{it}^{\\tau} + \\sum_{\\tau=0}^{m} \\delta_{\\tau} W_{it}^{\\tau} + \\epsilon_{it}$$"
   ]
  },
  {
   "cell_type": "code",
   "execution_count": 124,
   "id": "f9fd2b66",
   "metadata": {},
   "outputs": [
    {
     "data": {
      "text/plain": [
       "(-12, 11)"
      ]
     },
     "execution_count": 124,
     "metadata": {},
     "output_type": "execute_result"
    }
   ],
   "source": [
    "(data[\"period\"].min(),data[\"period\"].max())"
   ]
  },
  {
   "cell_type": "code",
   "execution_count": 141,
   "id": "80110382",
   "metadata": {},
   "outputs": [],
   "source": [
    "reg_data = data[[\"treat_group\", \"period\", \"productivity\", \"log_productivity\"]].reset_index().copy()\n",
    "\n",
    "end = 12\n",
    "start = -end\n",
    "\n",
    "for i in range(-end,end):\n",
    "    reg_data[f\"time({i})\"] = 0\n",
    "    reg_data.loc[(reg_data[\"treat_group\"] == 1)&(reg_data[\"period\"]==i),f\"time({i})\"] = 1\n",
    "\n",
    "reg_data = reg_data.drop([\"time(-1)\"], axis = 1)\n",
    "reg_data = reg_data.set_index([\"worker_id\", \"period\"])"
   ]
  },
  {
   "cell_type": "code",
   "execution_count": 142,
   "id": "97026677",
   "metadata": {},
   "outputs": [],
   "source": [
    "y = reg_data[\"productivity\"]\n",
    "y_log = reg_data[\"log_productivity\"]\n",
    "\n",
    "X = reg_data.drop([\"productivity\", \"log_productivity\", \"treat_group\"], axis = 1)"
   ]
  },
  {
   "cell_type": "code",
   "execution_count": 143,
   "id": "8d0582a5",
   "metadata": {},
   "outputs": [
    {
     "data": {
      "text/html": [
       "<table class=\"simpletable\">\n",
       "<caption>PanelOLS Estimation Summary</caption>\n",
       "<tr>\n",
       "  <th>Dep. Variable:</th>      <td>productivity</td>   <th>  R-squared:         </th>     <td>0.1992</td>   \n",
       "</tr>\n",
       "<tr>\n",
       "  <th>Estimator:</th>            <td>PanelOLS</td>     <th>  R-squared (Between):</th>    <td>0.0158</td>   \n",
       "</tr>\n",
       "<tr>\n",
       "  <th>No. Observations:</th>       <td>48000</td>      <th>  R-squared (Within):</th>     <td>0.3379</td>   \n",
       "</tr>\n",
       "<tr>\n",
       "  <th>Date:</th>             <td>Thu, Apr 17 2025</td> <th>  R-squared (Overall):</th>    <td>0.0201</td>   \n",
       "</tr>\n",
       "<tr>\n",
       "  <th>Time:</th>                 <td>14:28:16</td>     <th>  Log-likelihood     </th>    <td>-1.81e+05</td> \n",
       "</tr>\n",
       "<tr>\n",
       "  <th>Cov. Estimator:</th>       <td>Clustered</td>    <th>                     </th>        <td></td>      \n",
       "</tr>\n",
       "<tr>\n",
       "  <th></th>                          <td></td>         <th>  F-statistic:       </th>     <td>496.88</td>   \n",
       "</tr>\n",
       "<tr>\n",
       "  <th>Entities:</th>               <td>2000</td>       <th>  P-value            </th>     <td>0.0000</td>   \n",
       "</tr>\n",
       "<tr>\n",
       "  <th>Avg Obs:</th>               <td>24.000</td>      <th>  Distribution:      </th>   <td>F(23,45954)</td>\n",
       "</tr>\n",
       "<tr>\n",
       "  <th>Min Obs:</th>               <td>24.000</td>      <th>                     </th>        <td></td>      \n",
       "</tr>\n",
       "<tr>\n",
       "  <th>Max Obs:</th>               <td>24.000</td>      <th>  F-statistic (robust):</th>   <td>478.62</td>   \n",
       "</tr>\n",
       "<tr>\n",
       "  <th></th>                          <td></td>         <th>  P-value            </th>     <td>0.0000</td>   \n",
       "</tr>\n",
       "<tr>\n",
       "  <th>Time periods:</th>            <td>24</td>        <th>  Distribution:      </th>   <td>F(23,45954)</td>\n",
       "</tr>\n",
       "<tr>\n",
       "  <th>Avg Obs:</th>               <td>2000.0</td>      <th>                     </th>        <td></td>      \n",
       "</tr>\n",
       "<tr>\n",
       "  <th>Min Obs:</th>               <td>2000.0</td>      <th>                     </th>        <td></td>      \n",
       "</tr>\n",
       "<tr>\n",
       "  <th>Max Obs:</th>               <td>2000.0</td>      <th>                     </th>        <td></td>      \n",
       "</tr>\n",
       "<tr>\n",
       "  <th></th>                          <td></td>         <th>                     </th>        <td></td>      \n",
       "</tr>\n",
       "</table>\n",
       "<table class=\"simpletable\">\n",
       "<caption>Parameter Estimates</caption>\n",
       "<tr>\n",
       "      <td></td>      <th>Parameter</th> <th>Std. Err.</th> <th>T-stat</th>  <th>P-value</th> <th>Lower CI</th> <th>Upper CI</th>\n",
       "</tr>\n",
       "<tr>\n",
       "  <th>time(-12)</th>  <td>-9.9821</td>   <td>0.8237</td>   <td>-12.119</td> <td>0.0000</td>   <td>-11.597</td>  <td>-8.3677</td>\n",
       "</tr>\n",
       "<tr>\n",
       "  <th>time(-11)</th>  <td>-10.020</td>   <td>0.7876</td>   <td>-12.722</td> <td>0.0000</td>   <td>-11.564</td>  <td>-8.4764</td>\n",
       "</tr>\n",
       "<tr>\n",
       "  <th>time(-10)</th>  <td>-9.8807</td>   <td>0.8133</td>   <td>-12.148</td> <td>0.0000</td>   <td>-11.475</td>  <td>-8.2865</td>\n",
       "</tr>\n",
       "<tr>\n",
       "  <th>time(-9)</th>   <td>-9.0113</td>   <td>0.7685</td>   <td>-11.725</td> <td>0.0000</td>   <td>-10.518</td>  <td>-7.5050</td>\n",
       "</tr>\n",
       "<tr>\n",
       "  <th>time(-8)</th>   <td>-9.5542</td>   <td>0.7895</td>   <td>-12.102</td> <td>0.0000</td>   <td>-11.102</td>  <td>-8.0068</td>\n",
       "</tr>\n",
       "<tr>\n",
       "  <th>time(-7)</th>   <td>-10.042</td>   <td>0.7783</td>   <td>-12.902</td> <td>0.0000</td>   <td>-11.567</td>  <td>-8.5162</td>\n",
       "</tr>\n",
       "<tr>\n",
       "  <th>time(-6)</th>   <td>-9.0570</td>   <td>0.7570</td>   <td>-11.964</td> <td>0.0000</td>   <td>-10.541</td>  <td>-7.5732</td>\n",
       "</tr>\n",
       "<tr>\n",
       "  <th>time(-5)</th>   <td>-8.5829</td>   <td>0.7775</td>   <td>-11.039</td> <td>0.0000</td>   <td>-10.107</td>  <td>-7.0590</td>\n",
       "</tr>\n",
       "<tr>\n",
       "  <th>time(-4)</th>   <td>-8.7345</td>   <td>0.7768</td>   <td>-11.244</td> <td>0.0000</td>   <td>-10.257</td>  <td>-7.2119</td>\n",
       "</tr>\n",
       "<tr>\n",
       "  <th>time(-3)</th>   <td>-5.3591</td>   <td>0.7712</td>   <td>-6.9487</td> <td>0.0000</td>   <td>-6.8708</td>  <td>-3.8475</td>\n",
       "</tr>\n",
       "<tr>\n",
       "  <th>time(-2)</th>   <td>-2.6111</td>   <td>0.7703</td>   <td>-3.3898</td> <td>0.0007</td>   <td>-4.1208</td>  <td>-1.1013</td>\n",
       "</tr>\n",
       "<tr>\n",
       "  <th>time(0)</th>    <td>13.687</td>    <td>0.7603</td>   <td>18.000</td>  <td>0.0000</td>   <td>12.196</td>   <td>15.177</td> \n",
       "</tr>\n",
       "<tr>\n",
       "  <th>time(1)</th>    <td>14.307</td>    <td>0.7809</td>   <td>18.321</td>  <td>0.0000</td>   <td>12.776</td>   <td>15.837</td> \n",
       "</tr>\n",
       "<tr>\n",
       "  <th>time(2)</th>    <td>14.524</td>    <td>0.7803</td>   <td>18.613</td>  <td>0.0000</td>   <td>12.995</td>   <td>16.054</td> \n",
       "</tr>\n",
       "<tr>\n",
       "  <th>time(3)</th>    <td>14.161</td>    <td>0.7649</td>   <td>18.515</td>  <td>0.0000</td>   <td>12.662</td>   <td>15.660</td> \n",
       "</tr>\n",
       "<tr>\n",
       "  <th>time(4)</th>    <td>13.899</td>    <td>0.8025</td>   <td>17.319</td>  <td>0.0000</td>   <td>12.326</td>   <td>15.472</td> \n",
       "</tr>\n",
       "<tr>\n",
       "  <th>time(5)</th>    <td>14.469</td>    <td>0.7594</td>   <td>19.053</td>  <td>0.0000</td>   <td>12.981</td>   <td>15.958</td> \n",
       "</tr>\n",
       "<tr>\n",
       "  <th>time(6)</th>    <td>14.353</td>    <td>0.7610</td>   <td>18.862</td>  <td>0.0000</td>   <td>12.862</td>   <td>15.845</td> \n",
       "</tr>\n",
       "<tr>\n",
       "  <th>time(7)</th>    <td>14.631</td>    <td>0.7698</td>   <td>19.005</td>  <td>0.0000</td>   <td>13.122</td>   <td>16.140</td> \n",
       "</tr>\n",
       "<tr>\n",
       "  <th>time(8)</th>    <td>15.380</td>    <td>0.7456</td>   <td>20.629</td>  <td>0.0000</td>   <td>13.919</td>   <td>16.842</td> \n",
       "</tr>\n",
       "<tr>\n",
       "  <th>time(9)</th>    <td>15.289</td>    <td>0.7947</td>   <td>19.239</td>  <td>0.0000</td>   <td>13.732</td>   <td>16.847</td> \n",
       "</tr>\n",
       "<tr>\n",
       "  <th>time(10)</th>   <td>15.508</td>    <td>0.7700</td>   <td>20.142</td>  <td>0.0000</td>   <td>13.999</td>   <td>17.017</td> \n",
       "</tr>\n",
       "<tr>\n",
       "  <th>time(11)</th>   <td>15.869</td>    <td>0.7445</td>   <td>21.316</td>  <td>0.0000</td>   <td>14.410</td>   <td>17.328</td> \n",
       "</tr>\n",
       "</table><br/><br/>F-test for Poolability: 64.347<br/>P-value: 0.0000<br/>Distribution: F(2022,45954)<br/><br/>Included effects: Entity, Time<br/>id: 0x20c2305ecd0"
      ],
      "text/plain": [
       "                          PanelOLS Estimation Summary                           \n",
       "================================================================================\n",
       "Dep. Variable:           productivity   R-squared:                        0.1992\n",
       "Estimator:                   PanelOLS   R-squared (Between):              0.0158\n",
       "No. Observations:               48000   R-squared (Within):               0.3379\n",
       "Date:                Thu, Apr 17 2025   R-squared (Overall):              0.0201\n",
       "Time:                        14:28:16   Log-likelihood                 -1.81e+05\n",
       "Cov. Estimator:             Clustered                                           \n",
       "                                        F-statistic:                      496.88\n",
       "Entities:                        2000   P-value                           0.0000\n",
       "Avg Obs:                       24.000   Distribution:                F(23,45954)\n",
       "Min Obs:                       24.000                                           \n",
       "Max Obs:                       24.000   F-statistic (robust):             478.62\n",
       "                                        P-value                           0.0000\n",
       "Time periods:                      24   Distribution:                F(23,45954)\n",
       "Avg Obs:                       2000.0                                           \n",
       "Min Obs:                       2000.0                                           \n",
       "Max Obs:                       2000.0                                           \n",
       "                                                                                \n",
       "                             Parameter Estimates                              \n",
       "==============================================================================\n",
       "            Parameter  Std. Err.     T-stat    P-value    Lower CI    Upper CI\n",
       "------------------------------------------------------------------------------\n",
       "time(-12)     -9.9821     0.8237    -12.119     0.0000     -11.597     -8.3677\n",
       "time(-11)     -10.020     0.7876    -12.722     0.0000     -11.564     -8.4764\n",
       "time(-10)     -9.8807     0.8133    -12.148     0.0000     -11.475     -8.2865\n",
       "time(-9)      -9.0113     0.7685    -11.725     0.0000     -10.518     -7.5050\n",
       "time(-8)      -9.5542     0.7895    -12.102     0.0000     -11.102     -8.0068\n",
       "time(-7)      -10.042     0.7783    -12.902     0.0000     -11.567     -8.5162\n",
       "time(-6)      -9.0570     0.7570    -11.964     0.0000     -10.541     -7.5732\n",
       "time(-5)      -8.5829     0.7775    -11.039     0.0000     -10.107     -7.0590\n",
       "time(-4)      -8.7345     0.7768    -11.244     0.0000     -10.257     -7.2119\n",
       "time(-3)      -5.3591     0.7712    -6.9487     0.0000     -6.8708     -3.8475\n",
       "time(-2)      -2.6111     0.7703    -3.3898     0.0007     -4.1208     -1.1013\n",
       "time(0)        13.687     0.7603     18.000     0.0000      12.196      15.177\n",
       "time(1)        14.307     0.7809     18.321     0.0000      12.776      15.837\n",
       "time(2)        14.524     0.7803     18.613     0.0000      12.995      16.054\n",
       "time(3)        14.161     0.7649     18.515     0.0000      12.662      15.660\n",
       "time(4)        13.899     0.8025     17.319     0.0000      12.326      15.472\n",
       "time(5)        14.469     0.7594     19.053     0.0000      12.981      15.958\n",
       "time(6)        14.353     0.7610     18.862     0.0000      12.862      15.845\n",
       "time(7)        14.631     0.7698     19.005     0.0000      13.122      16.140\n",
       "time(8)        15.380     0.7456     20.629     0.0000      13.919      16.842\n",
       "time(9)        15.289     0.7947     19.239     0.0000      13.732      16.847\n",
       "time(10)       15.508     0.7700     20.142     0.0000      13.999      17.017\n",
       "time(11)       15.869     0.7445     21.316     0.0000      14.410      17.328\n",
       "==============================================================================\n",
       "\n",
       "F-test for Poolability: 64.347\n",
       "P-value: 0.0000\n",
       "Distribution: F(2022,45954)\n",
       "\n",
       "Included effects: Entity, Time\n",
       "PanelEffectsResults, id: 0x20c2305ecd0"
      ]
     },
     "execution_count": 143,
     "metadata": {},
     "output_type": "execute_result"
    }
   ],
   "source": [
    "fe_model = PanelOLS(y, X, entity_effects=True, time_effects=True).fit(cov_type= \"clustered\", cluster_entity = True)\n",
    "fe_model"
   ]
  },
  {
   "cell_type": "code",
   "execution_count": 144,
   "id": "045092fd",
   "metadata": {},
   "outputs": [],
   "source": [
    "def plot_ci_coeff(coeff, ci ):\n",
    "    coefficients = coeff\n",
    "    confidence_intervals = ci\n",
    "\n",
    "    fig, ax = plt.subplots(figsize=(10, 7))\n",
    "\n",
    "    ax.scatter(range(len(coefficients)), coefficients, marker='o', color='blue', label='Coefficient')\n",
    "    ax.errorbar(range(len(coefficients)), coefficients, yerr=np.array([coefficients - confidence_intervals.iloc[:, 0], confidence_intervals.iloc[:, 1] - coefficients]),\n",
    "                fmt='none', color='red', capsize=5, label='95% CI')\n",
    "\n",
    "    time_labels = [col.split(\"(\")[1].split(\")\")[0] for col in coefficients.index]\n",
    "    ax.set_xticks(range(len(time_labels)))\n",
    "    ax.set_xticklabels(time_labels)\n",
    "    ax.set_xlabel('Time Period')\n",
    "    ax.set_ylabel('Coefficient')\n",
    "    ax.set_title('Coefficients of Time Interactions with 95% Confidence Intervals')\n",
    "    ax.axhline(0, color='black', linestyle='--', linewidth=0.8)\n",
    "    ax.legend()\n",
    "    plt.grid(True)\n",
    "    plt.tight_layout()\n",
    "    plt.show()\n"
   ]
  },
  {
   "cell_type": "code",
   "execution_count": 145,
   "id": "fb486c4e",
   "metadata": {},
   "outputs": [
    {
     "data": {
      "image/png": "[encoded data removed]",
      "text/plain": [
       "<Figure size 1000x700 with 1 Axes>"
      ]
     },
     "metadata": {},
     "output_type": "display_data"
    }
   ],
   "source": [
    "plot_ci_coeff(fe_model.params, fe_model.conf_int())"
   ]
  },
  {
   "cell_type": "code",
   "execution_count": 146,
   "id": "c3bf57a6",
   "metadata": {},
   "outputs": [
    {
     "data": {
      "text/plain": [
       "23"
      ]
     },
     "execution_count": 146,
     "metadata": {},
     "output_type": "execute_result"
    }
   ],
   "source": [
    "len(X.columns)"
   ]
  },
  {
   "cell_type": "code",
   "execution_count": 155,
   "id": "ada7b644",
   "metadata": {},
   "outputs": [
    {
     "name": "stdout",
     "output_type": "stream",
     "text": [
      "Formula used for the Wald test \n",
      " time(-12) =time(-11) =time(-10) =time(-9) =time(-8) =time(-7) =time(-6) =time(-5) =time(-4) =time(-3) =time(-2) = 0\n",
      "\n",
      " Results \n",
      " Linear Equality Hypothesis Test\n",
      "H0: Linear equality constraint is valid\n",
      "Statistic: 386.4717\n",
      "P-value: 0.0000\n",
      "Distributed: chi2(11)\n"
     ]
    }
   ],
   "source": [
    "# Get the names of the pre-treatment coefficient variables\n",
    "pre_treatment_vars = [f\"time({i})\" for i in range(-12,-1)]\n",
    "\n",
    "formula = \"\"\n",
    "\n",
    "for i in pre_treatment_vars:\n",
    "    formula += i+\" =\"\n",
    "formula += \" \"+\"0\"\n",
    "\n",
    "wald_res = fe_model.wald_test(formula= formula)\n",
    "print(\"Formula used for the Wald test \\n\", formula)\n",
    "print(\"\\n Results \\n\", wald_res)"
   ]
  },
  {
   "cell_type": "code",
   "execution_count": 110,
   "id": "2f27653a",
   "metadata": {},
   "outputs": [
    {
     "data": {
      "text/plain": [
       "'time_(-12)_interaction =time_(-11)_interaction =time_(-10)_interaction =time_(-9)_interaction =time_(-8)_interaction =time_(-7)_interaction =time_(-6)_interaction =time_(-5)_interaction =time_(-4)_interaction =time_(-3)_interaction =time_(-2)_interaction = 0'"
      ]
     },
     "execution_count": 110,
     "metadata": {},
     "output_type": "execute_result"
    }
   ],
   "source": [
    "formula"
   ]
  },
  {
   "cell_type": "code",
   "execution_count": 156,
   "id": "efe97fd8",
   "metadata": {},
   "outputs": [
    {
     "name": "stdout",
     "output_type": "stream",
     "text": [
      "\n",
      "No pre-treatment coefficients defined for the joint test.\n"
     ]
    }
   ],
   "source": [
    "import numpy as np\n",
    "\n",
    "# Identify the names of the pre-treatment coefficient variables\n",
    "# Adjust this list based on your actual pre-treatment variable names\n",
    "pre_treatment_vars = [\n",
    "    col for col in fe_model.params.index if 'time_' in col and '_interaction' in col and int(col.split('_')[1].replace('(', '').replace(')', '')) < 0\n",
    "]\n",
    "\n",
    "# Assuming 'fe_model' is your fitted PanelOLS model results object\n",
    "if pre_treatment_vars:\n",
    "    # Ensure all specified pre-treatment variables are actually in the results\n",
    "    available_pre_treatment_vars = [var for var in pre_treatment_vars if var in fe_model.params.index]\n",
    "\n",
    "    if available_pre_treatment_vars:\n",
    "        # Create the restriction matrix for the Wald test\n",
    "        num_restrictions = len(available_pre_treatment_vars)\n",
    "        restriction = np.eye(num_restrictions)\n",
    "\n",
    "        # Get the indices of the pre-treatment variables in the params array\n",
    "        param_indices = [list(fe_model.params.index).index(var) for var in available_pre_treatment_vars]\n",
    "\n",
    "        # Perform the Wald test\n",
    "        f_test = fe_model.wald_test(restriction, indices=param_indices, names=available_pre_treatment_vars)\n",
    "        print(\"\\nJoint Significance Test of Pre-Treatment Coefficients (Wald Test):\")\n",
    "        print(f_test)\n",
    "    else:\n",
    "        print(\"\\nNo specified pre-treatment coefficients found in the model results.\")\n",
    "else:\n",
    "    print(\"\\nNo pre-treatment coefficients defined for the joint test.\")"
   ]
  },
  {
   "cell_type": "code",
   "execution_count": 157,
   "id": "2fe494cc",
   "metadata": {},
   "outputs": [
    {
     "data": {
      "text/html": [
       "<table class=\"simpletable\">\n",
       "<caption>PanelOLS Estimation Summary</caption>\n",
       "<tr>\n",
       "  <th>Dep. Variable:</th>    <td>log_productivity</td> <th>  R-squared:         </th>     <td>0.3946</td>   \n",
       "</tr>\n",
       "<tr>\n",
       "  <th>Estimator:</th>            <td>PanelOLS</td>     <th>  R-squared (Between):</th>    <td>0.0096</td>   \n",
       "</tr>\n",
       "<tr>\n",
       "  <th>No. Observations:</th>       <td>48000</td>      <th>  R-squared (Within):</th>     <td>0.5159</td>   \n",
       "</tr>\n",
       "<tr>\n",
       "  <th>Date:</th>             <td>Thu, Apr 17 2025</td> <th>  R-squared (Overall):</th>    <td>0.0100</td>   \n",
       "</tr>\n",
       "<tr>\n",
       "  <th>Time:</th>                 <td>14:31:06</td>     <th>  Log-likelihood     </th>    <td>5.22e+04</td>  \n",
       "</tr>\n",
       "<tr>\n",
       "  <th>Cov. Estimator:</th>       <td>Clustered</td>    <th>                     </th>        <td></td>      \n",
       "</tr>\n",
       "<tr>\n",
       "  <th></th>                          <td></td>         <th>  F-statistic:       </th>     <td>1302.4</td>   \n",
       "</tr>\n",
       "<tr>\n",
       "  <th>Entities:</th>               <td>2000</td>       <th>  P-value            </th>     <td>0.0000</td>   \n",
       "</tr>\n",
       "<tr>\n",
       "  <th>Avg Obs:</th>               <td>24.000</td>      <th>  Distribution:      </th>   <td>F(23,45954)</td>\n",
       "</tr>\n",
       "<tr>\n",
       "  <th>Min Obs:</th>               <td>24.000</td>      <th>                     </th>        <td></td>      \n",
       "</tr>\n",
       "<tr>\n",
       "  <th>Max Obs:</th>               <td>24.000</td>      <th>  F-statistic (robust):</th>   <td>801.82</td>   \n",
       "</tr>\n",
       "<tr>\n",
       "  <th></th>                          <td></td>         <th>  P-value            </th>     <td>0.0000</td>   \n",
       "</tr>\n",
       "<tr>\n",
       "  <th>Time periods:</th>            <td>24</td>        <th>  Distribution:      </th>   <td>F(23,45954)</td>\n",
       "</tr>\n",
       "<tr>\n",
       "  <th>Avg Obs:</th>               <td>2000.0</td>      <th>                     </th>        <td></td>      \n",
       "</tr>\n",
       "<tr>\n",
       "  <th>Min Obs:</th>               <td>2000.0</td>      <th>                     </th>        <td></td>      \n",
       "</tr>\n",
       "<tr>\n",
       "  <th>Max Obs:</th>               <td>2000.0</td>      <th>                     </th>        <td></td>      \n",
       "</tr>\n",
       "<tr>\n",
       "  <th></th>                          <td></td>         <th>                     </th>        <td></td>      \n",
       "</tr>\n",
       "</table>\n",
       "<table class=\"simpletable\">\n",
       "<caption>Parameter Estimates</caption>\n",
       "<tr>\n",
       "      <td></td>      <th>Parameter</th> <th>Std. Err.</th> <th>T-stat</th>  <th>P-value</th> <th>Lower CI</th> <th>Upper CI</th>\n",
       "</tr>\n",
       "<tr>\n",
       "  <th>time(-12)</th>  <td>-0.1225</td>   <td>0.0069</td>   <td>-17.689</td> <td>0.0000</td>   <td>-0.1360</td>  <td>-0.1089</td>\n",
       "</tr>\n",
       "<tr>\n",
       "  <th>time(-11)</th>  <td>-0.1127</td>   <td>0.0065</td>   <td>-17.460</td> <td>0.0000</td>   <td>-0.1253</td>  <td>-0.1000</td>\n",
       "</tr>\n",
       "<tr>\n",
       "  <th>time(-10)</th>  <td>-0.1035</td>   <td>0.0066</td>   <td>-15.732</td> <td>0.0000</td>   <td>-0.1164</td>  <td>-0.0906</td>\n",
       "</tr>\n",
       "<tr>\n",
       "  <th>time(-9)</th>   <td>-0.0846</td>   <td>0.0061</td>   <td>-13.910</td> <td>0.0000</td>   <td>-0.0965</td>  <td>-0.0726</td>\n",
       "</tr>\n",
       "<tr>\n",
       "  <th>time(-8)</th>   <td>-0.0798</td>   <td>0.0061</td>   <td>-13.002</td> <td>0.0000</td>   <td>-0.0919</td>  <td>-0.0678</td>\n",
       "</tr>\n",
       "<tr>\n",
       "  <th>time(-7)</th>   <td>-0.0743</td>   <td>0.0060</td>   <td>-12.318</td> <td>0.0000</td>   <td>-0.0862</td>  <td>-0.0625</td>\n",
       "</tr>\n",
       "<tr>\n",
       "  <th>time(-6)</th>   <td>-0.0558</td>   <td>0.0058</td>   <td>-9.6406</td> <td>0.0000</td>   <td>-0.0671</td>  <td>-0.0444</td>\n",
       "</tr>\n",
       "<tr>\n",
       "  <th>time(-5)</th>   <td>-0.0417</td>   <td>0.0059</td>   <td>-7.1027</td> <td>0.0000</td>   <td>-0.0532</td>  <td>-0.0302</td>\n",
       "</tr>\n",
       "<tr>\n",
       "  <th>time(-4)</th>   <td>-0.0340</td>   <td>0.0059</td>   <td>-5.8027</td> <td>0.0000</td>   <td>-0.0454</td>  <td>-0.0225</td>\n",
       "</tr>\n",
       "<tr>\n",
       "  <th>time(-3)</th>   <td>-0.0186</td>   <td>0.0057</td>   <td>-3.2426</td> <td>0.0012</td>   <td>-0.0298</td>  <td>-0.0073</td>\n",
       "</tr>\n",
       "<tr>\n",
       "  <th>time(-2)</th>   <td>-0.0085</td>   <td>0.0057</td>   <td>-1.4964</td> <td>0.1346</td>   <td>-0.0197</td>  <td>0.0026</td> \n",
       "</tr>\n",
       "<tr>\n",
       "  <th>time(0)</th>    <td>0.1595</td>    <td>0.0054</td>   <td>29.792</td>  <td>0.0000</td>   <td>0.1490</td>   <td>0.1700</td> \n",
       "</tr>\n",
       "<tr>\n",
       "  <th>time(1)</th>    <td>0.1720</td>    <td>0.0055</td>   <td>31.546</td>  <td>0.0000</td>   <td>0.1613</td>   <td>0.1827</td> \n",
       "</tr>\n",
       "<tr>\n",
       "  <th>time(2)</th>    <td>0.1830</td>    <td>0.0055</td>   <td>33.559</td>  <td>0.0000</td>   <td>0.1723</td>   <td>0.1937</td> \n",
       "</tr>\n",
       "<tr>\n",
       "  <th>time(3)</th>    <td>0.1898</td>    <td>0.0053</td>   <td>35.482</td>  <td>0.0000</td>   <td>0.1793</td>   <td>0.2003</td> \n",
       "</tr>\n",
       "<tr>\n",
       "  <th>time(4)</th>    <td>0.1974</td>    <td>0.0056</td>   <td>35.169</td>  <td>0.0000</td>   <td>0.1864</td>   <td>0.2084</td> \n",
       "</tr>\n",
       "<tr>\n",
       "  <th>time(5)</th>    <td>0.2101</td>    <td>0.0053</td>   <td>39.417</td>  <td>0.0000</td>   <td>0.1996</td>   <td>0.2205</td> \n",
       "</tr>\n",
       "<tr>\n",
       "  <th>time(6)</th>    <td>0.2184</td>    <td>0.0053</td>   <td>41.247</td>  <td>0.0000</td>   <td>0.2080</td>   <td>0.2288</td> \n",
       "</tr>\n",
       "<tr>\n",
       "  <th>time(7)</th>    <td>0.2300</td>    <td>0.0054</td>   <td>42.885</td>  <td>0.0000</td>   <td>0.2195</td>   <td>0.2405</td> \n",
       "</tr>\n",
       "<tr>\n",
       "  <th>time(8)</th>    <td>0.2440</td>    <td>0.0052</td>   <td>46.718</td>  <td>0.0000</td>   <td>0.2338</td>   <td>0.2543</td> \n",
       "</tr>\n",
       "<tr>\n",
       "  <th>time(9)</th>    <td>0.2529</td>    <td>0.0056</td>   <td>45.499</td>  <td>0.0000</td>   <td>0.2420</td>   <td>0.2638</td> \n",
       "</tr>\n",
       "<tr>\n",
       "  <th>time(10)</th>   <td>0.2623</td>    <td>0.0053</td>   <td>49.377</td>  <td>0.0000</td>   <td>0.2519</td>   <td>0.2727</td> \n",
       "</tr>\n",
       "<tr>\n",
       "  <th>time(11)</th>   <td>0.2745</td>    <td>0.0052</td>   <td>52.687</td>  <td>0.0000</td>   <td>0.2643</td>   <td>0.2847</td> \n",
       "</tr>\n",
       "</table><br/><br/>F-test for Poolability: 62.399<br/>P-value: 0.0000<br/>Distribution: F(2022,45954)<br/><br/>Included effects: Entity, Time<br/>id: 0x20c23113a60"
      ],
      "text/plain": [
       "                          PanelOLS Estimation Summary                           \n",
       "================================================================================\n",
       "Dep. Variable:       log_productivity   R-squared:                        0.3946\n",
       "Estimator:                   PanelOLS   R-squared (Between):              0.0096\n",
       "No. Observations:               48000   R-squared (Within):               0.5159\n",
       "Date:                Thu, Apr 17 2025   R-squared (Overall):              0.0100\n",
       "Time:                        14:31:06   Log-likelihood                  5.22e+04\n",
       "Cov. Estimator:             Clustered                                           \n",
       "                                        F-statistic:                      1302.4\n",
       "Entities:                        2000   P-value                           0.0000\n",
       "Avg Obs:                       24.000   Distribution:                F(23,45954)\n",
       "Min Obs:                       24.000                                           \n",
       "Max Obs:                       24.000   F-statistic (robust):             801.82\n",
       "                                        P-value                           0.0000\n",
       "Time periods:                      24   Distribution:                F(23,45954)\n",
       "Avg Obs:                       2000.0                                           \n",
       "Min Obs:                       2000.0                                           \n",
       "Max Obs:                       2000.0                                           \n",
       "                                                                                \n",
       "                             Parameter Estimates                              \n",
       "==============================================================================\n",
       "            Parameter  Std. Err.     T-stat    P-value    Lower CI    Upper CI\n",
       "------------------------------------------------------------------------------\n",
       "time(-12)     -0.1225     0.0069    -17.689     0.0000     -0.1360     -0.1089\n",
       "time(-11)     -0.1127     0.0065    -17.460     0.0000     -0.1253     -0.1000\n",
       "time(-10)     -0.1035     0.0066    -15.732     0.0000     -0.1164     -0.0906\n",
       "time(-9)      -0.0846     0.0061    -13.910     0.0000     -0.0965     -0.0726\n",
       "time(-8)      -0.0798     0.0061    -13.002     0.0000     -0.0919     -0.0678\n",
       "time(-7)      -0.0743     0.0060    -12.318     0.0000     -0.0862     -0.0625\n",
       "time(-6)      -0.0558     0.0058    -9.6406     0.0000     -0.0671     -0.0444\n",
       "time(-5)      -0.0417     0.0059    -7.1027     0.0000     -0.0532     -0.0302\n",
       "time(-4)      -0.0340     0.0059    -5.8027     0.0000     -0.0454     -0.0225\n",
       "time(-3)      -0.0186     0.0057    -3.2426     0.0012     -0.0298     -0.0073\n",
       "time(-2)      -0.0085     0.0057    -1.4964     0.1346     -0.0197      0.0026\n",
       "time(0)        0.1595     0.0054     29.792     0.0000      0.1490      0.1700\n",
       "time(1)        0.1720     0.0055     31.546     0.0000      0.1613      0.1827\n",
       "time(2)        0.1830     0.0055     33.559     0.0000      0.1723      0.1937\n",
       "time(3)        0.1898     0.0053     35.482     0.0000      0.1793      0.2003\n",
       "time(4)        0.1974     0.0056     35.169     0.0000      0.1864      0.2084\n",
       "time(5)        0.2101     0.0053     39.417     0.0000      0.1996      0.2205\n",
       "time(6)        0.2184     0.0053     41.247     0.0000      0.2080      0.2288\n",
       "time(7)        0.2300     0.0054     42.885     0.0000      0.2195      0.2405\n",
       "time(8)        0.2440     0.0052     46.718     0.0000      0.2338      0.2543\n",
       "time(9)        0.2529     0.0056     45.499     0.0000      0.2420      0.2638\n",
       "time(10)       0.2623     0.0053     49.377     0.0000      0.2519      0.2727\n",
       "time(11)       0.2745     0.0052     52.687     0.0000      0.2643      0.2847\n",
       "==============================================================================\n",
       "\n",
       "F-test for Poolability: 62.399\n",
       "P-value: 0.0000\n",
       "Distribution: F(2022,45954)\n",
       "\n",
       "Included effects: Entity, Time\n",
       "PanelEffectsResults, id: 0x20c23113a60"
      ]
     },
     "execution_count": 157,
     "metadata": {},
     "output_type": "execute_result"
    }
   ],
   "source": [
    "fe_model_log = PanelOLS(y_log, X, entity_effects=True, time_effects=True).fit(cov_type= \"clustered\", cluster_entity = True)\n",
    "fe_model_log"
   ]
  },
  {
   "cell_type": "code",
   "execution_count": 158,
   "id": "101e6a3a",
   "metadata": {},
   "outputs": [
    {
     "data": {
      "image/png": "[encoded data removed]",
      "text/plain": [
       "<Figure size 1000x700 with 1 Axes>"
      ]
     },
     "metadata": {},
     "output_type": "display_data"
    }
   ],
   "source": [
    "plot_ci_coeff(fe_model_log.params, fe_model_log.conf_int())"
   ]
  },
  {
   "cell_type": "code",
   "execution_count": 159,
   "id": "a2c8b449",
   "metadata": {},
   "outputs": [
    {
     "name": "stdout",
     "output_type": "stream",
     "text": [
      "Formula used for the Wald test \n",
      " time(-12) =time(-11) =time(-10) =time(-9) =time(-8) =time(-7) =time(-6) =time(-5) =time(-4) =time(-3) =time(-2) = 0\n",
      "\n",
      " Results \n",
      " Linear Equality Hypothesis Test\n",
      "H0: Linear equality constraint is valid\n",
      "Statistic: 866.8435\n",
      "P-value: 0.0000\n",
      "Distributed: chi2(11)\n"
     ]
    }
   ],
   "source": [
    "# Get the names of the pre-treatment coefficient variables\n",
    "pre_treatment_vars = [f\"time({i})\" for i in range(-12,-1)]\n",
    "\n",
    "formula = \"\"\n",
    "\n",
    "for i in pre_treatment_vars:\n",
    "    formula += i+\" =\"\n",
    "formula += \" \"+\"0\"\n",
    "\n",
    "wald_res = fe_model_log.wald_test(formula= formula)\n",
    "print(\"Formula used for the Wald test \\n\", formula)\n",
    "print(\"\\n Results \\n\", wald_res)"
   ]
  },
  {
   "cell_type": "markdown",
   "id": "aeb3de40",
   "metadata": {},
   "source": [
    "### Part 4 - Placebo"
   ]
  },
  {
   "cell_type": "markdown",
   "id": "4d126a6d",
   "metadata": {},
   "source": [
    "Re-estimate the main specification (point 4 above) using as placebo treatment 2019Q3 (period 7)."
   ]
  },
  {
   "cell_type": "code",
   "execution_count": 172,
   "id": "bee4e36c",
   "metadata": {},
   "outputs": [],
   "source": [
    "fe_2way_data = data.reset_index().copy()\n",
    "fe_2way_data[\"period\"] += 13\n",
    "\n",
    "fe_2way_data.loc[fe_2way_data[\"period\"]>= 7, \"post\"] = 1\n",
    "fe_2way_data[\"interaction_post\"] = fe_2way_data[\"treat_group\"]*fe_2way_data[\"post\"]\n",
    "\n",
    "fe_2way_data = fe_2way_data.set_index([\"worker_id\", \"period\"])\n",
    "\n",
    "y_2way = fe_2way_data[\"productivity\"]\n",
    "X_2way = fe_2way_data[\"interaction_post\"]"
   ]
  },
  {
   "cell_type": "code",
   "execution_count": 175,
   "id": "33ae4521",
   "metadata": {},
   "outputs": [
    {
     "data": {
      "text/plain": [
       "<Axes: xlabel='worker_id,period'>"
      ]
     },
     "execution_count": 175,
     "metadata": {},
     "output_type": "execute_result"
    },
    {
     "data": {
      "image/png": "[encoded data removed]",
      "text/plain": [
       "<Figure size 640x480 with 1 Axes>"
      ]
     },
     "metadata": {},
     "output_type": "display_data"
    }
   ],
   "source": [
    "fe_2way_data.head(48)[\"post\"].plot()"
   ]
  },
  {
   "cell_type": "code",
   "execution_count": 174,
   "id": "d33b21b4",
   "metadata": {},
   "outputs": [
    {
     "data": {
      "text/html": [
       "<table class=\"simpletable\">\n",
       "<caption>PanelOLS Estimation Summary</caption>\n",
       "<tr>\n",
       "  <th>Dep. Variable:</th>      <td>productivity</td>   <th>  R-squared:         </th>     <td>0.0887</td>  \n",
       "</tr>\n",
       "<tr>\n",
       "  <th>Estimator:</th>            <td>PanelOLS</td>     <th>  R-squared (Between):</th>    <td>0.0581</td>  \n",
       "</tr>\n",
       "<tr>\n",
       "  <th>No. Observations:</th>       <td>48000</td>      <th>  R-squared (Within):</th>     <td>0.1820</td>  \n",
       "</tr>\n",
       "<tr>\n",
       "  <th>Date:</th>             <td>Thu, Apr 17 2025</td> <th>  R-squared (Overall):</th>    <td>0.0597</td>  \n",
       "</tr>\n",
       "<tr>\n",
       "  <th>Time:</th>                 <td>14:42:37</td>     <th>  Log-likelihood     </th>   <td>-1.841e+05</td>\n",
       "</tr>\n",
       "<tr>\n",
       "  <th>Cov. Estimator:</th>       <td>Clustered</td>    <th>                     </th>        <td></td>     \n",
       "</tr>\n",
       "<tr>\n",
       "  <th></th>                          <td></td>         <th>  F-statistic:       </th>     <td>4473.8</td>  \n",
       "</tr>\n",
       "<tr>\n",
       "  <th>Entities:</th>               <td>2000</td>       <th>  P-value            </th>     <td>0.0000</td>  \n",
       "</tr>\n",
       "<tr>\n",
       "  <th>Avg Obs:</th>               <td>24.000</td>      <th>  Distribution:      </th>   <td>F(1,45976)</td>\n",
       "</tr>\n",
       "<tr>\n",
       "  <th>Min Obs:</th>               <td>24.000</td>      <th>                     </th>        <td></td>     \n",
       "</tr>\n",
       "<tr>\n",
       "  <th>Max Obs:</th>               <td>24.000</td>      <th>  F-statistic (robust):</th>   <td>4684.6</td>  \n",
       "</tr>\n",
       "<tr>\n",
       "  <th></th>                          <td></td>         <th>  P-value            </th>     <td>0.0000</td>  \n",
       "</tr>\n",
       "<tr>\n",
       "  <th>Time periods:</th>            <td>24</td>        <th>  Distribution:      </th>   <td>F(1,45976)</td>\n",
       "</tr>\n",
       "<tr>\n",
       "  <th>Avg Obs:</th>               <td>2000.0</td>      <th>                     </th>        <td></td>     \n",
       "</tr>\n",
       "<tr>\n",
       "  <th>Min Obs:</th>               <td>2000.0</td>      <th>                     </th>        <td></td>     \n",
       "</tr>\n",
       "<tr>\n",
       "  <th>Max Obs:</th>               <td>2000.0</td>      <th>                     </th>        <td></td>     \n",
       "</tr>\n",
       "<tr>\n",
       "  <th></th>                          <td></td>         <th>                     </th>        <td></td>     \n",
       "</tr>\n",
       "</table>\n",
       "<table class=\"simpletable\">\n",
       "<caption>Parameter Estimates</caption>\n",
       "<tr>\n",
       "          <td></td>         <th>Parameter</th> <th>Std. Err.</th> <th>T-stat</th> <th>P-value</th> <th>Lower CI</th> <th>Upper CI</th>\n",
       "</tr>\n",
       "<tr>\n",
       "  <th>interaction_post</th>  <td>17.622</td>    <td>0.2575</td>   <td>68.444</td> <td>0.0000</td>   <td>17.118</td>   <td>18.127</td> \n",
       "</tr>\n",
       "</table><br/><br/>F-test for Poolability: 63.138<br/>P-value: 0.0000<br/>Distribution: F(2022,45976)<br/><br/>Included effects: Entity, Time<br/>id: 0x20c4a649ac0"
      ],
      "text/plain": [
       "                          PanelOLS Estimation Summary                           \n",
       "================================================================================\n",
       "Dep. Variable:           productivity   R-squared:                        0.0887\n",
       "Estimator:                   PanelOLS   R-squared (Between):              0.0581\n",
       "No. Observations:               48000   R-squared (Within):               0.1820\n",
       "Date:                Thu, Apr 17 2025   R-squared (Overall):              0.0597\n",
       "Time:                        14:42:37   Log-likelihood                -1.841e+05\n",
       "Cov. Estimator:             Clustered                                           \n",
       "                                        F-statistic:                      4473.8\n",
       "Entities:                        2000   P-value                           0.0000\n",
       "Avg Obs:                       24.000   Distribution:                 F(1,45976)\n",
       "Min Obs:                       24.000                                           \n",
       "Max Obs:                       24.000   F-statistic (robust):             4684.6\n",
       "                                        P-value                           0.0000\n",
       "Time periods:                      24   Distribution:                 F(1,45976)\n",
       "Avg Obs:                       2000.0                                           \n",
       "Min Obs:                       2000.0                                           \n",
       "Max Obs:                       2000.0                                           \n",
       "                                                                                \n",
       "                                Parameter Estimates                                 \n",
       "====================================================================================\n",
       "                  Parameter  Std. Err.     T-stat    P-value    Lower CI    Upper CI\n",
       "------------------------------------------------------------------------------------\n",
       "interaction_post     17.622     0.2575     68.444     0.0000      17.118      18.127\n",
       "====================================================================================\n",
       "\n",
       "F-test for Poolability: 63.138\n",
       "P-value: 0.0000\n",
       "Distribution: F(2022,45976)\n",
       "\n",
       "Included effects: Entity, Time\n",
       "PanelEffectsResults, id: 0x20c4a649ac0"
      ]
     },
     "execution_count": 174,
     "metadata": {},
     "output_type": "execute_result"
    }
   ],
   "source": [
    "fe_model_placebo = PanelOLS(y_2way, X_2way, entity_effects=True, time_effects=True).fit(cov_type= \"clustered\", cluster_entity = True)\n",
    "fe_model_placebo"
   ]
  }
 ],
 "metadata": {
  "kernelspec": {
   "display_name": "base",
   "language": "python",
   "name": "python3"
  },
  "language_info": {
   "codemirror_mode": {
    "name": "ipython",
    "version": 3
   },
   "file_extension": ".py",
   "mimetype": "text/x-python",
   "name": "python",
   "nbconvert_exporter": "python",
   "pygments_lexer": "ipython3",
   "version": "3.9.19"
  }
 },
 "nbformat": 4,
 "nbformat_minor": 5
}
