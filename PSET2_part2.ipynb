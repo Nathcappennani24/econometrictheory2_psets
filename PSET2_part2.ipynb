{
 "cells": [
  {
   "cell_type": "code",
   "execution_count": 1,
   "id": "55e71a72",
   "metadata": {},
   "outputs": [],
   "source": [
    "import pandas as pd \n",
    "\n",
    "import numpy as np \n",
    "import matplotlib.pyplot as plt\n",
    "\n",
    "from scipy import stats\n",
    "import statsmodels.api as sm\n",
    "import statsmodels.formula.api as smf\n",
    "\n",
    "from pandas.api import types"
   ]
  },
  {
   "cell_type": "code",
   "execution_count": 2,
   "id": "df047f00",
   "metadata": {},
   "outputs": [],
   "source": [
    "data = pd.read_csv(\"src/did_training_productivity.csv\", index_col = 0)"
   ]
  },
  {
   "cell_type": "markdown",
   "id": "607ab5a7",
   "metadata": {},
   "source": [
    "Estimate the simple 2x2 Difference-in-Differences (DiD) model without covariates:\n",
    "\n",
    "$$ Y_{it} = \\alpha + \\beta W_i + \\gamma \\text{Post}_t + \\theta (W_i \\times \\text{Post}_t) + \\epsilon_{it} $$\n",
    "\n",
    "Report results for both the extensive margin treatment and intensive margin (replace treatment indicator with hours)."
   ]
  },
  {
   "cell_type": "code",
   "execution_count": 3,
   "id": "b72a0a75",
   "metadata": {},
   "outputs": [],
   "source": [
    "# extensive margin_treatment\n",
    "data22 = data.copy()\n",
    "data22[\"interaction_post\"] = data22[\"post\"]*data22[\"treat_group\"]\n",
    "\n",
    "y = data22[\"productivity\"]\n",
    "X_extensive = data22[[\"treat_group\",\"post\", \"interaction_post\"]]\n",
    "\n",
    "did22_extensive = sm.OLS(y, sm.add_constant(X_extensive)).fit()"
   ]
  },
  {
   "cell_type": "code",
   "execution_count": 4,
   "id": "d7be93b1",
   "metadata": {},
   "outputs": [
    {
     "data": {
      "text/html": [
       "<table class=\"simpletable\">\n",
       "<caption>OLS Regression Results</caption>\n",
       "<tr>\n",
       "  <th>Dep. Variable:</th>      <td>productivity</td>   <th>  R-squared:         </th>  <td>   0.291</td>  \n",
       "</tr>\n",
       "<tr>\n",
       "  <th>Model:</th>                   <td>OLS</td>       <th>  Adj. R-squared:    </th>  <td>   0.291</td>  \n",
       "</tr>\n",
       "<tr>\n",
       "  <th>Method:</th>             <td>Least Squares</td>  <th>  F-statistic:       </th>  <td>   1828.</td>  \n",
       "</tr>\n",
       "<tr>\n",
       "  <th>Date:</th>             <td>Sun, 06 Apr 2025</td> <th>  Prob (F-statistic):</th>   <td>  0.00</td>   \n",
       "</tr>\n",
       "<tr>\n",
       "  <th>Time:</th>                 <td>22:03:06</td>     <th>  Log-Likelihood:    </th> <td>-2.1204e+05</td>\n",
       "</tr>\n",
       "<tr>\n",
       "  <th>No. Observations:</th>      <td> 48000</td>      <th>  AIC:               </th>  <td>4.241e+05</td> \n",
       "</tr>\n",
       "<tr>\n",
       "  <th>Df Residuals:</th>          <td> 47996</td>      <th>  BIC:               </th>  <td>4.241e+05</td> \n",
       "</tr>\n",
       "<tr>\n",
       "  <th>Df Model:</th>              <td>     3</td>      <th>                     </th>      <td> </td>     \n",
       "</tr>\n",
       "<tr>\n",
       "  <th>Covariance Type:</th>         <td>HAC</td>       <th>                     </th>      <td> </td>     \n",
       "</tr>\n",
       "</table>\n",
       "<table class=\"simpletable\">\n",
       "<tr>\n",
       "          <td></td>            <th>coef</th>     <th>std err</th>      <th>t</th>      <th>P>|t|</th>  <th>[0.025</th>    <th>0.975]</th>  \n",
       "</tr>\n",
       "<tr>\n",
       "  <th>const</th>            <td>  126.5662</td> <td>    0.401</td> <td>  315.261</td> <td> 0.000</td> <td>  125.779</td> <td>  127.353</td>\n",
       "</tr>\n",
       "<tr>\n",
       "  <th>treat_group</th>      <td>    2.8069</td> <td>    0.757</td> <td>    3.706</td> <td> 0.000</td> <td>    1.323</td> <td>    4.291</td>\n",
       "</tr>\n",
       "<tr>\n",
       "  <th>post</th>             <td>   13.0608</td> <td>    0.369</td> <td>   35.358</td> <td> 0.000</td> <td>   12.337</td> <td>   13.785</td>\n",
       "</tr>\n",
       "<tr>\n",
       "  <th>interaction_post</th> <td>   22.4094</td> <td>    0.699</td> <td>   32.040</td> <td> 0.000</td> <td>   21.039</td> <td>   23.780</td>\n",
       "</tr>\n",
       "</table>\n",
       "<table class=\"simpletable\">\n",
       "<tr>\n",
       "  <th>Omnibus:</th>       <td> 7.125</td> <th>  Durbin-Watson:     </th> <td>   0.679</td>\n",
       "</tr>\n",
       "<tr>\n",
       "  <th>Prob(Omnibus):</th> <td> 0.028</td> <th>  Jarque-Bera (JB):  </th> <td>   7.108</td>\n",
       "</tr>\n",
       "<tr>\n",
       "  <th>Skew:</th>          <td>-0.025</td> <th>  Prob(JB):          </th> <td>  0.0286</td>\n",
       "</tr>\n",
       "<tr>\n",
       "  <th>Kurtosis:</th>      <td> 2.969</td> <th>  Cond. No.          </th> <td>    6.35</td>\n",
       "</tr>\n",
       "</table><br/><br/>Notes:<br/>[1] Standard Errors are heteroscedasticity and autocorrelation robust (HAC) using 24 lags and without small sample correction"
      ],
      "text/plain": [
       "<class 'statsmodels.iolib.summary.Summary'>\n",
       "\"\"\"\n",
       "                            OLS Regression Results                            \n",
       "==============================================================================\n",
       "Dep. Variable:           productivity   R-squared:                       0.291\n",
       "Model:                            OLS   Adj. R-squared:                  0.291\n",
       "Method:                 Least Squares   F-statistic:                     1828.\n",
       "Date:                Sun, 06 Apr 2025   Prob (F-statistic):               0.00\n",
       "Time:                        22:03:06   Log-Likelihood:            -2.1204e+05\n",
       "No. Observations:               48000   AIC:                         4.241e+05\n",
       "Df Residuals:                   47996   BIC:                         4.241e+05\n",
       "Df Model:                           3                                         \n",
       "Covariance Type:                  HAC                                         \n",
       "====================================================================================\n",
       "                       coef    std err          t      P>|t|      [0.025      0.975]\n",
       "------------------------------------------------------------------------------------\n",
       "const              126.5662      0.401    315.261      0.000     125.779     127.353\n",
       "treat_group          2.8069      0.757      3.706      0.000       1.323       4.291\n",
       "post                13.0608      0.369     35.358      0.000      12.337      13.785\n",
       "interaction_post    22.4094      0.699     32.040      0.000      21.039      23.780\n",
       "==============================================================================\n",
       "Omnibus:                        7.125   Durbin-Watson:                   0.679\n",
       "Prob(Omnibus):                  0.028   Jarque-Bera (JB):                7.108\n",
       "Skew:                          -0.025   Prob(JB):                       0.0286\n",
       "Kurtosis:                       2.969   Cond. No.                         6.35\n",
       "==============================================================================\n",
       "\n",
       "Notes:\n",
       "[1] Standard Errors are heteroscedasticity and autocorrelation robust (HAC) using 24 lags and without small sample correction\n",
       "\"\"\""
      ]
     },
     "execution_count": 4,
     "metadata": {},
     "output_type": "execute_result"
    }
   ],
   "source": [
    "did22_extensive.get_robustcov_results(cov_type = \"HAC\", maxlags = 24).summary()"
   ]
  },
  {
   "cell_type": "code",
   "execution_count": 5,
   "id": "bf14117c",
   "metadata": {},
   "outputs": [],
   "source": [
    "data22[\"interaction_hours\"] = data22[\"post\"]*data22[\"treat_hours\"]\n",
    "X_intensive = data22[[\"treat_group\",\"post\", \"interaction_hours\"]]\n",
    "\n",
    "did22_intensive = sm.OLS(y, sm.add_constant(X_intensive)).fit()"
   ]
  },
  {
   "cell_type": "code",
   "execution_count": 6,
   "id": "0e623485",
   "metadata": {},
   "outputs": [
    {
     "data": {
      "text/html": [
       "<table class=\"simpletable\">\n",
       "<caption>OLS Regression Results</caption>\n",
       "<tr>\n",
       "  <th>Dep. Variable:</th>      <td>productivity</td>   <th>  R-squared:         </th>  <td>   0.289</td>  \n",
       "</tr>\n",
       "<tr>\n",
       "  <th>Model:</th>                   <td>OLS</td>       <th>  Adj. R-squared:    </th>  <td>   0.289</td>  \n",
       "</tr>\n",
       "<tr>\n",
       "  <th>Method:</th>             <td>Least Squares</td>  <th>  F-statistic:       </th>  <td>   1871.</td>  \n",
       "</tr>\n",
       "<tr>\n",
       "  <th>Date:</th>             <td>Sun, 06 Apr 2025</td> <th>  Prob (F-statistic):</th>   <td>  0.00</td>   \n",
       "</tr>\n",
       "<tr>\n",
       "  <th>Time:</th>                 <td>22:03:08</td>     <th>  Log-Likelihood:    </th> <td>-2.1211e+05</td>\n",
       "</tr>\n",
       "<tr>\n",
       "  <th>No. Observations:</th>      <td> 48000</td>      <th>  AIC:               </th>  <td>4.242e+05</td> \n",
       "</tr>\n",
       "<tr>\n",
       "  <th>Df Residuals:</th>          <td> 47996</td>      <th>  BIC:               </th>  <td>4.243e+05</td> \n",
       "</tr>\n",
       "<tr>\n",
       "  <th>Df Model:</th>              <td>     3</td>      <th>                     </th>      <td> </td>     \n",
       "</tr>\n",
       "<tr>\n",
       "  <th>Covariance Type:</th>         <td>HAC</td>       <th>                     </th>      <td> </td>     \n",
       "</tr>\n",
       "</table>\n",
       "<table class=\"simpletable\">\n",
       "<tr>\n",
       "          <td></td>             <th>coef</th>     <th>std err</th>      <th>t</th>      <th>P>|t|</th>  <th>[0.025</th>    <th>0.975]</th>  \n",
       "</tr>\n",
       "<tr>\n",
       "  <th>const</th>             <td>  126.2771</td> <td>    0.399</td> <td>  316.236</td> <td> 0.000</td> <td>  125.494</td> <td>  127.060</td>\n",
       "</tr>\n",
       "<tr>\n",
       "  <th>treat_group</th>       <td>    3.7724</td> <td>    0.743</td> <td>    5.078</td> <td> 0.000</td> <td>    2.316</td> <td>    5.228</td>\n",
       "</tr>\n",
       "<tr>\n",
       "  <th>post</th>              <td>   13.6391</td> <td>    0.359</td> <td>   37.992</td> <td> 0.000</td> <td>   12.935</td> <td>   14.343</td>\n",
       "</tr>\n",
       "<tr>\n",
       "  <th>interaction_hours</th> <td>    1.0285</td> <td>    0.031</td> <td>   32.745</td> <td> 0.000</td> <td>    0.967</td> <td>    1.090</td>\n",
       "</tr>\n",
       "</table>\n",
       "<table class=\"simpletable\">\n",
       "<tr>\n",
       "  <th>Omnibus:</th>       <td> 6.823</td> <th>  Durbin-Watson:     </th> <td>   0.682</td>\n",
       "</tr>\n",
       "<tr>\n",
       "  <th>Prob(Omnibus):</th> <td> 0.033</td> <th>  Jarque-Bera (JB):  </th> <td>   6.821</td>\n",
       "</tr>\n",
       "<tr>\n",
       "  <th>Skew:</th>          <td>-0.026</td> <th>  Prob(JB):          </th> <td>  0.0330</td>\n",
       "</tr>\n",
       "<tr>\n",
       "  <th>Kurtosis:</th>      <td> 2.972</td> <th>  Cond. No.          </th> <td>    27.2</td>\n",
       "</tr>\n",
       "</table><br/><br/>Notes:<br/>[1] Standard Errors are heteroscedasticity and autocorrelation robust (HAC) using 24 lags and without small sample correction"
      ],
      "text/plain": [
       "<class 'statsmodels.iolib.summary.Summary'>\n",
       "\"\"\"\n",
       "                            OLS Regression Results                            \n",
       "==============================================================================\n",
       "Dep. Variable:           productivity   R-squared:                       0.289\n",
       "Model:                            OLS   Adj. R-squared:                  0.289\n",
       "Method:                 Least Squares   F-statistic:                     1871.\n",
       "Date:                Sun, 06 Apr 2025   Prob (F-statistic):               0.00\n",
       "Time:                        22:03:08   Log-Likelihood:            -2.1211e+05\n",
       "No. Observations:               48000   AIC:                         4.242e+05\n",
       "Df Residuals:                   47996   BIC:                         4.243e+05\n",
       "Df Model:                           3                                         \n",
       "Covariance Type:                  HAC                                         \n",
       "=====================================================================================\n",
       "                        coef    std err          t      P>|t|      [0.025      0.975]\n",
       "-------------------------------------------------------------------------------------\n",
       "const               126.2771      0.399    316.236      0.000     125.494     127.060\n",
       "treat_group           3.7724      0.743      5.078      0.000       2.316       5.228\n",
       "post                 13.6391      0.359     37.992      0.000      12.935      14.343\n",
       "interaction_hours     1.0285      0.031     32.745      0.000       0.967       1.090\n",
       "==============================================================================\n",
       "Omnibus:                        6.823   Durbin-Watson:                   0.682\n",
       "Prob(Omnibus):                  0.033   Jarque-Bera (JB):                6.821\n",
       "Skew:                          -0.026   Prob(JB):                       0.0330\n",
       "Kurtosis:                       2.972   Cond. No.                         27.2\n",
       "==============================================================================\n",
       "\n",
       "Notes:\n",
       "[1] Standard Errors are heteroscedasticity and autocorrelation robust (HAC) using 24 lags and without small sample correction\n",
       "\"\"\""
      ]
     },
     "execution_count": 6,
     "metadata": {},
     "output_type": "execute_result"
    }
   ],
   "source": [
    "did22_intensive.get_robustcov_results(cov_type = \"HAC\", maxlags = 24).summary()"
   ]
  },
  {
   "cell_type": "markdown",
   "id": "8964f903",
   "metadata": {},
   "source": [
    "Estimate the two-way fixed effects model:\n",
    "\n",
    "$$ Y_{it} = \\alpha_i + \\delta_t + \\theta (W_i \\times \\text{Post}_t) + \\epsilon_{it} $$\n",
    "\n",
    "Compare results with the simple DiD."
   ]
  },
  {
   "cell_type": "code",
   "execution_count": 7,
   "id": "8aaaa5b6",
   "metadata": {},
   "outputs": [],
   "source": [
    "fe_2way_data = data22.reset_index().copy()\n",
    "fe_2way_data = fe_2way_data[[\"worker_id\", \"period\", \"interaction_post\", \"productivity\"]].copy()"
   ]
  },
  {
   "cell_type": "code",
   "execution_count": 8,
   "id": "80d47488",
   "metadata": {},
   "outputs": [],
   "source": [
    "fe_2way_data = pd.get_dummies(data = fe_2way_data, \n",
    "                              columns= [\"worker_id\"],\n",
    "                              drop_first= True)\n",
    "\n",
    "fe_2way_data = pd.get_dummies(data = fe_2way_data,\n",
    "                              columns= [\"period\"],\n",
    "                              drop_first= False)"
   ]
  },
  {
   "cell_type": "code",
   "execution_count": 9,
   "id": "b326c095",
   "metadata": {},
   "outputs": [],
   "source": [
    "fe_2way_data_X = fe_2way_data.drop([\"period_12\", \"productivity\"], axis = 1)\n",
    "fe_2way_data_y = fe_2way_data[\"productivity\"]"
   ]
  },
  {
   "cell_type": "code",
   "execution_count": 20,
   "id": "1e237ecd",
   "metadata": {},
   "outputs": [],
   "source": [
    "fe = sm.OLS(fe_2way_data_y, fe_2way_data_X).fit()"
   ]
  },
  {
   "cell_type": "code",
   "execution_count": 21,
   "id": "615c6a6f",
   "metadata": {},
   "outputs": [
    {
     "data": {
      "text/plain": [
       "(22.219668108466173, 0.0)"
      ]
     },
     "execution_count": 21,
     "metadata": {},
     "output_type": "execute_result"
    }
   ],
   "source": [
    "(fe.params[\"interaction_post\"],fe.pvalues[\"interaction_post\"])\n"
   ]
  },
  {
   "cell_type": "code",
   "execution_count": null,
   "id": "3dfdc5c5",
   "metadata": {},
   "outputs": [
    {
     "data": {
      "text/plain": [
       "(22.409441823187223, 0.0)"
      ]
     },
     "execution_count": 22,
     "metadata": {},
     "output_type": "execute_result"
    }
   ],
   "source": [
    "(did22_extensive.params[\"interaction_post\"], did22_extensive.pvalues[\"interaction_post\"])"
   ]
  },
  {
   "cell_type": "code",
   "execution_count": 18,
   "id": "2e3d4fad",
   "metadata": {},
   "outputs": [
    {
     "data": {
      "text/plain": [
       "(0.29118589729046374, 0.993801310438346)"
      ]
     },
     "execution_count": 18,
     "metadata": {},
     "output_type": "execute_result"
    }
   ],
   "source": [
    "(did22_extensive.rsquared,fe.rsquared)"
   ]
  },
  {
   "cell_type": "markdown",
   "id": "c81eb14f",
   "metadata": {},
   "source": [
    "Conduct randomization inference:\n",
    "\n",
    "(a) Randomly reassign treatment status 500 times\n",
    "\n",
    "(b) Estimate the placebo treatment effect each time\n",
    "\n",
    "(c) Compare your actual estimate to this distribution\n",
    "\n",
    "(d) Calculate the p-value as the proportion of placebo effects larger\n",
    "in absolute value than your estimate"
   ]
  },
  {
   "cell_type": "code",
   "execution_count": 24,
   "id": "933c2ff9",
   "metadata": {},
   "outputs": [
    {
     "data": {
      "text/plain": [
       "Index(['period', 'female', 'mothers_educ', 'technical', 'immigrant',\n",
       "       'base_productivity', 'treat_group', 'tenure', 'prev_performance',\n",
       "       'team_size', 'manager_exp', 'post', 'treated', 'treat_hours',\n",
       "       'productivity', 'log_productivity'],\n",
       "      dtype='object')"
      ]
     },
     "execution_count": 24,
     "metadata": {},
     "output_type": "execute_result"
    }
   ],
   "source": [
    "data.columns"
   ]
  },
  {
   "cell_type": "code",
   "execution_count": null,
   "id": "4ce7df5d",
   "metadata": {},
   "outputs": [],
   "source": [
    "# Number of permutations that I will run to carry out the randomization inference\n",
    "\n",
    "# NOTE: this code is not efficient\n",
    "\n",
    "num_permutations = 500\n",
    "\n",
    "df_notreatment = data.copy()\n",
    "df_notreatment = df_notreatment.drop([\"treat_group\"], axis = 1)\n",
    "\n",
    "n_subjects = data[\"treat_group\"].sum()\n",
    "\n",
    "intpost_coefficients = []\n",
    "treat_coefficients = []\n",
    "\n",
    "for i in range(num_permutations):\n",
    "    # Creates a permuted version of the DataFrame by randomly shuffling the rows without replacement\n",
    "    permuted_df = df_notreatment.sample(frac=1, replace=False)\n",
    "\n",
    "    # I assign to this variable the number of units to which I will have to assign the treatment in the MC simulation \n",
    "    # n_treatment = number of subjects that received treatment\n",
    "    n_treatment = n_subjects\n",
    "\n",
    "    # I assign to the first \"n_treatment\" rows of the permuted dataframe the treatment\n",
    "    treatment_df = permuted_df.copy().iloc[:n_treatment]\n",
    "    treatment_df[\"treat_group\"] =  1\n",
    "\n",
    "    # I leave the remaining entries untreated\n",
    "    no_treatment_df = permuted_df.copy().iloc[n_treatment:]\n",
    "    no_treatment_df[\"treat_group\"] = 0\n",
    "\n",
    "    # I concatenate the treatment and non-treatment dataframe\n",
    "    # I do this, so that then I can run my function to estimate the coefficient of the treatment dummy\n",
    "    permuted_df = pd.concat([treatment_df, no_treatment_df], axis = 0)\n",
    "\n",
    "    # I estimate the treatment coefficient\n",
    "    permuted_df[\"interaction_post\"] = permuted_df[\"post\"]*permuted_df[\"treat_group\"]\n",
    "    X_ri = permuted_df[[\"treat_group\",\"post\", \"interaction_post\"]]\n",
    "    y_ri = permuted_df[\"productivity\"]\n",
    "\n",
    "    reg = sm.OLS(y_ri, sm.add_constant(X_ri)).fit()\n",
    "    \n",
    "    intpost_coefficient = reg.params['interaction_post']\n",
    "    intpost_coefficients.append(intpost_coefficient)\n",
    "\n",
    "    treat_group_coefficient = reg.params['treat_group']\n",
    "    treat_coefficients.append(treat_group_coefficient)"
   ]
  },
  {
   "cell_type": "code",
   "execution_count": 38,
   "id": "25489d19",
   "metadata": {},
   "outputs": [
    {
     "data": {
      "text/plain": [
       "100.0"
      ]
     },
     "execution_count": 38,
     "metadata": {},
     "output_type": "execute_result"
    }
   ],
   "source": [
    "stats.percentileofscore(intpost_coefficients,did22_extensive.params[\"interaction_post\"])"
   ]
  },
  {
   "cell_type": "code",
   "execution_count": 40,
   "id": "e829c60a",
   "metadata": {},
   "outputs": [
    {
     "data": {
      "text/plain": [
       "100.0"
      ]
     },
     "execution_count": 40,
     "metadata": {},
     "output_type": "execute_result"
    }
   ],
   "source": [
    "stats.percentileofscore(treat_coefficients,did22_extensive.params[\"treat_group\"])"
   ]
  },
  {
   "cell_type": "code",
   "execution_count": 39,
   "id": "864d0304",
   "metadata": {},
   "outputs": [
    {
     "data": {
      "text/plain": [
       "100.0"
      ]
     },
     "execution_count": 39,
     "metadata": {},
     "output_type": "execute_result"
    }
   ],
   "source": [
    "stats.percentileofscore(intpost_coefficients,fe.params[\"interaction_post\"])"
   ]
  }
 ],
 "metadata": {
  "kernelspec": {
   "display_name": "base",
   "language": "python",
   "name": "python3"
  },
  "language_info": {
   "codemirror_mode": {
    "name": "ipython",
    "version": 3
   },
   "file_extension": ".py",
   "mimetype": "text/x-python",
   "name": "python",
   "nbconvert_exporter": "python",
   "pygments_lexer": "ipython3",
   "version": "3.11.4"
  }
 },
 "nbformat": 4,
 "nbformat_minor": 5
}
