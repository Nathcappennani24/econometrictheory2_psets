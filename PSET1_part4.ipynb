{
 "cells": [
  {
   "cell_type": "code",
   "execution_count": 43,
   "id": "3d6a76ae",
   "metadata": {},
   "outputs": [],
   "source": [
    "import pandas as pd \n",
    "\n",
    "import numpy as np \n",
    "import matplotlib.pyplot as plt\n",
    "\n",
    "from scipy import stats\n",
    "import statsmodels.api as sm\n",
    "import statsmodels.formula.api as smf\n",
    "\n",
    "from pandas.api import types\n",
    "\n",
    "from linearmodels import PanelOLS\n"
   ]
  },
  {
   "cell_type": "code",
   "execution_count": 44,
   "id": "d929e9a1",
   "metadata": {},
   "outputs": [],
   "source": [
    "data = pd.read_csv(\"src/did_training_productivity.csv\", index_col = 0)\n",
    "data[\"period\"] -= 13"
   ]
  },
  {
   "cell_type": "markdown",
   "id": "8c422806",
   "metadata": {},
   "source": [
    "Estimate the dynamic specification with $K$ pretreatment leads:\n",
    "\n",
    "$$Y_{it} = \\alpha_i + \\delta_t + \\sum_{\\tau=-K}^{-1} \\delta_{\\tau} W_i + \\epsilon_{it}$$"
   ]
  },
  {
   "cell_type": "code",
   "execution_count": 45,
   "id": "337bfeee",
   "metadata": {},
   "outputs": [],
   "source": [
    "reg_data = data[[\"treat_group\", \"period\", \"productivity\", \"log_productivity\"]].reset_index().copy()\n",
    "\n",
    "for i in range(-12,0):\n",
    "    reg_data[f\"time({i})\"] = 0\n",
    "    reg_data.loc[(reg_data[\"treat_group\"] == 1)&(reg_data[\"period\"]==i),f\"time({i})\"] = 1\n",
    "\n",
    "reg_data = reg_data.set_index([\"worker_id\", \"period\"])"
   ]
  },
  {
   "cell_type": "code",
   "execution_count": 46,
   "id": "c272c678",
   "metadata": {},
   "outputs": [],
   "source": [
    "y = reg_data[\"productivity\"]\n",
    "\n",
    "X = reg_data.drop([\"productivity\", \"log_productivity\", \"treat_group\"], axis = 1)"
   ]
  },
  {
   "cell_type": "code",
   "execution_count": 47,
   "id": "43c453e9",
   "metadata": {},
   "outputs": [
    {
     "data": {
      "text/html": [
       "<table class=\"simpletable\">\n",
       "<caption>PanelOLS Estimation Summary</caption>\n",
       "<tr>\n",
       "  <th>Dep. Variable:</th>      <td>productivity</td>   <th>  R-squared:         </th>     <td>0.1988</td>   \n",
       "</tr>\n",
       "<tr>\n",
       "  <th>Estimator:</th>            <td>PanelOLS</td>     <th>  R-squared (Between):</th>    <td>-0.0535</td>  \n",
       "</tr>\n",
       "<tr>\n",
       "  <th>No. Observations:</th>       <td>48000</td>      <th>  R-squared (Within):</th>     <td>0.3362</td>   \n",
       "</tr>\n",
       "<tr>\n",
       "  <th>Date:</th>             <td>Thu, Apr 17 2025</td> <th>  R-squared (Overall):</th>    <td>-0.0483</td>  \n",
       "</tr>\n",
       "<tr>\n",
       "  <th>Time:</th>                 <td>15:28:41</td>     <th>  Log-likelihood     </th>    <td>-1.81e+05</td> \n",
       "</tr>\n",
       "<tr>\n",
       "  <th>Cov. Estimator:</th>       <td>Clustered</td>    <th>                     </th>        <td></td>      \n",
       "</tr>\n",
       "<tr>\n",
       "  <th></th>                          <td></td>         <th>  F-statistic:       </th>     <td>950.64</td>   \n",
       "</tr>\n",
       "<tr>\n",
       "  <th>Entities:</th>               <td>2000</td>       <th>  P-value            </th>     <td>0.0000</td>   \n",
       "</tr>\n",
       "<tr>\n",
       "  <th>Avg Obs:</th>               <td>24.000</td>      <th>  Distribution:      </th>   <td>F(12,45965)</td>\n",
       "</tr>\n",
       "<tr>\n",
       "  <th>Min Obs:</th>               <td>24.000</td>      <th>                     </th>        <td></td>      \n",
       "</tr>\n",
       "<tr>\n",
       "  <th>Max Obs:</th>               <td>24.000</td>      <th>  F-statistic (robust):</th>   <td>912.27</td>   \n",
       "</tr>\n",
       "<tr>\n",
       "  <th></th>                          <td></td>         <th>  P-value            </th>     <td>0.0000</td>   \n",
       "</tr>\n",
       "<tr>\n",
       "  <th>Time periods:</th>            <td>24</td>        <th>  Distribution:      </th>   <td>F(12,45965)</td>\n",
       "</tr>\n",
       "<tr>\n",
       "  <th>Avg Obs:</th>               <td>2000.0</td>      <th>                     </th>        <td></td>      \n",
       "</tr>\n",
       "<tr>\n",
       "  <th>Min Obs:</th>               <td>2000.0</td>      <th>                     </th>        <td></td>      \n",
       "</tr>\n",
       "<tr>\n",
       "  <th>Max Obs:</th>               <td>2000.0</td>      <th>                     </th>        <td></td>      \n",
       "</tr>\n",
       "<tr>\n",
       "  <th></th>                          <td></td>         <th>                     </th>        <td></td>      \n",
       "</tr>\n",
       "</table>\n",
       "<table class=\"simpletable\">\n",
       "<caption>Parameter Estimates</caption>\n",
       "<tr>\n",
       "      <td></td>      <th>Parameter</th> <th>Std. Err.</th> <th>T-stat</th>  <th>P-value</th> <th>Lower CI</th> <th>Upper CI</th>\n",
       "</tr>\n",
       "<tr>\n",
       "  <th>time(-12)</th>  <td>-24.655</td>   <td>0.6001</td>   <td>-41.085</td> <td>0.0000</td>   <td>-25.832</td>  <td>-23.479</td>\n",
       "</tr>\n",
       "<tr>\n",
       "  <th>time(-11)</th>  <td>-24.693</td>   <td>0.5877</td>   <td>-42.016</td> <td>0.0000</td>   <td>-25.845</td>  <td>-23.541</td>\n",
       "</tr>\n",
       "<tr>\n",
       "  <th>time(-10)</th>  <td>-24.554</td>   <td>0.5718</td>   <td>-42.940</td> <td>0.0000</td>   <td>-25.675</td>  <td>-23.433</td>\n",
       "</tr>\n",
       "<tr>\n",
       "  <th>time(-9)</th>   <td>-23.685</td>   <td>0.5872</td>   <td>-40.333</td> <td>0.0000</td>   <td>-24.836</td>  <td>-22.534</td>\n",
       "</tr>\n",
       "<tr>\n",
       "  <th>time(-8)</th>   <td>-24.227</td>   <td>0.5425</td>   <td>-44.663</td> <td>0.0000</td>   <td>-25.291</td>  <td>-23.164</td>\n",
       "</tr>\n",
       "<tr>\n",
       "  <th>time(-7)</th>   <td>-24.715</td>   <td>0.5578</td>   <td>-44.311</td> <td>0.0000</td>   <td>-25.808</td>  <td>-23.622</td>\n",
       "</tr>\n",
       "<tr>\n",
       "  <th>time(-6)</th>   <td>-23.730</td>   <td>0.5416</td>   <td>-43.812</td> <td>0.0000</td>   <td>-24.792</td>  <td>-22.669</td>\n",
       "</tr>\n",
       "<tr>\n",
       "  <th>time(-5)</th>   <td>-23.256</td>   <td>0.5524</td>   <td>-42.098</td> <td>0.0000</td>   <td>-24.339</td>  <td>-22.173</td>\n",
       "</tr>\n",
       "<tr>\n",
       "  <th>time(-4)</th>   <td>-23.408</td>   <td>0.5600</td>   <td>-41.802</td> <td>0.0000</td>   <td>-24.505</td>  <td>-22.310</td>\n",
       "</tr>\n",
       "<tr>\n",
       "  <th>time(-3)</th>   <td>-20.032</td>   <td>0.5402</td>   <td>-37.084</td> <td>0.0000</td>   <td>-21.091</td>  <td>-18.974</td>\n",
       "</tr>\n",
       "<tr>\n",
       "  <th>time(-2)</th>   <td>-17.284</td>   <td>0.5678</td>   <td>-30.439</td> <td>0.0000</td>   <td>-18.397</td>  <td>-16.171</td>\n",
       "</tr>\n",
       "<tr>\n",
       "  <th>time(-1)</th>   <td>-14.673</td>   <td>0.5840</td>   <td>-25.126</td> <td>0.0000</td>   <td>-15.818</td>  <td>-13.529</td>\n",
       "</tr>\n",
       "</table><br/><br/>F-test for Poolability: 89.814<br/>P-value: 0.0000<br/>Distribution: F(2022,45965)<br/><br/>Included effects: Entity, Time<br/>id: 0x20bd367ef40"
      ],
      "text/plain": [
       "                          PanelOLS Estimation Summary                           \n",
       "================================================================================\n",
       "Dep. Variable:           productivity   R-squared:                        0.1988\n",
       "Estimator:                   PanelOLS   R-squared (Between):             -0.0535\n",
       "No. Observations:               48000   R-squared (Within):               0.3362\n",
       "Date:                Thu, Apr 17 2025   R-squared (Overall):             -0.0483\n",
       "Time:                        15:28:41   Log-likelihood                 -1.81e+05\n",
       "Cov. Estimator:             Clustered                                           \n",
       "                                        F-statistic:                      950.64\n",
       "Entities:                        2000   P-value                           0.0000\n",
       "Avg Obs:                       24.000   Distribution:                F(12,45965)\n",
       "Min Obs:                       24.000                                           \n",
       "Max Obs:                       24.000   F-statistic (robust):             912.27\n",
       "                                        P-value                           0.0000\n",
       "Time periods:                      24   Distribution:                F(12,45965)\n",
       "Avg Obs:                       2000.0                                           \n",
       "Min Obs:                       2000.0                                           \n",
       "Max Obs:                       2000.0                                           \n",
       "                                                                                \n",
       "                             Parameter Estimates                              \n",
       "==============================================================================\n",
       "            Parameter  Std. Err.     T-stat    P-value    Lower CI    Upper CI\n",
       "------------------------------------------------------------------------------\n",
       "time(-12)     -24.655     0.6001    -41.085     0.0000     -25.832     -23.479\n",
       "time(-11)     -24.693     0.5877    -42.016     0.0000     -25.845     -23.541\n",
       "time(-10)     -24.554     0.5718    -42.940     0.0000     -25.675     -23.433\n",
       "time(-9)      -23.685     0.5872    -40.333     0.0000     -24.836     -22.534\n",
       "time(-8)      -24.227     0.5425    -44.663     0.0000     -25.291     -23.164\n",
       "time(-7)      -24.715     0.5578    -44.311     0.0000     -25.808     -23.622\n",
       "time(-6)      -23.730     0.5416    -43.812     0.0000     -24.792     -22.669\n",
       "time(-5)      -23.256     0.5524    -42.098     0.0000     -24.339     -22.173\n",
       "time(-4)      -23.408     0.5600    -41.802     0.0000     -24.505     -22.310\n",
       "time(-3)      -20.032     0.5402    -37.084     0.0000     -21.091     -18.974\n",
       "time(-2)      -17.284     0.5678    -30.439     0.0000     -18.397     -16.171\n",
       "time(-1)      -14.673     0.5840    -25.126     0.0000     -15.818     -13.529\n",
       "==============================================================================\n",
       "\n",
       "F-test for Poolability: 89.814\n",
       "P-value: 0.0000\n",
       "Distribution: F(2022,45965)\n",
       "\n",
       "Included effects: Entity, Time\n",
       "PanelEffectsResults, id: 0x20bd367ef40"
      ]
     },
     "execution_count": 47,
     "metadata": {},
     "output_type": "execute_result"
    }
   ],
   "source": [
    "fe_model = PanelOLS(y, X, entity_effects=True, time_effects=True).fit(cov_type= \"clustered\", cluster_entity = True)\n",
    "fe_model"
   ]
  },
  {
   "cell_type": "markdown",
   "id": "f42577db",
   "metadata": {},
   "source": [
    "Calculate the maximal pre-trend violation:\n",
    "\n",
    "$$M = \\max_{\\tau \\in [-K, -1]} |\\delta_{\\tau}|$$"
   ]
  },
  {
   "cell_type": "code",
   "execution_count": 48,
   "id": "45d5eb33",
   "metadata": {},
   "outputs": [
    {
     "data": {
      "text/plain": [
       "24.71498779951925"
      ]
     },
     "execution_count": 48,
     "metadata": {},
     "output_type": "execute_result"
    }
   ],
   "source": [
    "M = np.abs(fe_model.params).max()\n",
    "\n",
    "M"
   ]
  },
  {
   "cell_type": "markdown",
   "id": "b892722d",
   "metadata": {},
   "source": [
    "Compute the bias-adjusted treatment effect by subtracting the linear extrapolation of the worst-case violation:\n",
    "\n",
    "$$\\hat{\\theta}^{adj} = \\hat{\\theta} - \\lambda M$$\n",
    "\n",
    "where $\\hat{\\theta}$ comes from estimation in point 4 above, and $\\lambda$ is the post-treatment period length (e.g., $\\lambda = 1$ for first post-period)."
   ]
  },
  {
   "cell_type": "code",
   "execution_count": 49,
   "id": "17b855eb",
   "metadata": {},
   "outputs": [],
   "source": [
    "fe_2way_data = data.reset_index().copy()\n",
    "\n",
    "fe_2way_data = fe_2way_data.set_index([\"worker_id\", \"period\"])\n",
    "\n",
    "y_2way = fe_2way_data[\"productivity\"]\n",
    "\n",
    "fe_2way_data[\"interaction_post\"] = fe_2way_data[\"post\"]*fe_2way_data[\"treat_group\"]\n",
    "X_2way = fe_2way_data[\"interaction_post\"]"
   ]
  },
  {
   "cell_type": "code",
   "execution_count": 50,
   "id": "16cc4376",
   "metadata": {},
   "outputs": [],
   "source": [
    "fe_model_og = PanelOLS(y_2way, X_2way, entity_effects=True, time_effects=True).fit(cov_type= \"clustered\", cluster_entity = True)"
   ]
  },
  {
   "cell_type": "code",
   "execution_count": 51,
   "id": "5911d198",
   "metadata": {},
   "outputs": [],
   "source": [
    "theta_hat = fe_model_og.params.iloc[0]"
   ]
  },
  {
   "cell_type": "code",
   "execution_count": 52,
   "id": "4cf59b06",
   "metadata": {},
   "outputs": [
    {
     "data": {
      "text/plain": [
       "22.409441823184064"
      ]
     },
     "execution_count": 52,
     "metadata": {},
     "output_type": "execute_result"
    }
   ],
   "source": [
    "theta_hat"
   ]
  },
  {
   "cell_type": "code",
   "execution_count": 53,
   "id": "10921039",
   "metadata": {},
   "outputs": [],
   "source": [
    "post_treatment_violations = [i*M for i in range(1,12)]\n",
    "\n",
    "violations_table = pd.DataFrame(post_treatment_violations)\n",
    "violations_table.columns = [\"worst_case_per_period\"]\n",
    "violations_table[\"theta_hat\"] = theta_hat\n",
    "violations_table[\"bias_adjusted_theta\"] = theta_hat-post_treatment_violations"
   ]
  },
  {
   "cell_type": "code",
   "execution_count": 54,
   "id": "147d0c2c",
   "metadata": {},
   "outputs": [
    {
     "data": {
      "text/html": [
       "<div>\n",
       "<style scoped>\n",
       "    .dataframe tbody tr th:only-of-type {\n",
       "        vertical-align: middle;\n",
       "    }\n",
       "\n",
       "    .dataframe tbody tr th {\n",
       "        vertical-align: top;\n",
       "    }\n",
       "\n",
       "    .dataframe thead th {\n",
       "        text-align: right;\n",
       "    }\n",
       "</style>\n",
       "<table border=\"1\" class=\"dataframe\">\n",
       "  <thead>\n",
       "    <tr style=\"text-align: right;\">\n",
       "      <th></th>\n",
       "      <th>worst_case_per_period</th>\n",
       "      <th>theta_hat</th>\n",
       "      <th>bias_adjusted_theta</th>\n",
       "    </tr>\n",
       "  </thead>\n",
       "  <tbody>\n",
       "    <tr>\n",
       "      <th>0</th>\n",
       "      <td>24.714988</td>\n",
       "      <td>22.409442</td>\n",
       "      <td>-2.305546</td>\n",
       "    </tr>\n",
       "    <tr>\n",
       "      <th>1</th>\n",
       "      <td>49.429976</td>\n",
       "      <td>22.409442</td>\n",
       "      <td>-27.020534</td>\n",
       "    </tr>\n",
       "    <tr>\n",
       "      <th>2</th>\n",
       "      <td>74.144963</td>\n",
       "      <td>22.409442</td>\n",
       "      <td>-51.735522</td>\n",
       "    </tr>\n",
       "    <tr>\n",
       "      <th>3</th>\n",
       "      <td>98.859951</td>\n",
       "      <td>22.409442</td>\n",
       "      <td>-76.450509</td>\n",
       "    </tr>\n",
       "    <tr>\n",
       "      <th>4</th>\n",
       "      <td>123.574939</td>\n",
       "      <td>22.409442</td>\n",
       "      <td>-101.165497</td>\n",
       "    </tr>\n",
       "    <tr>\n",
       "      <th>5</th>\n",
       "      <td>148.289927</td>\n",
       "      <td>22.409442</td>\n",
       "      <td>-125.880485</td>\n",
       "    </tr>\n",
       "    <tr>\n",
       "      <th>6</th>\n",
       "      <td>173.004915</td>\n",
       "      <td>22.409442</td>\n",
       "      <td>-150.595473</td>\n",
       "    </tr>\n",
       "    <tr>\n",
       "      <th>7</th>\n",
       "      <td>197.719902</td>\n",
       "      <td>22.409442</td>\n",
       "      <td>-175.310461</td>\n",
       "    </tr>\n",
       "    <tr>\n",
       "      <th>8</th>\n",
       "      <td>222.434890</td>\n",
       "      <td>22.409442</td>\n",
       "      <td>-200.025448</td>\n",
       "    </tr>\n",
       "    <tr>\n",
       "      <th>9</th>\n",
       "      <td>247.149878</td>\n",
       "      <td>22.409442</td>\n",
       "      <td>-224.740436</td>\n",
       "    </tr>\n",
       "    <tr>\n",
       "      <th>10</th>\n",
       "      <td>271.864866</td>\n",
       "      <td>22.409442</td>\n",
       "      <td>-249.455424</td>\n",
       "    </tr>\n",
       "  </tbody>\n",
       "</table>\n",
       "</div>"
      ],
      "text/plain": [
       "    worst_case_per_period  theta_hat  bias_adjusted_theta\n",
       "0               24.714988  22.409442            -2.305546\n",
       "1               49.429976  22.409442           -27.020534\n",
       "2               74.144963  22.409442           -51.735522\n",
       "3               98.859951  22.409442           -76.450509\n",
       "4              123.574939  22.409442          -101.165497\n",
       "5              148.289927  22.409442          -125.880485\n",
       "6              173.004915  22.409442          -150.595473\n",
       "7              197.719902  22.409442          -175.310461\n",
       "8              222.434890  22.409442          -200.025448\n",
       "9              247.149878  22.409442          -224.740436\n",
       "10             271.864866  22.409442          -249.455424"
      ]
     },
     "execution_count": 54,
     "metadata": {},
     "output_type": "execute_result"
    }
   ],
   "source": [
    "violations_table"
   ]
  },
  {
   "cell_type": "markdown",
   "id": "c5429027",
   "metadata": {},
   "source": [
    "### Rambachan and Roth"
   ]
  },
  {
   "cell_type": "code",
   "execution_count": 76,
   "id": "46b37d0d",
   "metadata": {},
   "outputs": [],
   "source": [
    "time_index = pd.DataFrame(np.linspace(-12, -1, num = 12, dtype= int))\n",
    "time_index.columns = [\"time\"]\n",
    "\n",
    "params = pd.DataFrame(fe_model.params)\n",
    "params.index = time_index.index"
   ]
  },
  {
   "cell_type": "code",
   "execution_count": 85,
   "id": "bce68151",
   "metadata": {},
   "outputs": [],
   "source": [
    "model = sm.OLS(params, sm.add_constant(time_index)).fit()\n",
    "\n",
    "pre_trend_slope = model.params[\"time\"]\n",
    "pre_trend_constant = model.params[\"const\"]"
   ]
  },
  {
   "cell_type": "code",
   "execution_count": 93,
   "id": "24eac4ff",
   "metadata": {},
   "outputs": [
    {
     "data": {
      "image/png": "[encoded data removed]",
      "text/plain": [
       "<Figure size 640x480 with 1 Axes>"
      ]
     },
     "metadata": {},
     "output_type": "display_data"
    }
   ],
   "source": [
    "slope_funct = pd.DataFrame([pre_trend_slope * i + pre_trend_constant for i in range(-12, 0)])\n",
    "slope_funct.columns = [\"slope\"]\n",
    "slope_funct.index = params.index\n",
    "\n",
    "params.plot(ax=plt.gca(), label='params')\n",
    "slope_funct.plot(ax=plt.gca(), label='slope_funct')\n",
    "\n",
    "\n",
    "plt.xlabel('Date')\n",
    "plt.ylabel('Value')\n",
    "plt.show()"
   ]
  },
  {
   "cell_type": "code",
   "execution_count": 100,
   "id": "235cec45",
   "metadata": {},
   "outputs": [],
   "source": [
    "max_bias_table = pd.DataFrame({\n",
    "    \"0.5\": [0.5 * pre_trend_slope],\n",
    "    \"1\": [1 * pre_trend_slope],\n",
    "    \"2\": [2 * pre_trend_slope]\n",
    "}).transpose()\n",
    "\n",
    "max_bias_table.columns = [\"Max Bias\"]"
   ]
  },
  {
   "cell_type": "code",
   "execution_count": 101,
   "id": "69bc3aa8",
   "metadata": {},
   "outputs": [
    {
     "data": {
      "text/html": [
       "<div>\n",
       "<style scoped>\n",
       "    .dataframe tbody tr th:only-of-type {\n",
       "        vertical-align: middle;\n",
       "    }\n",
       "\n",
       "    .dataframe tbody tr th {\n",
       "        vertical-align: top;\n",
       "    }\n",
       "\n",
       "    .dataframe thead th {\n",
       "        text-align: right;\n",
       "    }\n",
       "</style>\n",
       "<table border=\"1\" class=\"dataframe\">\n",
       "  <thead>\n",
       "    <tr style=\"text-align: right;\">\n",
       "      <th></th>\n",
       "      <th>Max Bias</th>\n",
       "    </tr>\n",
       "  </thead>\n",
       "  <tbody>\n",
       "    <tr>\n",
       "      <th>0.5</th>\n",
       "      <td>0.373109</td>\n",
       "    </tr>\n",
       "    <tr>\n",
       "      <th>1</th>\n",
       "      <td>0.746218</td>\n",
       "    </tr>\n",
       "    <tr>\n",
       "      <th>2</th>\n",
       "      <td>1.492436</td>\n",
       "    </tr>\n",
       "  </tbody>\n",
       "</table>\n",
       "</div>"
      ],
      "text/plain": [
       "     Max Bias\n",
       "0.5  0.373109\n",
       "1    0.746218\n",
       "2    1.492436"
      ]
     },
     "execution_count": 101,
     "metadata": {},
     "output_type": "execute_result"
    }
   ],
   "source": [
    "max_bias_table"
   ]
  },
  {
   "cell_type": "code",
   "execution_count": 109,
   "id": "31ca387f",
   "metadata": {},
   "outputs": [],
   "source": [
    "# I recalculate the first coefficient, the one we care about\n",
    "reg_data = data[[\"treat_group\", \"period\", \"productivity\", \"log_productivity\"]].reset_index().copy()\n",
    "\n",
    "end = 12\n",
    "start = -end\n",
    "\n",
    "for i in range(-end,end):\n",
    "    reg_data[f\"time({i})\"] = 0\n",
    "    reg_data.loc[(reg_data[\"treat_group\"] == 1)&(reg_data[\"period\"]==i),f\"time({i})\"] = 1\n",
    "\n",
    "reg_data = reg_data.drop([\"time(-1)\"], axis = 1)\n",
    "reg_data = reg_data.set_index([\"worker_id\", \"period\"])\n",
    "\n",
    "y = reg_data[\"productivity\"]\n",
    "y_log = reg_data[\"log_productivity\"]\n",
    "\n",
    "X = reg_data.drop([\"productivity\", \"log_productivity\", \"treat_group\"], axis = 1)\n",
    "\n",
    "estudy_model = PanelOLS(y, X, entity_effects=True, time_effects=True).fit(cov_type= \"clustered\", cluster_entity = True)"
   ]
  },
  {
   "cell_type": "code",
   "execution_count": 115,
   "id": "a3191d87",
   "metadata": {},
   "outputs": [],
   "source": [
    "coefficient = estudy_model.params[\"time(1)\"]\n",
    "ci_coefficient = estudy_model.conf_int().loc['time(1)',]"
   ]
  },
  {
   "cell_type": "code",
   "execution_count": 120,
   "id": "06fe6cf7",
   "metadata": {},
   "outputs": [],
   "source": [
    "max_bias_table[\"lowerbound_CI\"] = ci_coefficient[\"lower\"]-np.abs(max_bias_table[\"Max Bias\"])\n",
    "max_bias_table[\"upperbound_CI\"] = ci_coefficient[\"upper\"]+np.abs(max_bias_table[\"Max Bias\"])"
   ]
  }
 ],
 "metadata": {
  "kernelspec": {
   "display_name": "base",
   "language": "python",
   "name": "python3"
  },
  "language_info": {
   "codemirror_mode": {
    "name": "ipython",
    "version": 3
   },
   "file_extension": ".py",
   "mimetype": "text/x-python",
   "name": "python",
   "nbconvert_exporter": "python",
   "pygments_lexer": "ipython3",
   "version": "3.9.19"
  }
 },
 "nbformat": 4,
 "nbformat_minor": 5
}
