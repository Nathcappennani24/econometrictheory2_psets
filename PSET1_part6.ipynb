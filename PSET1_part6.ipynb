{
 "cells": [
  {
   "cell_type": "code",
   "execution_count": 66,
   "id": "b6d75367",
   "metadata": {},
   "outputs": [],
   "source": [
    "import pandas as pd \n",
    "\n",
    "import numpy as np \n",
    "import matplotlib.pyplot as plt\n",
    "\n",
    "from scipy import stats\n",
    "import statsmodels.api as sm\n",
    "import statsmodels.formula.api as smf\n",
    "\n",
    "from pandas.api import types\n",
    "\n",
    "from linearmodels import PanelOLS\n",
    "import causallib as cl\n",
    "from causallib.estimation import IPW\n",
    "\n",
    "from sklearn.linear_model import LogisticRegression, LinearRegression\n",
    "\n",
    "from econml.dml import DML\n",
    "from econml.dr import LinearDRLearner # Example of a direct DR learner"
   ]
  },
  {
   "cell_type": "code",
   "execution_count": 67,
   "id": "b46ce227",
   "metadata": {},
   "outputs": [],
   "source": [
    "data = pd.read_csv(\"src/did_training_productivity.csv\")\n",
    "data = data.set_index([\"worker_id\", \"period\"])"
   ]
  },
  {
   "cell_type": "markdown",
   "id": "33327529",
   "metadata": {},
   "source": [
    "Estimate treatment effects separately by:\n",
    "\n",
    "• Technical vs non-technical workers\n",
    "\n",
    "• Gender\n",
    "\n",
    "• Mother’s education level"
   ]
  },
  {
   "cell_type": "code",
   "execution_count": 68,
   "id": "13ef3866",
   "metadata": {},
   "outputs": [],
   "source": [
    "technical_workers = data[data['technical'] == 1].copy()\n",
    "non_technical_workers = data[data['technical'] == 0].copy()"
   ]
  },
  {
   "cell_type": "code",
   "execution_count": 69,
   "id": "23597753",
   "metadata": {},
   "outputs": [],
   "source": [
    "y_technical = technical_workers[\"productivity\"]\n",
    "y_nontechnical = non_technical_workers[\"productivity\"]\n",
    "\n",
    "X_technical = technical_workers[\"post\"]*technical_workers[\"treat_group\"]\n",
    "X_nontechnical = non_technical_workers[\"post\"]*non_technical_workers[\"treat_group\"]\n"
   ]
  },
  {
   "cell_type": "code",
   "execution_count": 70,
   "id": "60671479",
   "metadata": {},
   "outputs": [],
   "source": [
    "model_technical = PanelOLS(y_technical, X_technical, entity_effects=True, time_effects=True).fit(cov_type='clustered', cluster_entity = True)"
   ]
  },
  {
   "cell_type": "code",
   "execution_count": 71,
   "id": "f0329456",
   "metadata": {},
   "outputs": [
    {
     "data": {
      "text/html": [
       "<table class=\"simpletable\">\n",
       "<caption>PanelOLS Estimation Summary</caption>\n",
       "<tr>\n",
       "  <th>Dep. Variable:</th>      <td>productivity</td>   <th>  R-squared:         </th>     <td>0.1969</td>  \n",
       "</tr>\n",
       "<tr>\n",
       "  <th>Estimator:</th>            <td>PanelOLS</td>     <th>  R-squared (Between):</th>    <td>0.0528</td>  \n",
       "</tr>\n",
       "<tr>\n",
       "  <th>No. Observations:</th>       <td>14664</td>      <th>  R-squared (Within):</th>     <td>0.3358</td>  \n",
       "</tr>\n",
       "<tr>\n",
       "  <th>Date:</th>             <td>Thu, Apr 17 2025</td> <th>  R-squared (Overall):</th>    <td>0.0564</td>  \n",
       "</tr>\n",
       "<tr>\n",
       "  <th>Time:</th>                 <td>19:47:03</td>     <th>  Log-likelihood     </th>   <td>-5.532e+04</td>\n",
       "</tr>\n",
       "<tr>\n",
       "  <th>Cov. Estimator:</th>       <td>Clustered</td>    <th>                     </th>        <td></td>     \n",
       "</tr>\n",
       "<tr>\n",
       "  <th></th>                          <td></td>         <th>  F-statistic:       </th>     <td>3440.6</td>  \n",
       "</tr>\n",
       "<tr>\n",
       "  <th>Entities:</th>                <td>611</td>       <th>  P-value            </th>     <td>0.0000</td>  \n",
       "</tr>\n",
       "<tr>\n",
       "  <th>Avg Obs:</th>               <td>24.000</td>      <th>  Distribution:      </th>   <td>F(1,14029)</td>\n",
       "</tr>\n",
       "<tr>\n",
       "  <th>Min Obs:</th>               <td>24.000</td>      <th>                     </th>        <td></td>     \n",
       "</tr>\n",
       "<tr>\n",
       "  <th>Max Obs:</th>               <td>24.000</td>      <th>  F-statistic (robust):</th>   <td>3159.8</td>  \n",
       "</tr>\n",
       "<tr>\n",
       "  <th></th>                          <td></td>         <th>  P-value            </th>     <td>0.0000</td>  \n",
       "</tr>\n",
       "<tr>\n",
       "  <th>Time periods:</th>            <td>24</td>        <th>  Distribution:      </th>   <td>F(1,14029)</td>\n",
       "</tr>\n",
       "<tr>\n",
       "  <th>Avg Obs:</th>               <td>611.00</td>      <th>                     </th>        <td></td>     \n",
       "</tr>\n",
       "<tr>\n",
       "  <th>Min Obs:</th>               <td>611.00</td>      <th>                     </th>        <td></td>     \n",
       "</tr>\n",
       "<tr>\n",
       "  <th>Max Obs:</th>               <td>611.00</td>      <th>                     </th>        <td></td>     \n",
       "</tr>\n",
       "<tr>\n",
       "  <th></th>                          <td></td>         <th>                     </th>        <td></td>     \n",
       "</tr>\n",
       "</table>\n",
       "<table class=\"simpletable\">\n",
       "<caption>Parameter Estimates</caption>\n",
       "<tr>\n",
       "  <td></td>  <th>Parameter</th> <th>Std. Err.</th> <th>T-stat</th> <th>P-value</th> <th>Lower CI</th> <th>Upper CI</th>\n",
       "</tr>\n",
       "<tr>\n",
       "  <th>0</th>  <td>22.080</td>    <td>0.3928</td>   <td>56.212</td> <td>0.0000</td>   <td>21.310</td>   <td>22.849</td> \n",
       "</tr>\n",
       "</table><br/><br/>F-test for Poolability: 61.981<br/>P-value: 0.0000<br/>Distribution: F(633,14029)<br/><br/>Included effects: Entity, Time<br/>id: 0x1eacf7ca1c0"
      ],
      "text/plain": [
       "                          PanelOLS Estimation Summary                           \n",
       "================================================================================\n",
       "Dep. Variable:           productivity   R-squared:                        0.1969\n",
       "Estimator:                   PanelOLS   R-squared (Between):              0.0528\n",
       "No. Observations:               14664   R-squared (Within):               0.3358\n",
       "Date:                Thu, Apr 17 2025   R-squared (Overall):              0.0564\n",
       "Time:                        19:47:03   Log-likelihood                -5.532e+04\n",
       "Cov. Estimator:             Clustered                                           \n",
       "                                        F-statistic:                      3440.6\n",
       "Entities:                         611   P-value                           0.0000\n",
       "Avg Obs:                       24.000   Distribution:                 F(1,14029)\n",
       "Min Obs:                       24.000                                           \n",
       "Max Obs:                       24.000   F-statistic (robust):             3159.8\n",
       "                                        P-value                           0.0000\n",
       "Time periods:                      24   Distribution:                 F(1,14029)\n",
       "Avg Obs:                       611.00                                           \n",
       "Min Obs:                       611.00                                           \n",
       "Max Obs:                       611.00                                           \n",
       "                                                                                \n",
       "                             Parameter Estimates                              \n",
       "==============================================================================\n",
       "            Parameter  Std. Err.     T-stat    P-value    Lower CI    Upper CI\n",
       "------------------------------------------------------------------------------\n",
       "0              22.080     0.3928     56.212     0.0000      21.310      22.849\n",
       "==============================================================================\n",
       "\n",
       "F-test for Poolability: 61.981\n",
       "P-value: 0.0000\n",
       "Distribution: F(633,14029)\n",
       "\n",
       "Included effects: Entity, Time\n",
       "PanelEffectsResults, id: 0x1eacf7ca1c0"
      ]
     },
     "execution_count": 71,
     "metadata": {},
     "output_type": "execute_result"
    }
   ],
   "source": [
    "model_technical"
   ]
  },
  {
   "cell_type": "code",
   "execution_count": 72,
   "id": "34f8cfdc",
   "metadata": {},
   "outputs": [],
   "source": [
    "model_nontechnical = PanelOLS(y_nontechnical, X_nontechnical, entity_effects=True, time_effects=True).fit(cov_type='clustered', cluster_entity = True)"
   ]
  },
  {
   "cell_type": "code",
   "execution_count": 73,
   "id": "7cdacb52",
   "metadata": {},
   "outputs": [
    {
     "data": {
      "text/html": [
       "<table class=\"simpletable\">\n",
       "<caption>PanelOLS Estimation Summary</caption>\n",
       "<tr>\n",
       "  <th>Dep. Variable:</th>      <td>productivity</td>   <th>  R-squared:         </th>     <td>0.1881</td>  \n",
       "</tr>\n",
       "<tr>\n",
       "  <th>Estimator:</th>            <td>PanelOLS</td>     <th>  R-squared (Between):</th>    <td>0.0479</td>  \n",
       "</tr>\n",
       "<tr>\n",
       "  <th>No. Observations:</th>       <td>33336</td>      <th>  R-squared (Within):</th>     <td>0.3055</td>  \n",
       "</tr>\n",
       "<tr>\n",
       "  <th>Date:</th>             <td>Thu, Apr 17 2025</td> <th>  R-squared (Overall):</th>    <td>0.0514</td>  \n",
       "</tr>\n",
       "<tr>\n",
       "  <th>Time:</th>                 <td>19:47:05</td>     <th>  Log-likelihood     </th>   <td>-1.259e+05</td>\n",
       "</tr>\n",
       "<tr>\n",
       "  <th>Cov. Estimator:</th>       <td>Clustered</td>    <th>                     </th>        <td></td>     \n",
       "</tr>\n",
       "<tr>\n",
       "  <th></th>                          <td></td>         <th>  F-statistic:       </th>     <td>7395.5</td>  \n",
       "</tr>\n",
       "<tr>\n",
       "  <th>Entities:</th>               <td>1389</td>       <th>  P-value            </th>     <td>0.0000</td>  \n",
       "</tr>\n",
       "<tr>\n",
       "  <th>Avg Obs:</th>               <td>24.000</td>      <th>  Distribution:      </th>   <td>F(1,31923)</td>\n",
       "</tr>\n",
       "<tr>\n",
       "  <th>Min Obs:</th>               <td>24.000</td>      <th>                     </th>        <td></td>     \n",
       "</tr>\n",
       "<tr>\n",
       "  <th>Max Obs:</th>               <td>24.000</td>      <th>  F-statistic (robust):</th>   <td>7189.8</td>  \n",
       "</tr>\n",
       "<tr>\n",
       "  <th></th>                          <td></td>         <th>  P-value            </th>     <td>0.0000</td>  \n",
       "</tr>\n",
       "<tr>\n",
       "  <th>Time periods:</th>            <td>24</td>        <th>  Distribution:      </th>   <td>F(1,31923)</td>\n",
       "</tr>\n",
       "<tr>\n",
       "  <th>Avg Obs:</th>               <td>1389.0</td>      <th>                     </th>        <td></td>     \n",
       "</tr>\n",
       "<tr>\n",
       "  <th>Min Obs:</th>               <td>1389.0</td>      <th>                     </th>        <td></td>     \n",
       "</tr>\n",
       "<tr>\n",
       "  <th>Max Obs:</th>               <td>1389.0</td>      <th>                     </th>        <td></td>     \n",
       "</tr>\n",
       "<tr>\n",
       "  <th></th>                          <td></td>         <th>                     </th>        <td></td>     \n",
       "</tr>\n",
       "</table>\n",
       "<table class=\"simpletable\">\n",
       "<caption>Parameter Estimates</caption>\n",
       "<tr>\n",
       "  <td></td>  <th>Parameter</th> <th>Std. Err.</th> <th>T-stat</th> <th>P-value</th> <th>Lower CI</th> <th>Upper CI</th>\n",
       "</tr>\n",
       "<tr>\n",
       "  <th>0</th>  <td>22.561</td>    <td>0.2661</td>   <td>84.792</td> <td>0.0000</td>   <td>22.039</td>   <td>23.083</td> \n",
       "</tr>\n",
       "</table><br/><br/>F-test for Poolability: 63.407<br/>P-value: 0.0000<br/>Distribution: F(1411,31923)<br/><br/>Included effects: Entity, Time<br/>id: 0x1eacf82b820"
      ],
      "text/plain": [
       "                          PanelOLS Estimation Summary                           \n",
       "================================================================================\n",
       "Dep. Variable:           productivity   R-squared:                        0.1881\n",
       "Estimator:                   PanelOLS   R-squared (Between):              0.0479\n",
       "No. Observations:               33336   R-squared (Within):               0.3055\n",
       "Date:                Thu, Apr 17 2025   R-squared (Overall):              0.0514\n",
       "Time:                        19:47:05   Log-likelihood                -1.259e+05\n",
       "Cov. Estimator:             Clustered                                           \n",
       "                                        F-statistic:                      7395.5\n",
       "Entities:                        1389   P-value                           0.0000\n",
       "Avg Obs:                       24.000   Distribution:                 F(1,31923)\n",
       "Min Obs:                       24.000                                           \n",
       "Max Obs:                       24.000   F-statistic (robust):             7189.8\n",
       "                                        P-value                           0.0000\n",
       "Time periods:                      24   Distribution:                 F(1,31923)\n",
       "Avg Obs:                       1389.0                                           \n",
       "Min Obs:                       1389.0                                           \n",
       "Max Obs:                       1389.0                                           \n",
       "                                                                                \n",
       "                             Parameter Estimates                              \n",
       "==============================================================================\n",
       "            Parameter  Std. Err.     T-stat    P-value    Lower CI    Upper CI\n",
       "------------------------------------------------------------------------------\n",
       "0              22.561     0.2661     84.792     0.0000      22.039      23.083\n",
       "==============================================================================\n",
       "\n",
       "F-test for Poolability: 63.407\n",
       "P-value: 0.0000\n",
       "Distribution: F(1411,31923)\n",
       "\n",
       "Included effects: Entity, Time\n",
       "PanelEffectsResults, id: 0x1eacf82b820"
      ]
     },
     "execution_count": 73,
     "metadata": {},
     "output_type": "execute_result"
    }
   ],
   "source": [
    "model_nontechnical"
   ]
  },
  {
   "cell_type": "code",
   "execution_count": 74,
   "id": "58d91086",
   "metadata": {},
   "outputs": [],
   "source": [
    "female = data[data['female'] == 1].copy()\n",
    "male = data[data['female'] == 0].copy()\n",
    "\n",
    "y_female = female[\"productivity\"]\n",
    "y_male = male[\"productivity\"]\n",
    "\n",
    "X_female = female[\"post\"]*female[\"treat_group\"]\n",
    "X_male = male[\"post\"]*male[\"treat_group\"]\n"
   ]
  },
  {
   "cell_type": "code",
   "execution_count": 75,
   "id": "b5f7e8ee",
   "metadata": {},
   "outputs": [],
   "source": [
    "model_female = PanelOLS(y_female, X_female, entity_effects=True, time_effects=True).fit(cov_type='clustered', cluster_entity = True)"
   ]
  },
  {
   "cell_type": "code",
   "execution_count": 76,
   "id": "a97adae5",
   "metadata": {},
   "outputs": [
    {
     "data": {
      "text/html": [
       "<table class=\"simpletable\">\n",
       "<caption>PanelOLS Estimation Summary</caption>\n",
       "<tr>\n",
       "  <th>Dep. Variable:</th>      <td>productivity</td>   <th>  R-squared:         </th>     <td>0.1986</td>  \n",
       "</tr>\n",
       "<tr>\n",
       "  <th>Estimator:</th>            <td>PanelOLS</td>     <th>  R-squared (Between):</th>    <td>0.0537</td>  \n",
       "</tr>\n",
       "<tr>\n",
       "  <th>No. Observations:</th>       <td>21096</td>      <th>  R-squared (Within):</th>     <td>0.3305</td>  \n",
       "</tr>\n",
       "<tr>\n",
       "  <th>Date:</th>             <td>Thu, Apr 17 2025</td> <th>  R-squared (Overall):</th>    <td>0.0576</td>  \n",
       "</tr>\n",
       "<tr>\n",
       "  <th>Time:</th>                 <td>19:47:09</td>     <th>  Log-likelihood     </th>   <td>-7.959e+04</td>\n",
       "</tr>\n",
       "<tr>\n",
       "  <th>Cov. Estimator:</th>       <td>Clustered</td>    <th>                     </th>        <td></td>     \n",
       "</tr>\n",
       "<tr>\n",
       "  <th></th>                          <td></td>         <th>  F-statistic:       </th>     <td>5004.7</td>  \n",
       "</tr>\n",
       "<tr>\n",
       "  <th>Entities:</th>                <td>879</td>       <th>  P-value            </th>     <td>0.0000</td>  \n",
       "</tr>\n",
       "<tr>\n",
       "  <th>Avg Obs:</th>               <td>24.000</td>      <th>  Distribution:      </th>   <td>F(1,20193)</td>\n",
       "</tr>\n",
       "<tr>\n",
       "  <th>Min Obs:</th>               <td>24.000</td>      <th>                     </th>        <td></td>     \n",
       "</tr>\n",
       "<tr>\n",
       "  <th>Max Obs:</th>               <td>24.000</td>      <th>  F-statistic (robust):</th>   <td>4928.0</td>  \n",
       "</tr>\n",
       "<tr>\n",
       "  <th></th>                          <td></td>         <th>  P-value            </th>     <td>0.0000</td>  \n",
       "</tr>\n",
       "<tr>\n",
       "  <th>Time periods:</th>            <td>24</td>        <th>  Distribution:      </th>   <td>F(1,20193)</td>\n",
       "</tr>\n",
       "<tr>\n",
       "  <th>Avg Obs:</th>               <td>879.00</td>      <th>                     </th>        <td></td>     \n",
       "</tr>\n",
       "<tr>\n",
       "  <th>Min Obs:</th>               <td>879.00</td>      <th>                     </th>        <td></td>     \n",
       "</tr>\n",
       "<tr>\n",
       "  <th>Max Obs:</th>               <td>879.00</td>      <th>                     </th>        <td></td>     \n",
       "</tr>\n",
       "<tr>\n",
       "  <th></th>                          <td></td>         <th>                     </th>        <td></td>     \n",
       "</tr>\n",
       "</table>\n",
       "<table class=\"simpletable\">\n",
       "<caption>Parameter Estimates</caption>\n",
       "<tr>\n",
       "  <td></td>  <th>Parameter</th> <th>Std. Err.</th> <th>T-stat</th> <th>P-value</th> <th>Lower CI</th> <th>Upper CI</th>\n",
       "</tr>\n",
       "<tr>\n",
       "  <th>0</th>  <td>22.493</td>    <td>0.3204</td>   <td>70.200</td> <td>0.0000</td>   <td>21.865</td>   <td>23.121</td> \n",
       "</tr>\n",
       "</table><br/><br/>F-test for Poolability: 62.494<br/>P-value: 0.0000<br/>Distribution: F(901,20193)<br/><br/>Included effects: Entity, Time<br/>id: 0x1eacf7a36d0"
      ],
      "text/plain": [
       "                          PanelOLS Estimation Summary                           \n",
       "================================================================================\n",
       "Dep. Variable:           productivity   R-squared:                        0.1986\n",
       "Estimator:                   PanelOLS   R-squared (Between):              0.0537\n",
       "No. Observations:               21096   R-squared (Within):               0.3305\n",
       "Date:                Thu, Apr 17 2025   R-squared (Overall):              0.0576\n",
       "Time:                        19:47:09   Log-likelihood                -7.959e+04\n",
       "Cov. Estimator:             Clustered                                           \n",
       "                                        F-statistic:                      5004.7\n",
       "Entities:                         879   P-value                           0.0000\n",
       "Avg Obs:                       24.000   Distribution:                 F(1,20193)\n",
       "Min Obs:                       24.000                                           \n",
       "Max Obs:                       24.000   F-statistic (robust):             4928.0\n",
       "                                        P-value                           0.0000\n",
       "Time periods:                      24   Distribution:                 F(1,20193)\n",
       "Avg Obs:                       879.00                                           \n",
       "Min Obs:                       879.00                                           \n",
       "Max Obs:                       879.00                                           \n",
       "                                                                                \n",
       "                             Parameter Estimates                              \n",
       "==============================================================================\n",
       "            Parameter  Std. Err.     T-stat    P-value    Lower CI    Upper CI\n",
       "------------------------------------------------------------------------------\n",
       "0              22.493     0.3204     70.200     0.0000      21.865      23.121\n",
       "==============================================================================\n",
       "\n",
       "F-test for Poolability: 62.494\n",
       "P-value: 0.0000\n",
       "Distribution: F(901,20193)\n",
       "\n",
       "Included effects: Entity, Time\n",
       "PanelEffectsResults, id: 0x1eacf7a36d0"
      ]
     },
     "execution_count": 76,
     "metadata": {},
     "output_type": "execute_result"
    }
   ],
   "source": [
    "model_female"
   ]
  },
  {
   "cell_type": "code",
   "execution_count": 77,
   "id": "bc2d8155",
   "metadata": {},
   "outputs": [],
   "source": [
    "model_male = PanelOLS(y_male, X_male, entity_effects=True, time_effects=True).fit(cov_type='clustered', cluster_entity = True)"
   ]
  },
  {
   "cell_type": "code",
   "execution_count": 78,
   "id": "b63adfa8",
   "metadata": {},
   "outputs": [
    {
     "data": {
      "text/html": [
       "<table class=\"simpletable\">\n",
       "<caption>PanelOLS Estimation Summary</caption>\n",
       "<tr>\n",
       "  <th>Dep. Variable:</th>      <td>productivity</td>   <th>  R-squared:         </th>     <td>0.1849</td>  \n",
       "</tr>\n",
       "<tr>\n",
       "  <th>Estimator:</th>            <td>PanelOLS</td>     <th>  R-squared (Between):</th>    <td>0.0465</td>  \n",
       "</tr>\n",
       "<tr>\n",
       "  <th>No. Observations:</th>       <td>26904</td>      <th>  R-squared (Within):</th>     <td>0.3026</td>  \n",
       "</tr>\n",
       "<tr>\n",
       "  <th>Date:</th>             <td>Thu, Apr 17 2025</td> <th>  R-squared (Overall):</th>    <td>0.0498</td>  \n",
       "</tr>\n",
       "<tr>\n",
       "  <th>Time:</th>                 <td>19:47:12</td>     <th>  Log-likelihood     </th>   <td>-1.016e+05</td>\n",
       "</tr>\n",
       "<tr>\n",
       "  <th>Cov. Estimator:</th>       <td>Clustered</td>    <th>                     </th>        <td></td>     \n",
       "</tr>\n",
       "<tr>\n",
       "  <th></th>                          <td></td>         <th>  F-statistic:       </th>     <td>5844.1</td>  \n",
       "</tr>\n",
       "<tr>\n",
       "  <th>Entities:</th>               <td>1121</td>       <th>  P-value            </th>     <td>0.0000</td>  \n",
       "</tr>\n",
       "<tr>\n",
       "  <th>Avg Obs:</th>               <td>24.000</td>      <th>  Distribution:      </th>   <td>F(1,25759)</td>\n",
       "</tr>\n",
       "<tr>\n",
       "  <th>Min Obs:</th>               <td>24.000</td>      <th>                     </th>        <td></td>     \n",
       "</tr>\n",
       "<tr>\n",
       "  <th>Max Obs:</th>               <td>24.000</td>      <th>  F-statistic (robust):</th>   <td>5359.7</td>  \n",
       "</tr>\n",
       "<tr>\n",
       "  <th></th>                          <td></td>         <th>  P-value            </th>     <td>0.0000</td>  \n",
       "</tr>\n",
       "<tr>\n",
       "  <th>Time periods:</th>            <td>24</td>        <th>  Distribution:      </th>   <td>F(1,25759)</td>\n",
       "</tr>\n",
       "<tr>\n",
       "  <th>Avg Obs:</th>               <td>1121.0</td>      <th>                     </th>        <td></td>     \n",
       "</tr>\n",
       "<tr>\n",
       "  <th>Min Obs:</th>               <td>1121.0</td>      <th>                     </th>        <td></td>     \n",
       "</tr>\n",
       "<tr>\n",
       "  <th>Max Obs:</th>               <td>1121.0</td>      <th>                     </th>        <td></td>     \n",
       "</tr>\n",
       "<tr>\n",
       "  <th></th>                          <td></td>         <th>                     </th>        <td></td>     \n",
       "</tr>\n",
       "</table>\n",
       "<table class=\"simpletable\">\n",
       "<caption>Parameter Estimates</caption>\n",
       "<tr>\n",
       "  <td></td>  <th>Parameter</th> <th>Std. Err.</th> <th>T-stat</th> <th>P-value</th> <th>Lower CI</th> <th>Upper CI</th>\n",
       "</tr>\n",
       "<tr>\n",
       "  <th>0</th>  <td>22.325</td>    <td>0.3049</td>   <td>73.210</td> <td>0.0000</td>   <td>21.728</td>   <td>22.923</td> \n",
       "</tr>\n",
       "</table><br/><br/>F-test for Poolability: 64.700<br/>P-value: 0.0000<br/>Distribution: F(1143,25759)<br/><br/>Included effects: Entity, Time<br/>id: 0x1eacf82d1c0"
      ],
      "text/plain": [
       "                          PanelOLS Estimation Summary                           \n",
       "================================================================================\n",
       "Dep. Variable:           productivity   R-squared:                        0.1849\n",
       "Estimator:                   PanelOLS   R-squared (Between):              0.0465\n",
       "No. Observations:               26904   R-squared (Within):               0.3026\n",
       "Date:                Thu, Apr 17 2025   R-squared (Overall):              0.0498\n",
       "Time:                        19:47:12   Log-likelihood                -1.016e+05\n",
       "Cov. Estimator:             Clustered                                           \n",
       "                                        F-statistic:                      5844.1\n",
       "Entities:                        1121   P-value                           0.0000\n",
       "Avg Obs:                       24.000   Distribution:                 F(1,25759)\n",
       "Min Obs:                       24.000                                           \n",
       "Max Obs:                       24.000   F-statistic (robust):             5359.7\n",
       "                                        P-value                           0.0000\n",
       "Time periods:                      24   Distribution:                 F(1,25759)\n",
       "Avg Obs:                       1121.0                                           \n",
       "Min Obs:                       1121.0                                           \n",
       "Max Obs:                       1121.0                                           \n",
       "                                                                                \n",
       "                             Parameter Estimates                              \n",
       "==============================================================================\n",
       "            Parameter  Std. Err.     T-stat    P-value    Lower CI    Upper CI\n",
       "------------------------------------------------------------------------------\n",
       "0              22.325     0.3049     73.210     0.0000      21.728      22.923\n",
       "==============================================================================\n",
       "\n",
       "F-test for Poolability: 64.700\n",
       "P-value: 0.0000\n",
       "Distribution: F(1143,25759)\n",
       "\n",
       "Included effects: Entity, Time\n",
       "PanelEffectsResults, id: 0x1eacf82d1c0"
      ]
     },
     "execution_count": 78,
     "metadata": {},
     "output_type": "execute_result"
    }
   ],
   "source": [
    "model_male"
   ]
  },
  {
   "cell_type": "code",
   "execution_count": 79,
   "id": "4aa2a321",
   "metadata": {},
   "outputs": [
    {
     "data": {
      "text/plain": [
       "array(['Graduate', 'College', '<HS', 'HS'], dtype=object)"
      ]
     },
     "execution_count": 79,
     "metadata": {},
     "output_type": "execute_result"
    }
   ],
   "source": [
    "data[\"mothers_educ\"].unique()"
   ]
  },
  {
   "cell_type": "code",
   "execution_count": 80,
   "id": "fd8d4dd3",
   "metadata": {},
   "outputs": [],
   "source": [
    "Graduate = data[data[\"mothers_educ\"] == \"Graduate\"].copy()\n",
    "College = data[data[\"mothers_educ\"] == \"College\"].copy()\n",
    "HS = data[data[\"mothers_educ\"] == \"<HS\"].copy()\n",
    "lessHS = data[data[\"mothers_educ\"] == \"HS\"].copy()"
   ]
  },
  {
   "cell_type": "code",
   "execution_count": 82,
   "id": "82660c0c",
   "metadata": {},
   "outputs": [],
   "source": [
    "mother_educ_dfs = [Graduate, College, HS, lessHS]\n",
    "labels = ['Graduate', 'College', '<HS', 'HS']\n",
    "\n",
    "coefficients = {}\n",
    "\n",
    "for index, df in enumerate(mother_educ_dfs):\n",
    "    y = df[\"productivity\"]\n",
    "\n",
    "    X = df[\"post\"]*df[\"treat_group\"]\n",
    "\n",
    "    model = PanelOLS(y, X, entity_effects=True, time_effects=True).fit(cov_type='clustered', cluster_entity = True)\n",
    "    \n",
    "    coeff = model.params[0]\n",
    "    coefficients[labels[index]] = coeff   \n"
   ]
  },
  {
   "cell_type": "code",
   "execution_count": 83,
   "id": "66e2fd74",
   "metadata": {},
   "outputs": [
    {
     "data": {
      "text/plain": [
       "{'Graduate': 22.9042929415321,\n",
       " 'College': 21.92490282031732,\n",
       " '<HS': 22.701607334959373,\n",
       " 'HS': 22.509884336551867}"
      ]
     },
     "execution_count": 83,
     "metadata": {},
     "output_type": "execute_result"
    }
   ],
   "source": [
    "coefficients"
   ]
  },
  {
   "cell_type": "markdown",
   "id": "98eb1de9",
   "metadata": {},
   "source": [
    "### Comparison Regressions"
   ]
  },
  {
   "cell_type": "markdown",
   "id": "7da3e8d7",
   "metadata": {},
   "source": [
    "Test whether these differences are statistically significant using interaction terms:\n",
    "\n",
    "$$Y_{it} = \\alpha_i + \\delta_t + \\theta_1(W_i \\times Post_t) + \\theta_2(W_i \\times Post_t \\times Covariate_i) + \\epsilon_{it}$$"
   ]
  },
  {
   "cell_type": "code",
   "execution_count": 90,
   "id": "61eeee46",
   "metadata": {},
   "outputs": [],
   "source": [
    "def estimate_differences(df, covariate):\n",
    "        y = df[\"productivity\"]\n",
    "\n",
    "        simple_interaction = df[\"post\"]*df[\"treat_group\"]\n",
    "        long_interaction = df[\"post\"]*df[\"treat_group\"]*df[covariate]\n",
    "\n",
    "        X = pd.concat([simple_interaction, long_interaction], axis = 1)\n",
    "        X.columns = [\"simple\", \"long\"]\n",
    "\n",
    "        model = PanelOLS(y, X, entity_effects=True, time_effects=True).fit(cov_type='clustered', cluster_entity = True)\n",
    "        \n",
    "        coeff = model.params[\"long\"]\n",
    "        p_value = model.pvalues[\"long\"]\n",
    "\n",
    "        return (coeff, p_value)"
   ]
  },
  {
   "cell_type": "code",
   "execution_count": 88,
   "id": "8595c32a",
   "metadata": {},
   "outputs": [
    {
     "data": {
      "text/plain": [
       "Index(['female', 'mothers_educ', 'technical', 'immigrant', 'base_productivity',\n",
       "       'treat_group', 'tenure', 'prev_performance', 'team_size', 'manager_exp',\n",
       "       'post', 'treated', 'treat_hours', 'productivity', 'log_productivity'],\n",
       "      dtype='object')"
      ]
     },
     "execution_count": 88,
     "metadata": {},
     "output_type": "execute_result"
    }
   ],
   "source": [
    "data.columns"
   ]
  },
  {
   "cell_type": "code",
   "execution_count": 89,
   "id": "8cf2116f",
   "metadata": {},
   "outputs": [],
   "source": [
    "ordinal_map = {'<HS': 0, 'HS': 1, 'College': 2, 'Graduate': 3}\n",
    "data[\"mothers_educ\"] = data[\"mothers_educ\"].map(ordinal_map)"
   ]
  },
  {
   "cell_type": "code",
   "execution_count": 91,
   "id": "cf679e5e",
   "metadata": {},
   "outputs": [],
   "source": [
    "technical = estimate_differences(data, \"technical\")\n",
    "gender = estimate_differences(data, \"female\")\n",
    "mothers_edu = estimate_differences(data, \"mothers_educ\")"
   ]
  },
  {
   "cell_type": "code",
   "execution_count": 92,
   "id": "2d8aace0",
   "metadata": {},
   "outputs": [
    {
     "name": "stdout",
     "output_type": "stream",
     "text": [
      "The coefficient for the technical regression is -0.22940760829183868, with a p-value of 0.5713396345302115\n",
      "The coefficient for the gender regression is 0.3178480784836144, with a p-value of 0.39780173064113056\n",
      "The coefficient for the mothers_edu regression is -0.0716040567630537, with a p-value of 0.7288846103535906\n"
     ]
    }
   ],
   "source": [
    "vars = [technical, gender, mothers_edu]\n",
    "var_names = [\"technical\", \"gender\", \"mothers_edu\"]\n",
    "for index,var in enumerate(vars):\n",
    "    print(f\"The coefficient for the {var_names[index]} regression is {var[0]}, with a p-value of {var[1]}\")"
   ]
  }
 ],
 "metadata": {
  "kernelspec": {
   "display_name": "base",
   "language": "python",
   "name": "python3"
  },
  "language_info": {
   "codemirror_mode": {
    "name": "ipython",
    "version": 3
   },
   "file_extension": ".py",
   "mimetype": "text/x-python",
   "name": "python",
   "nbconvert_exporter": "python",
   "pygments_lexer": "ipython3",
   "version": "3.9.19"
  }
 },
 "nbformat": 4,
 "nbformat_minor": 5
}
