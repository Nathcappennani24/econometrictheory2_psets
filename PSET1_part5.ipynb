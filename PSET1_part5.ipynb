{
 "cells": [
  {
   "cell_type": "code",
   "execution_count": 1,
   "id": "29c20e82",
   "metadata": {},
   "outputs": [],
   "source": [
    "import pandas as pd \n",
    "\n",
    "import numpy as np \n",
    "import matplotlib.pyplot as plt\n",
    "\n",
    "from scipy import stats\n",
    "import statsmodels.api as sm\n",
    "import statsmodels.formula.api as smf\n",
    "\n",
    "from pandas.api import types\n",
    "\n",
    "from linearmodels import PanelOLS\n",
    "import causallib as cl\n",
    "from causallib.estimation import IPW\n",
    "\n",
    "from sklearn.linear_model import LogisticRegression, LinearRegression\n",
    "\n",
    "from econml.dml import DML\n",
    "from econml.dr import LinearDRLearner # Example of a direct DR learner"
   ]
  },
  {
   "cell_type": "code",
   "execution_count": 2,
   "id": "8cda90d1",
   "metadata": {},
   "outputs": [],
   "source": [
    "data = pd.read_csv(\"src/did_training_productivity.csv\", index_col = 0)\n",
    "data[\"interaction\"] = data[\"post\"]*data[\"treat_group\"]"
   ]
  },
  {
   "cell_type": "markdown",
   "id": "08aa383d",
   "metadata": {},
   "source": [
    "### Inverse probability weighting"
   ]
  },
  {
   "cell_type": "code",
   "execution_count": 4,
   "id": "c4fd5166",
   "metadata": {},
   "outputs": [],
   "source": [
    "covariates = data[['female', 'mothers_educ', 'technical', 'immigrant',\n",
    "                   'base_productivity', 'tenure', 'prev_performance',\n",
    "                   'team_size', 'manager_exp']].copy()"
   ]
  },
  {
   "cell_type": "code",
   "execution_count": 5,
   "id": "dc8a76f5",
   "metadata": {},
   "outputs": [],
   "source": [
    "ordinal_map = {'<HS': 0, 'HS': 1, 'College': 2, 'Graduate': 3}\n",
    "covariates[\"mothers_educ\"] = covariates[\"mothers_educ\"].map(ordinal_map)"
   ]
  },
  {
   "cell_type": "code",
   "execution_count": 6,
   "id": "07fd9e92",
   "metadata": {},
   "outputs": [
    {
     "data": {
      "text/html": [
       "<style>#sk-container-id-1 {\n",
       "  /* Definition of color scheme common for light and dark mode */\n",
       "  --sklearn-color-text: #000;\n",
       "  --sklearn-color-text-muted: #666;\n",
       "  --sklearn-color-line: gray;\n",
       "  /* Definition of color scheme for unfitted estimators */\n",
       "  --sklearn-color-unfitted-level-0: #fff5e6;\n",
       "  --sklearn-color-unfitted-level-1: #f6e4d2;\n",
       "  --sklearn-color-unfitted-level-2: #ffe0b3;\n",
       "  --sklearn-color-unfitted-level-3: chocolate;\n",
       "  /* Definition of color scheme for fitted estimators */\n",
       "  --sklearn-color-fitted-level-0: #f0f8ff;\n",
       "  --sklearn-color-fitted-level-1: #d4ebff;\n",
       "  --sklearn-color-fitted-level-2: #b3dbfd;\n",
       "  --sklearn-color-fitted-level-3: cornflowerblue;\n",
       "\n",
       "  /* Specific color for light theme */\n",
       "  --sklearn-color-text-on-default-background: var(--sg-text-color, var(--theme-code-foreground, var(--jp-content-font-color1, black)));\n",
       "  --sklearn-color-background: var(--sg-background-color, var(--theme-background, var(--jp-layout-color0, white)));\n",
       "  --sklearn-color-border-box: var(--sg-text-color, var(--theme-code-foreground, var(--jp-content-font-color1, black)));\n",
       "  --sklearn-color-icon: #696969;\n",
       "\n",
       "  @media (prefers-color-scheme: dark) {\n",
       "    /* Redefinition of color scheme for dark theme */\n",
       "    --sklearn-color-text-on-default-background: var(--sg-text-color, var(--theme-code-foreground, var(--jp-content-font-color1, white)));\n",
       "    --sklearn-color-background: var(--sg-background-color, var(--theme-background, var(--jp-layout-color0, #111)));\n",
       "    --sklearn-color-border-box: var(--sg-text-color, var(--theme-code-foreground, var(--jp-content-font-color1, white)));\n",
       "    --sklearn-color-icon: #878787;\n",
       "  }\n",
       "}\n",
       "\n",
       "#sk-container-id-1 {\n",
       "  color: var(--sklearn-color-text);\n",
       "}\n",
       "\n",
       "#sk-container-id-1 pre {\n",
       "  padding: 0;\n",
       "}\n",
       "\n",
       "#sk-container-id-1 input.sk-hidden--visually {\n",
       "  border: 0;\n",
       "  clip: rect(1px 1px 1px 1px);\n",
       "  clip: rect(1px, 1px, 1px, 1px);\n",
       "  height: 1px;\n",
       "  margin: -1px;\n",
       "  overflow: hidden;\n",
       "  padding: 0;\n",
       "  position: absolute;\n",
       "  width: 1px;\n",
       "}\n",
       "\n",
       "#sk-container-id-1 div.sk-dashed-wrapped {\n",
       "  border: 1px dashed var(--sklearn-color-line);\n",
       "  margin: 0 0.4em 0.5em 0.4em;\n",
       "  box-sizing: border-box;\n",
       "  padding-bottom: 0.4em;\n",
       "  background-color: var(--sklearn-color-background);\n",
       "}\n",
       "\n",
       "#sk-container-id-1 div.sk-container {\n",
       "  /* jupyter's `normalize.less` sets `[hidden] { display: none; }`\n",
       "     but bootstrap.min.css set `[hidden] { display: none !important; }`\n",
       "     so we also need the `!important` here to be able to override the\n",
       "     default hidden behavior on the sphinx rendered scikit-learn.org.\n",
       "     See: https://github.com/scikit-learn/scikit-learn/issues/21755 */\n",
       "  display: inline-block !important;\n",
       "  position: relative;\n",
       "}\n",
       "\n",
       "#sk-container-id-1 div.sk-text-repr-fallback {\n",
       "  display: none;\n",
       "}\n",
       "\n",
       "div.sk-parallel-item,\n",
       "div.sk-serial,\n",
       "div.sk-item {\n",
       "  /* draw centered vertical line to link estimators */\n",
       "  background-image: linear-gradient(var(--sklearn-color-text-on-default-background), var(--sklearn-color-text-on-default-background));\n",
       "  background-size: 2px 100%;\n",
       "  background-repeat: no-repeat;\n",
       "  background-position: center center;\n",
       "}\n",
       "\n",
       "/* Parallel-specific style estimator block */\n",
       "\n",
       "#sk-container-id-1 div.sk-parallel-item::after {\n",
       "  content: \"\";\n",
       "  width: 100%;\n",
       "  border-bottom: 2px solid var(--sklearn-color-text-on-default-background);\n",
       "  flex-grow: 1;\n",
       "}\n",
       "\n",
       "#sk-container-id-1 div.sk-parallel {\n",
       "  display: flex;\n",
       "  align-items: stretch;\n",
       "  justify-content: center;\n",
       "  background-color: var(--sklearn-color-background);\n",
       "  position: relative;\n",
       "}\n",
       "\n",
       "#sk-container-id-1 div.sk-parallel-item {\n",
       "  display: flex;\n",
       "  flex-direction: column;\n",
       "}\n",
       "\n",
       "#sk-container-id-1 div.sk-parallel-item:first-child::after {\n",
       "  align-self: flex-end;\n",
       "  width: 50%;\n",
       "}\n",
       "\n",
       "#sk-container-id-1 div.sk-parallel-item:last-child::after {\n",
       "  align-self: flex-start;\n",
       "  width: 50%;\n",
       "}\n",
       "\n",
       "#sk-container-id-1 div.sk-parallel-item:only-child::after {\n",
       "  width: 0;\n",
       "}\n",
       "\n",
       "/* Serial-specific style estimator block */\n",
       "\n",
       "#sk-container-id-1 div.sk-serial {\n",
       "  display: flex;\n",
       "  flex-direction: column;\n",
       "  align-items: center;\n",
       "  background-color: var(--sklearn-color-background);\n",
       "  padding-right: 1em;\n",
       "  padding-left: 1em;\n",
       "}\n",
       "\n",
       "\n",
       "/* Toggleable style: style used for estimator/Pipeline/ColumnTransformer box that is\n",
       "clickable and can be expanded/collapsed.\n",
       "- Pipeline and ColumnTransformer use this feature and define the default style\n",
       "- Estimators will overwrite some part of the style using the `sk-estimator` class\n",
       "*/\n",
       "\n",
       "/* Pipeline and ColumnTransformer style (default) */\n",
       "\n",
       "#sk-container-id-1 div.sk-toggleable {\n",
       "  /* Default theme specific background. It is overwritten whether we have a\n",
       "  specific estimator or a Pipeline/ColumnTransformer */\n",
       "  background-color: var(--sklearn-color-background);\n",
       "}\n",
       "\n",
       "/* Toggleable label */\n",
       "#sk-container-id-1 label.sk-toggleable__label {\n",
       "  cursor: pointer;\n",
       "  display: flex;\n",
       "  width: 100%;\n",
       "  margin-bottom: 0;\n",
       "  padding: 0.5em;\n",
       "  box-sizing: border-box;\n",
       "  text-align: center;\n",
       "  align-items: start;\n",
       "  justify-content: space-between;\n",
       "  gap: 0.5em;\n",
       "}\n",
       "\n",
       "#sk-container-id-1 label.sk-toggleable__label .caption {\n",
       "  font-size: 0.6rem;\n",
       "  font-weight: lighter;\n",
       "  color: var(--sklearn-color-text-muted);\n",
       "}\n",
       "\n",
       "#sk-container-id-1 label.sk-toggleable__label-arrow:before {\n",
       "  /* Arrow on the left of the label */\n",
       "  content: \"▸\";\n",
       "  float: left;\n",
       "  margin-right: 0.25em;\n",
       "  color: var(--sklearn-color-icon);\n",
       "}\n",
       "\n",
       "#sk-container-id-1 label.sk-toggleable__label-arrow:hover:before {\n",
       "  color: var(--sklearn-color-text);\n",
       "}\n",
       "\n",
       "/* Toggleable content - dropdown */\n",
       "\n",
       "#sk-container-id-1 div.sk-toggleable__content {\n",
       "  max-height: 0;\n",
       "  max-width: 0;\n",
       "  overflow: hidden;\n",
       "  text-align: left;\n",
       "  /* unfitted */\n",
       "  background-color: var(--sklearn-color-unfitted-level-0);\n",
       "}\n",
       "\n",
       "#sk-container-id-1 div.sk-toggleable__content.fitted {\n",
       "  /* fitted */\n",
       "  background-color: var(--sklearn-color-fitted-level-0);\n",
       "}\n",
       "\n",
       "#sk-container-id-1 div.sk-toggleable__content pre {\n",
       "  margin: 0.2em;\n",
       "  border-radius: 0.25em;\n",
       "  color: var(--sklearn-color-text);\n",
       "  /* unfitted */\n",
       "  background-color: var(--sklearn-color-unfitted-level-0);\n",
       "}\n",
       "\n",
       "#sk-container-id-1 div.sk-toggleable__content.fitted pre {\n",
       "  /* unfitted */\n",
       "  background-color: var(--sklearn-color-fitted-level-0);\n",
       "}\n",
       "\n",
       "#sk-container-id-1 input.sk-toggleable__control:checked~div.sk-toggleable__content {\n",
       "  /* Expand drop-down */\n",
       "  max-height: 200px;\n",
       "  max-width: 100%;\n",
       "  overflow: auto;\n",
       "}\n",
       "\n",
       "#sk-container-id-1 input.sk-toggleable__control:checked~label.sk-toggleable__label-arrow:before {\n",
       "  content: \"▾\";\n",
       "}\n",
       "\n",
       "/* Pipeline/ColumnTransformer-specific style */\n",
       "\n",
       "#sk-container-id-1 div.sk-label input.sk-toggleable__control:checked~label.sk-toggleable__label {\n",
       "  color: var(--sklearn-color-text);\n",
       "  background-color: var(--sklearn-color-unfitted-level-2);\n",
       "}\n",
       "\n",
       "#sk-container-id-1 div.sk-label.fitted input.sk-toggleable__control:checked~label.sk-toggleable__label {\n",
       "  background-color: var(--sklearn-color-fitted-level-2);\n",
       "}\n",
       "\n",
       "/* Estimator-specific style */\n",
       "\n",
       "/* Colorize estimator box */\n",
       "#sk-container-id-1 div.sk-estimator input.sk-toggleable__control:checked~label.sk-toggleable__label {\n",
       "  /* unfitted */\n",
       "  background-color: var(--sklearn-color-unfitted-level-2);\n",
       "}\n",
       "\n",
       "#sk-container-id-1 div.sk-estimator.fitted input.sk-toggleable__control:checked~label.sk-toggleable__label {\n",
       "  /* fitted */\n",
       "  background-color: var(--sklearn-color-fitted-level-2);\n",
       "}\n",
       "\n",
       "#sk-container-id-1 div.sk-label label.sk-toggleable__label,\n",
       "#sk-container-id-1 div.sk-label label {\n",
       "  /* The background is the default theme color */\n",
       "  color: var(--sklearn-color-text-on-default-background);\n",
       "}\n",
       "\n",
       "/* On hover, darken the color of the background */\n",
       "#sk-container-id-1 div.sk-label:hover label.sk-toggleable__label {\n",
       "  color: var(--sklearn-color-text);\n",
       "  background-color: var(--sklearn-color-unfitted-level-2);\n",
       "}\n",
       "\n",
       "/* Label box, darken color on hover, fitted */\n",
       "#sk-container-id-1 div.sk-label.fitted:hover label.sk-toggleable__label.fitted {\n",
       "  color: var(--sklearn-color-text);\n",
       "  background-color: var(--sklearn-color-fitted-level-2);\n",
       "}\n",
       "\n",
       "/* Estimator label */\n",
       "\n",
       "#sk-container-id-1 div.sk-label label {\n",
       "  font-family: monospace;\n",
       "  font-weight: bold;\n",
       "  display: inline-block;\n",
       "  line-height: 1.2em;\n",
       "}\n",
       "\n",
       "#sk-container-id-1 div.sk-label-container {\n",
       "  text-align: center;\n",
       "}\n",
       "\n",
       "/* Estimator-specific */\n",
       "#sk-container-id-1 div.sk-estimator {\n",
       "  font-family: monospace;\n",
       "  border: 1px dotted var(--sklearn-color-border-box);\n",
       "  border-radius: 0.25em;\n",
       "  box-sizing: border-box;\n",
       "  margin-bottom: 0.5em;\n",
       "  /* unfitted */\n",
       "  background-color: var(--sklearn-color-unfitted-level-0);\n",
       "}\n",
       "\n",
       "#sk-container-id-1 div.sk-estimator.fitted {\n",
       "  /* fitted */\n",
       "  background-color: var(--sklearn-color-fitted-level-0);\n",
       "}\n",
       "\n",
       "/* on hover */\n",
       "#sk-container-id-1 div.sk-estimator:hover {\n",
       "  /* unfitted */\n",
       "  background-color: var(--sklearn-color-unfitted-level-2);\n",
       "}\n",
       "\n",
       "#sk-container-id-1 div.sk-estimator.fitted:hover {\n",
       "  /* fitted */\n",
       "  background-color: var(--sklearn-color-fitted-level-2);\n",
       "}\n",
       "\n",
       "/* Specification for estimator info (e.g. \"i\" and \"?\") */\n",
       "\n",
       "/* Common style for \"i\" and \"?\" */\n",
       "\n",
       ".sk-estimator-doc-link,\n",
       "a:link.sk-estimator-doc-link,\n",
       "a:visited.sk-estimator-doc-link {\n",
       "  float: right;\n",
       "  font-size: smaller;\n",
       "  line-height: 1em;\n",
       "  font-family: monospace;\n",
       "  background-color: var(--sklearn-color-background);\n",
       "  border-radius: 1em;\n",
       "  height: 1em;\n",
       "  width: 1em;\n",
       "  text-decoration: none !important;\n",
       "  margin-left: 0.5em;\n",
       "  text-align: center;\n",
       "  /* unfitted */\n",
       "  border: var(--sklearn-color-unfitted-level-1) 1pt solid;\n",
       "  color: var(--sklearn-color-unfitted-level-1);\n",
       "}\n",
       "\n",
       ".sk-estimator-doc-link.fitted,\n",
       "a:link.sk-estimator-doc-link.fitted,\n",
       "a:visited.sk-estimator-doc-link.fitted {\n",
       "  /* fitted */\n",
       "  border: var(--sklearn-color-fitted-level-1) 1pt solid;\n",
       "  color: var(--sklearn-color-fitted-level-1);\n",
       "}\n",
       "\n",
       "/* On hover */\n",
       "div.sk-estimator:hover .sk-estimator-doc-link:hover,\n",
       ".sk-estimator-doc-link:hover,\n",
       "div.sk-label-container:hover .sk-estimator-doc-link:hover,\n",
       ".sk-estimator-doc-link:hover {\n",
       "  /* unfitted */\n",
       "  background-color: var(--sklearn-color-unfitted-level-3);\n",
       "  color: var(--sklearn-color-background);\n",
       "  text-decoration: none;\n",
       "}\n",
       "\n",
       "div.sk-estimator.fitted:hover .sk-estimator-doc-link.fitted:hover,\n",
       ".sk-estimator-doc-link.fitted:hover,\n",
       "div.sk-label-container:hover .sk-estimator-doc-link.fitted:hover,\n",
       ".sk-estimator-doc-link.fitted:hover {\n",
       "  /* fitted */\n",
       "  background-color: var(--sklearn-color-fitted-level-3);\n",
       "  color: var(--sklearn-color-background);\n",
       "  text-decoration: none;\n",
       "}\n",
       "\n",
       "/* Span, style for the box shown on hovering the info icon */\n",
       ".sk-estimator-doc-link span {\n",
       "  display: none;\n",
       "  z-index: 9999;\n",
       "  position: relative;\n",
       "  font-weight: normal;\n",
       "  right: .2ex;\n",
       "  padding: .5ex;\n",
       "  margin: .5ex;\n",
       "  width: min-content;\n",
       "  min-width: 20ex;\n",
       "  max-width: 50ex;\n",
       "  color: var(--sklearn-color-text);\n",
       "  box-shadow: 2pt 2pt 4pt #999;\n",
       "  /* unfitted */\n",
       "  background: var(--sklearn-color-unfitted-level-0);\n",
       "  border: .5pt solid var(--sklearn-color-unfitted-level-3);\n",
       "}\n",
       "\n",
       ".sk-estimator-doc-link.fitted span {\n",
       "  /* fitted */\n",
       "  background: var(--sklearn-color-fitted-level-0);\n",
       "  border: var(--sklearn-color-fitted-level-3);\n",
       "}\n",
       "\n",
       ".sk-estimator-doc-link:hover span {\n",
       "  display: block;\n",
       "}\n",
       "\n",
       "/* \"?\"-specific style due to the `<a>` HTML tag */\n",
       "\n",
       "#sk-container-id-1 a.estimator_doc_link {\n",
       "  float: right;\n",
       "  font-size: 1rem;\n",
       "  line-height: 1em;\n",
       "  font-family: monospace;\n",
       "  background-color: var(--sklearn-color-background);\n",
       "  border-radius: 1rem;\n",
       "  height: 1rem;\n",
       "  width: 1rem;\n",
       "  text-decoration: none;\n",
       "  /* unfitted */\n",
       "  color: var(--sklearn-color-unfitted-level-1);\n",
       "  border: var(--sklearn-color-unfitted-level-1) 1pt solid;\n",
       "}\n",
       "\n",
       "#sk-container-id-1 a.estimator_doc_link.fitted {\n",
       "  /* fitted */\n",
       "  border: var(--sklearn-color-fitted-level-1) 1pt solid;\n",
       "  color: var(--sklearn-color-fitted-level-1);\n",
       "}\n",
       "\n",
       "/* On hover */\n",
       "#sk-container-id-1 a.estimator_doc_link:hover {\n",
       "  /* unfitted */\n",
       "  background-color: var(--sklearn-color-unfitted-level-3);\n",
       "  color: var(--sklearn-color-background);\n",
       "  text-decoration: none;\n",
       "}\n",
       "\n",
       "#sk-container-id-1 a.estimator_doc_link.fitted:hover {\n",
       "  /* fitted */\n",
       "  background-color: var(--sklearn-color-fitted-level-3);\n",
       "}\n",
       "</style><div id=\"sk-container-id-1\" class=\"sk-top-container\"><div class=\"sk-text-repr-fallback\"><pre>IPW(_doc_link_module=sklearn, _doc_link_template=https://scikit-learn.org/1.6/modules/generated/{estimator_module}.{estimator_name}.html, _doc_link_url_param_generator=None, clip_max=None, clip_min=None, use_stabilized=False, verbose=False,\n",
       "    learner=LogisticRegression(C=0.01, max_iter=500, penalty=&#x27;l1&#x27;, solver=&#x27;liblinear&#x27;))</pre><b>In a Jupyter environment, please rerun this cell to show the HTML representation or trust the notebook. <br />On GitHub, the HTML representation is unable to render, please try loading this page with nbviewer.org.</b></div><div class=\"sk-container\" hidden><div class=\"sk-item sk-dashed-wrapped\"><div class=\"sk-label-container\"><div class=\"sk-label  sk-toggleable\"><input class=\"sk-toggleable__control sk-hidden--visually\" id=\"sk-estimator-id-1\" type=\"checkbox\" ><label for=\"sk-estimator-id-1\" class=\"sk-toggleable__label  sk-toggleable__label-arrow\"><div><div>IPW</div></div><div><span class=\"sk-estimator-doc-link \">i<span>Not fitted</span></span></div></label><div class=\"sk-toggleable__content \"><pre>IPW(_doc_link_module=sklearn, _doc_link_template=https://scikit-learn.org/1.6/modules/generated/{estimator_module}.{estimator_name}.html, _doc_link_url_param_generator=None, clip_max=None, clip_min=None, use_stabilized=False, verbose=False,\n",
       "    learner=LogisticRegression(C=0.01, max_iter=500, penalty=&#x27;l1&#x27;, solver=&#x27;liblinear&#x27;))</pre></div> </div></div><div class=\"sk-parallel\"><div class=\"sk-parallel-item\"><div class=\"sk-item\"><div class=\"sk-label-container\"><div class=\"sk-label  sk-toggleable\"><input class=\"sk-toggleable__control sk-hidden--visually\" id=\"sk-estimator-id-2\" type=\"checkbox\" ><label for=\"sk-estimator-id-2\" class=\"sk-toggleable__label  sk-toggleable__label-arrow\"><div><div>learner: LogisticRegression</div></div></label><div class=\"sk-toggleable__content \"><pre>LogisticRegression(C=0.01, max_iter=500, penalty=&#x27;l1&#x27;, solver=&#x27;liblinear&#x27;)</pre></div> </div></div><div class=\"sk-serial\"><div class=\"sk-item\"><div class=\"sk-estimator  sk-toggleable\"><input class=\"sk-toggleable__control sk-hidden--visually\" id=\"sk-estimator-id-3\" type=\"checkbox\" ><label for=\"sk-estimator-id-3\" class=\"sk-toggleable__label  sk-toggleable__label-arrow\"><div><div>LogisticRegression</div></div><div><a class=\"sk-estimator-doc-link \" rel=\"noreferrer\" target=\"_blank\" href=\"https://scikit-learn.org/1.6/modules/generated/sklearn.linear_model.LogisticRegression.html\">?<span>Documentation for LogisticRegression</span></a></div></label><div class=\"sk-toggleable__content \"><pre>LogisticRegression(C=0.01, max_iter=500, penalty=&#x27;l1&#x27;, solver=&#x27;liblinear&#x27;)</pre></div> </div></div></div></div></div></div></div></div></div>"
      ],
      "text/plain": [
       "IPW(_doc_link_module=sklearn, _doc_link_template=https://scikit-learn.org/1.6/modules/generated/{estimator_module}.{estimator_name}.html, _doc_link_url_param_generator=None, clip_max=None, clip_min=None, use_stabilized=False, verbose=False,\n",
       "    learner=LogisticRegression(C=0.01, max_iter=500, penalty='l1', solver='liblinear'))"
      ]
     },
     "execution_count": 6,
     "metadata": {},
     "output_type": "execute_result"
    }
   ],
   "source": [
    "learner = LogisticRegression(penalty=\"l1\", C=0.01, max_iter=500, solver='liblinear')\n",
    "ipw = IPW(learner)\n",
    "ipw.fit(covariates, data[\"treat_group\"])"
   ]
  },
  {
   "cell_type": "code",
   "execution_count": 7,
   "id": "857b908c",
   "metadata": {},
   "outputs": [],
   "source": [
    "weights = ipw.compute_weights(covariates, data[\"treat_group\"])\n",
    "data['ipw_weight'] = weights"
   ]
  },
  {
   "cell_type": "code",
   "execution_count": 8,
   "id": "9a63cbcf",
   "metadata": {},
   "outputs": [],
   "source": [
    "reg_data = data.reset_index().copy()\n",
    "reg_data = reg_data.set_index([\"worker_id\", \"period\"])\n",
    "\n",
    "y = reg_data[\"productivity\"].copy()\n",
    "X = reg_data[\"interaction\"].copy()"
   ]
  },
  {
   "cell_type": "code",
   "execution_count": 9,
   "id": "a054bccb",
   "metadata": {},
   "outputs": [],
   "source": [
    "weighted_model = PanelOLS(y,X, entity_effects=True, time_effects=True, weights=data['ipw_weight']).fit(cov_type= \"clustered\", cluster_entity = True)"
   ]
  },
  {
   "cell_type": "code",
   "execution_count": 10,
   "id": "88bb5ad9",
   "metadata": {},
   "outputs": [
    {
     "data": {
      "text/html": [
       "<table class=\"simpletable\">\n",
       "<caption>PanelOLS Estimation Summary</caption>\n",
       "<tr>\n",
       "  <th>Dep. Variable:</th>      <td>productivity</td>   <th>  R-squared:         </th>     <td>0.2191</td>  \n",
       "</tr>\n",
       "<tr>\n",
       "  <th>Estimator:</th>            <td>PanelOLS</td>     <th>  R-squared (Between):</th>    <td>0.0802</td>  \n",
       "</tr>\n",
       "<tr>\n",
       "  <th>No. Observations:</th>       <td>48000</td>      <th>  R-squared (Within):</th>     <td>0.4272</td>  \n",
       "</tr>\n",
       "<tr>\n",
       "  <th>Date:</th>             <td>Fri, Apr 18 2025</td> <th>  R-squared (Overall):</th>    <td>0.0856</td>  \n",
       "</tr>\n",
       "<tr>\n",
       "  <th>Time:</th>                 <td>19:12:09</td>     <th>  Log-likelihood     </th>   <td>-1.812e+05</td>\n",
       "</tr>\n",
       "<tr>\n",
       "  <th>Cov. Estimator:</th>       <td>Clustered</td>    <th>                     </th>        <td></td>     \n",
       "</tr>\n",
       "<tr>\n",
       "  <th></th>                          <td></td>         <th>  F-statistic:       </th>    <td>1.29e+04</td> \n",
       "</tr>\n",
       "<tr>\n",
       "  <th>Entities:</th>               <td>2000</td>       <th>  P-value            </th>     <td>0.0000</td>  \n",
       "</tr>\n",
       "<tr>\n",
       "  <th>Avg Obs:</th>               <td>24.000</td>      <th>  Distribution:      </th>   <td>F(1,45976)</td>\n",
       "</tr>\n",
       "<tr>\n",
       "  <th>Min Obs:</th>               <td>24.000</td>      <th>                     </th>        <td></td>     \n",
       "</tr>\n",
       "<tr>\n",
       "  <th>Max Obs:</th>               <td>24.000</td>      <th>  F-statistic (robust):</th>  <td>1.018e+04</td>\n",
       "</tr>\n",
       "<tr>\n",
       "  <th></th>                          <td></td>         <th>  P-value            </th>     <td>0.0000</td>  \n",
       "</tr>\n",
       "<tr>\n",
       "  <th>Time periods:</th>            <td>24</td>        <th>  Distribution:      </th>   <td>F(1,45976)</td>\n",
       "</tr>\n",
       "<tr>\n",
       "  <th>Avg Obs:</th>               <td>2000.0</td>      <th>                     </th>        <td></td>     \n",
       "</tr>\n",
       "<tr>\n",
       "  <th>Min Obs:</th>               <td>2000.0</td>      <th>                     </th>        <td></td>     \n",
       "</tr>\n",
       "<tr>\n",
       "  <th>Max Obs:</th>               <td>2000.0</td>      <th>                     </th>        <td></td>     \n",
       "</tr>\n",
       "<tr>\n",
       "  <th></th>                          <td></td>         <th>                     </th>        <td></td>     \n",
       "</tr>\n",
       "</table>\n",
       "<table class=\"simpletable\">\n",
       "<caption>Parameter Estimates</caption>\n",
       "<tr>\n",
       "       <td></td>       <th>Parameter</th> <th>Std. Err.</th> <th>T-stat</th> <th>P-value</th> <th>Lower CI</th> <th>Upper CI</th>\n",
       "</tr>\n",
       "<tr>\n",
       "  <th>interaction</th>  <td>22.376</td>    <td>0.2217</td>   <td>100.91</td> <td>0.0000</td>   <td>21.941</td>   <td>22.810</td> \n",
       "</tr>\n",
       "</table><br/><br/>F-test for Poolability: 65.502<br/>P-value: 0.0000<br/>Distribution: F(2022,45976)<br/><br/>Included effects: Entity, Time<br/>id: 0x242ecf72eb0"
      ],
      "text/plain": [
       "                          PanelOLS Estimation Summary                           \n",
       "================================================================================\n",
       "Dep. Variable:           productivity   R-squared:                        0.2191\n",
       "Estimator:                   PanelOLS   R-squared (Between):              0.0802\n",
       "No. Observations:               48000   R-squared (Within):               0.4272\n",
       "Date:                Fri, Apr 18 2025   R-squared (Overall):              0.0856\n",
       "Time:                        19:12:09   Log-likelihood                -1.812e+05\n",
       "Cov. Estimator:             Clustered                                           \n",
       "                                        F-statistic:                    1.29e+04\n",
       "Entities:                        2000   P-value                           0.0000\n",
       "Avg Obs:                       24.000   Distribution:                 F(1,45976)\n",
       "Min Obs:                       24.000                                           \n",
       "Max Obs:                       24.000   F-statistic (robust):          1.018e+04\n",
       "                                        P-value                           0.0000\n",
       "Time periods:                      24   Distribution:                 F(1,45976)\n",
       "Avg Obs:                       2000.0                                           \n",
       "Min Obs:                       2000.0                                           \n",
       "Max Obs:                       2000.0                                           \n",
       "                                                                                \n",
       "                              Parameter Estimates                              \n",
       "===============================================================================\n",
       "             Parameter  Std. Err.     T-stat    P-value    Lower CI    Upper CI\n",
       "-------------------------------------------------------------------------------\n",
       "interaction     22.376     0.2217     100.91     0.0000      21.941      22.810\n",
       "===============================================================================\n",
       "\n",
       "F-test for Poolability: 65.502\n",
       "P-value: 0.0000\n",
       "Distribution: F(2022,45976)\n",
       "\n",
       "Included effects: Entity, Time\n",
       "PanelEffectsResults, id: 0x242ecf72eb0"
      ]
     },
     "execution_count": 10,
     "metadata": {},
     "output_type": "execute_result"
    }
   ],
   "source": [
    "weighted_model"
   ]
  },
  {
   "cell_type": "markdown",
   "id": "558fedf6",
   "metadata": {},
   "source": [
    "### Regression adjustment"
   ]
  },
  {
   "cell_type": "code",
   "execution_count": 103,
   "id": "6add990d",
   "metadata": {},
   "outputs": [],
   "source": [
    "df_delta_prod = data.reset_index().copy()"
   ]
  },
  {
   "cell_type": "code",
   "execution_count": 104,
   "id": "3d4b5734",
   "metadata": {},
   "outputs": [],
   "source": [
    "pre_treatment_avg = df_delta_prod[df_delta_prod[\"period\"] < 13].groupby(\"worker_id\")[\"productivity\"].mean()\n",
    "post_treatment_avg = df_delta_prod[df_delta_prod[\"period\"] >= 13].groupby(\"worker_id\")[\"productivity\"].mean()\n",
    "\n",
    "delta_prod_per_worker = post_treatment_avg - pre_treatment_avg"
   ]
  },
  {
   "cell_type": "code",
   "execution_count": 105,
   "id": "04c5f209",
   "metadata": {},
   "outputs": [
    {
     "data": {
      "image/png": "[encoded data removed]",
      "text/plain": [
       "<Figure size 640x480 with 1 Axes>"
      ]
     },
     "metadata": {},
     "output_type": "display_data"
    }
   ],
   "source": [
    "delta_prod_per_worker.plot.hist(bins  = 20, density = True);"
   ]
  },
  {
   "cell_type": "code",
   "execution_count": 106,
   "id": "d10fa4a5",
   "metadata": {},
   "outputs": [],
   "source": [
    "worker_prod_dic = delta_prod_per_worker.to_dict()\n",
    "df_delta_prod[\"delta_prod\"] = df_delta_prod[\"worker_id\"].map(worker_prod_dic)   "
   ]
  },
  {
   "cell_type": "code",
   "execution_count": 107,
   "id": "caa3144d",
   "metadata": {},
   "outputs": [],
   "source": [
    "covariates_name = ['female', 'mothers_educ', 'technical', 'immigrant',\n",
    "                   'base_productivity', 'tenure', 'prev_performance',\n",
    "                   'team_size', 'manager_exp']\n",
    "\n",
    "ordinal_map = {'<HS': 0, 'HS': 1, 'College': 2, 'Graduate': 3}"
   ]
  },
  {
   "cell_type": "code",
   "execution_count": 109,
   "id": "f88eb3a5",
   "metadata": {},
   "outputs": [],
   "source": [
    "df_delta_prod[\"mothers_educ\"] = df_delta_prod[\"mothers_educ\"].map(ordinal_map)"
   ]
  },
  {
   "cell_type": "code",
   "execution_count": 111,
   "id": "3bf84c14",
   "metadata": {},
   "outputs": [],
   "source": [
    "df_delta_control = df_delta_prod.loc[df_delta_prod[\"treat_group\"] == 0,]\n",
    "df_delta_control = df_delta_control.set_index([\"worker_id\", \"period\"])\n",
    "\n",
    "y_delta_control = df_delta_control[\"delta_prod\"]\n",
    "X_delta_control = sm.add_constant(df_delta_control[covariates_name])"
   ]
  },
  {
   "cell_type": "code",
   "execution_count": 113,
   "id": "897b8128",
   "metadata": {},
   "outputs": [
    {
     "data": {
      "image/png": "[encoded data removed]",
      "text/plain": [
       "<Figure size 640x480 with 1 Axes>"
      ]
     },
     "metadata": {},
     "output_type": "display_data"
    }
   ],
   "source": [
    "y_delta_control.plot.hist(bins = 20, density = True);"
   ]
  },
  {
   "cell_type": "code",
   "execution_count": 115,
   "id": "5b777377",
   "metadata": {},
   "outputs": [
    {
     "data": {
      "text/plain": [
       "(33624,)"
      ]
     },
     "execution_count": 115,
     "metadata": {},
     "output_type": "execute_result"
    }
   ],
   "source": [
    "y_delta_control.shape"
   ]
  },
  {
   "cell_type": "code",
   "execution_count": 119,
   "id": "dea1e0da",
   "metadata": {},
   "outputs": [],
   "source": [
    "regression_adjustment_step1 = PanelOLS(y_delta_control,X_delta_control, entity_effects=False, time_effects=False, drop_absorbed= False).fit(cov_type= \"clustered\", cluster_entity = True)"
   ]
  },
  {
   "cell_type": "code",
   "execution_count": 120,
   "id": "b2a11af5",
   "metadata": {},
   "outputs": [
    {
     "data": {
      "text/html": [
       "<table class=\"simpletable\">\n",
       "<caption>PanelOLS Estimation Summary</caption>\n",
       "<tr>\n",
       "  <th>Dep. Variable:</th>       <td>delta_prod</td>    <th>  R-squared:         </th>     <td>0.0030</td>  \n",
       "</tr>\n",
       "<tr>\n",
       "  <th>Estimator:</th>            <td>PanelOLS</td>     <th>  R-squared (Between):</th>    <td>0.0032</td>  \n",
       "</tr>\n",
       "<tr>\n",
       "  <th>No. Observations:</th>       <td>33624</td>      <th>  R-squared (Within):</th>     <td>0.0000</td>  \n",
       "</tr>\n",
       "<tr>\n",
       "  <th>Date:</th>             <td>Fri, Apr 18 2025</td> <th>  R-squared (Overall):</th>    <td>0.0030</td>  \n",
       "</tr>\n",
       "<tr>\n",
       "  <th>Time:</th>                 <td>19:58:43</td>     <th>  Log-likelihood     </th>   <td>-9.604e+04</td>\n",
       "</tr>\n",
       "<tr>\n",
       "  <th>Cov. Estimator:</th>       <td>Clustered</td>    <th>                     </th>        <td></td>     \n",
       "</tr>\n",
       "<tr>\n",
       "  <th></th>                          <td></td>         <th>  F-statistic:       </th>     <td>11.305</td>  \n",
       "</tr>\n",
       "<tr>\n",
       "  <th>Entities:</th>               <td>1401</td>       <th>  P-value            </th>     <td>0.0000</td>  \n",
       "</tr>\n",
       "<tr>\n",
       "  <th>Avg Obs:</th>               <td>24.000</td>      <th>  Distribution:      </th>   <td>F(9,33614)</td>\n",
       "</tr>\n",
       "<tr>\n",
       "  <th>Min Obs:</th>               <td>24.000</td>      <th>                     </th>        <td></td>     \n",
       "</tr>\n",
       "<tr>\n",
       "  <th>Max Obs:</th>               <td>24.000</td>      <th>  F-statistic (robust):</th>   <td>5.3882</td>  \n",
       "</tr>\n",
       "<tr>\n",
       "  <th></th>                          <td></td>         <th>  P-value            </th>     <td>0.0000</td>  \n",
       "</tr>\n",
       "<tr>\n",
       "  <th>Time periods:</th>            <td>24</td>        <th>  Distribution:      </th>   <td>F(9,33614)</td>\n",
       "</tr>\n",
       "<tr>\n",
       "  <th>Avg Obs:</th>               <td>1401.0</td>      <th>                     </th>        <td></td>     \n",
       "</tr>\n",
       "<tr>\n",
       "  <th>Min Obs:</th>               <td>1401.0</td>      <th>                     </th>        <td></td>     \n",
       "</tr>\n",
       "<tr>\n",
       "  <th>Max Obs:</th>               <td>1401.0</td>      <th>                     </th>        <td></td>     \n",
       "</tr>\n",
       "<tr>\n",
       "  <th></th>                          <td></td>         <th>                     </th>        <td></td>     \n",
       "</tr>\n",
       "</table>\n",
       "<table class=\"simpletable\">\n",
       "<caption>Parameter Estimates</caption>\n",
       "<tr>\n",
       "          <td></td>          <th>Parameter</th> <th>Std. Err.</th> <th>T-stat</th>  <th>P-value</th> <th>Lower CI</th> <th>Upper CI</th>\n",
       "</tr>\n",
       "<tr>\n",
       "  <th>const</th>              <td>12.963</td>    <td>0.7809</td>   <td>16.601</td>  <td>0.0000</td>   <td>11.432</td>   <td>14.494</td> \n",
       "</tr>\n",
       "<tr>\n",
       "  <th>female</th>             <td>0.1412</td>    <td>0.2277</td>   <td>0.6200</td>  <td>0.5353</td>   <td>-0.3051</td>  <td>0.5875</td> \n",
       "</tr>\n",
       "<tr>\n",
       "  <th>mothers_educ</th>       <td>0.0425</td>    <td>0.1235</td>   <td>0.3443</td>  <td>0.7307</td>   <td>-0.1996</td>  <td>0.2847</td> \n",
       "</tr>\n",
       "<tr>\n",
       "  <th>technical</th>          <td>0.2647</td>    <td>0.2420</td>   <td>1.0940</td>  <td>0.2739</td>   <td>-0.2096</td>  <td>0.7390</td> \n",
       "</tr>\n",
       "<tr>\n",
       "  <th>immigrant</th>          <td>0.4755</td>    <td>0.3194</td>   <td>1.4887</td>  <td>0.1366</td>   <td>-0.1505</td>  <td>1.1014</td> \n",
       "</tr>\n",
       "<tr>\n",
       "  <th>base_productivity</th>  <td>0.0008</td>    <td>0.0074</td>   <td>0.1146</td>  <td>0.9088</td>   <td>-0.0137</td>  <td>0.0154</td> \n",
       "</tr>\n",
       "<tr>\n",
       "  <th>tenure</th>             <td>-0.0407</td>   <td>0.0062</td>   <td>-6.5824</td> <td>0.0000</td>   <td>-0.0528</td>  <td>-0.0286</td>\n",
       "</tr>\n",
       "<tr>\n",
       "  <th>prev_performance</th>   <td>-0.1378</td>   <td>0.1165</td>   <td>-1.1824</td> <td>0.2370</td>   <td>-0.3661</td>  <td>0.0906</td> \n",
       "</tr>\n",
       "<tr>\n",
       "  <th>team_size</th>          <td>-0.0022</td>   <td>0.0096</td>   <td>-0.2310</td> <td>0.8173</td>   <td>-0.0209</td>  <td>0.0165</td> \n",
       "</tr>\n",
       "<tr>\n",
       "  <th>manager_exp</th>        <td>0.0013</td>    <td>0.0082</td>   <td>0.1564</td>  <td>0.8757</td>   <td>-0.0148</td>  <td>0.0173</td> \n",
       "</tr>\n",
       "</table><br/><br/><br/>id: 0x24281685fa0"
      ],
      "text/plain": [
       "                          PanelOLS Estimation Summary                           \n",
       "================================================================================\n",
       "Dep. Variable:             delta_prod   R-squared:                        0.0030\n",
       "Estimator:                   PanelOLS   R-squared (Between):              0.0032\n",
       "No. Observations:               33624   R-squared (Within):               0.0000\n",
       "Date:                Fri, Apr 18 2025   R-squared (Overall):              0.0030\n",
       "Time:                        19:58:43   Log-likelihood                -9.604e+04\n",
       "Cov. Estimator:             Clustered                                           \n",
       "                                        F-statistic:                      11.305\n",
       "Entities:                        1401   P-value                           0.0000\n",
       "Avg Obs:                       24.000   Distribution:                 F(9,33614)\n",
       "Min Obs:                       24.000                                           \n",
       "Max Obs:                       24.000   F-statistic (robust):             5.3882\n",
       "                                        P-value                           0.0000\n",
       "Time periods:                      24   Distribution:                 F(9,33614)\n",
       "Avg Obs:                       1401.0                                           \n",
       "Min Obs:                       1401.0                                           \n",
       "Max Obs:                       1401.0                                           \n",
       "                                                                                \n",
       "                                 Parameter Estimates                                 \n",
       "=====================================================================================\n",
       "                   Parameter  Std. Err.     T-stat    P-value    Lower CI    Upper CI\n",
       "-------------------------------------------------------------------------------------\n",
       "const                 12.963     0.7809     16.601     0.0000      11.432      14.494\n",
       "female                0.1412     0.2277     0.6200     0.5353     -0.3051      0.5875\n",
       "mothers_educ          0.0425     0.1235     0.3443     0.7307     -0.1996      0.2847\n",
       "technical             0.2647     0.2420     1.0940     0.2739     -0.2096      0.7390\n",
       "immigrant             0.4755     0.3194     1.4887     0.1366     -0.1505      1.1014\n",
       "base_productivity     0.0008     0.0074     0.1146     0.9088     -0.0137      0.0154\n",
       "tenure               -0.0407     0.0062    -6.5824     0.0000     -0.0528     -0.0286\n",
       "prev_performance     -0.1378     0.1165    -1.1824     0.2370     -0.3661      0.0906\n",
       "team_size            -0.0022     0.0096    -0.2310     0.8173     -0.0209      0.0165\n",
       "manager_exp           0.0013     0.0082     0.1564     0.8757     -0.0148      0.0173\n",
       "=====================================================================================\n",
       "\n",
       "\n",
       "PanelEffectsResults, id: 0x24281685fa0"
      ]
     },
     "execution_count": 120,
     "metadata": {},
     "output_type": "execute_result"
    }
   ],
   "source": [
    "regression_adjustment_step1"
   ]
  },
  {
   "cell_type": "code",
   "execution_count": 121,
   "id": "c7cf9524",
   "metadata": {},
   "outputs": [],
   "source": [
    "df_delta_treated = df_delta_prod.loc[df_delta_prod[\"treat_group\"] == 1,]\n",
    "df_delta_treated = df_delta_treated.set_index([\"worker_id\", \"period\"])\n",
    "\n",
    "y_delta_treated = df_delta_treated[\"delta_prod\"]\n",
    "X_delta_treated = sm.add_constant(df_delta_treated[covariates_name])"
   ]
  },
  {
   "cell_type": "code",
   "execution_count": 125,
   "id": "8e8087c1",
   "metadata": {},
   "outputs": [
    {
     "data": {
      "image/png": "[encoded data removed]",
      "text/plain": [
       "<Figure size 640x480 with 1 Axes>"
      ]
     },
     "metadata": {},
     "output_type": "display_data"
    }
   ],
   "source": [
    "y_delta_treated.plot.hist(bins = 20, density =True);"
   ]
  },
  {
   "cell_type": "code",
   "execution_count": 126,
   "id": "81d7a81b",
   "metadata": {},
   "outputs": [],
   "source": [
    "predicted_delta_y = regression_adjustment_step1.predict(X_delta_treated)"
   ]
  },
  {
   "cell_type": "code",
   "execution_count": 129,
   "id": "c1474e0b",
   "metadata": {},
   "outputs": [
    {
     "data": {
      "text/plain": [
       "<Axes: ylabel='Frequency'>"
      ]
     },
     "execution_count": 129,
     "metadata": {},
     "output_type": "execute_result"
    },
    {
     "data": {
      "image/png": "[encoded data removed]",
      "text/plain": [
       "<Figure size 640x480 with 1 Axes>"
      ]
     },
     "metadata": {},
     "output_type": "display_data"
    }
   ],
   "source": [
    "predicted_delta_y.plot.hist(bins = 20, density = True)"
   ]
  },
  {
   "cell_type": "code",
   "execution_count": 130,
   "id": "4bd45bb1",
   "metadata": {},
   "outputs": [
    {
     "data": {
      "text/plain": [
       "predictions    22.399959\n",
       "dtype: float64"
      ]
     },
     "execution_count": 130,
     "metadata": {},
     "output_type": "execute_result"
    }
   ],
   "source": [
    "y_delta_treated.mean()-predicted_delta_y.mean()"
   ]
  },
  {
   "cell_type": "markdown",
   "id": "0a0a90a4",
   "metadata": {},
   "source": [
    "### Doubly Robust Estimator"
   ]
  },
  {
   "cell_type": "code",
   "execution_count": 38,
   "id": "d3ac16f4",
   "metadata": {},
   "outputs": [],
   "source": [
    "Y = data['productivity'].values  # Outcome\n",
    "T = data['treat_group'].values    # Treatment (binary)\n",
    "X = covariates_regdata.values  # Features/Covariates\n",
    "W = None"
   ]
  },
  {
   "cell_type": "code",
   "execution_count": 39,
   "id": "4d59c5d2",
   "metadata": {},
   "outputs": [
    {
     "name": "stderr",
     "output_type": "stream",
     "text": [
      "c:\\Users\\Saverio\\anaconda3\\lib\\site-packages\\sklearn\\utils\\deprecation.py:151: FutureWarning: 'force_all_finite' was renamed to 'ensure_all_finite' in 1.6 and will be removed in 1.8.\n",
      "  warnings.warn(\n",
      "c:\\Users\\Saverio\\anaconda3\\lib\\site-packages\\sklearn\\utils\\deprecation.py:151: FutureWarning: 'force_all_finite' was renamed to 'ensure_all_finite' in 1.6 and will be removed in 1.8.\n",
      "  warnings.warn(\n",
      "c:\\Users\\Saverio\\anaconda3\\lib\\site-packages\\sklearn\\utils\\deprecation.py:151: FutureWarning: 'force_all_finite' was renamed to 'ensure_all_finite' in 1.6 and will be removed in 1.8.\n",
      "  warnings.warn(\n",
      "c:\\Users\\Saverio\\anaconda3\\lib\\site-packages\\sklearn\\linear_model\\_logistic.py:465: ConvergenceWarning: lbfgs failed to converge (status=1):\n",
      "STOP: TOTAL NO. of ITERATIONS REACHED LIMIT.\n",
      "\n",
      "Increase the number of iterations (max_iter) or scale the data as shown in:\n",
      "    https://scikit-learn.org/stable/modules/preprocessing.html\n",
      "Please also refer to the documentation for alternative solver options:\n",
      "    https://scikit-learn.org/stable/modules/linear_model.html#logistic-regression\n",
      "  n_iter_i = _check_optimize_result(\n",
      "c:\\Users\\Saverio\\anaconda3\\lib\\site-packages\\sklearn\\linear_model\\_logistic.py:465: ConvergenceWarning: lbfgs failed to converge (status=1):\n",
      "STOP: TOTAL NO. of ITERATIONS REACHED LIMIT.\n",
      "\n",
      "Increase the number of iterations (max_iter) or scale the data as shown in:\n",
      "    https://scikit-learn.org/stable/modules/preprocessing.html\n",
      "Please also refer to the documentation for alternative solver options:\n",
      "    https://scikit-learn.org/stable/modules/linear_model.html#logistic-regression\n",
      "  n_iter_i = _check_optimize_result(\n",
      "c:\\Users\\Saverio\\anaconda3\\lib\\site-packages\\sklearn\\utils\\deprecation.py:151: FutureWarning: 'force_all_finite' was renamed to 'ensure_all_finite' in 1.6 and will be removed in 1.8.\n",
      "  warnings.warn(\n",
      "c:\\Users\\Saverio\\anaconda3\\lib\\site-packages\\sklearn\\utils\\deprecation.py:151: FutureWarning: 'force_all_finite' was renamed to 'ensure_all_finite' in 1.6 and will be removed in 1.8.\n",
      "  warnings.warn(\n",
      "c:\\Users\\Saverio\\anaconda3\\lib\\site-packages\\sklearn\\utils\\deprecation.py:151: FutureWarning: 'force_all_finite' was renamed to 'ensure_all_finite' in 1.6 and will be removed in 1.8.\n",
      "  warnings.warn(\n",
      "c:\\Users\\Saverio\\anaconda3\\lib\\site-packages\\sklearn\\utils\\deprecation.py:151: FutureWarning: 'force_all_finite' was renamed to 'ensure_all_finite' in 1.6 and will be removed in 1.8.\n",
      "  warnings.warn(\n",
      "c:\\Users\\Saverio\\anaconda3\\lib\\site-packages\\sklearn\\utils\\deprecation.py:151: FutureWarning: 'force_all_finite' was renamed to 'ensure_all_finite' in 1.6 and will be removed in 1.8.\n",
      "  warnings.warn(\n",
      "c:\\Users\\Saverio\\anaconda3\\lib\\site-packages\\sklearn\\utils\\deprecation.py:151: FutureWarning: 'force_all_finite' was renamed to 'ensure_all_finite' in 1.6 and will be removed in 1.8.\n",
      "  warnings.warn(\n",
      "c:\\Users\\Saverio\\anaconda3\\lib\\site-packages\\sklearn\\utils\\deprecation.py:151: FutureWarning: 'force_all_finite' was renamed to 'ensure_all_finite' in 1.6 and will be removed in 1.8.\n",
      "  warnings.warn(\n",
      "c:\\Users\\Saverio\\anaconda3\\lib\\site-packages\\sklearn\\utils\\deprecation.py:151: FutureWarning: 'force_all_finite' was renamed to 'ensure_all_finite' in 1.6 and will be removed in 1.8.\n",
      "  warnings.warn(\n",
      "c:\\Users\\Saverio\\anaconda3\\lib\\site-packages\\sklearn\\utils\\deprecation.py:151: FutureWarning: 'force_all_finite' was renamed to 'ensure_all_finite' in 1.6 and will be removed in 1.8.\n",
      "  warnings.warn(\n"
     ]
    }
   ],
   "source": [
    "est = LinearDRLearner()\n",
    "est.fit(y, T, X=X, W=W)\n",
    "point = est.effect(X, T1=1)\n",
    "lb, ub = est.effect_interval(X, T1=1, alpha=0.05)\n",
    "# Get CATE for all treatments\n",
    "point = est.const_marginal_effect(X)\n",
    "lb, ub = est.const_marginal_effect_interval(X, alpha=0.05)"
   ]
  },
  {
   "cell_type": "code",
   "execution_count": 43,
   "id": "d1dec08d",
   "metadata": {},
   "outputs": [
    {
     "name": "stdout",
     "output_type": "stream",
     "text": [
      "\n",
      "Average Marginal Effect(s):\n",
      "[[  1.0362054 ]\n",
      " [-10.45214394]\n",
      " [  1.22547425]\n",
      " ...\n",
      " [ 23.99668178]\n",
      " [ 23.69631963]\n",
      " [ 23.91367685]]\n",
      "\n",
      "Overall Average Treatment Effect: 13.588682120819927\n"
     ]
    }
   ],
   "source": [
    "overall_ate = point.mean()\n",
    "print(\"\\nAverage Marginal Effect(s):\")\n",
    "print(point)\n",
    "print(f\"\\nOverall Average Treatment Effect: {overall_ate}\")"
   ]
  },
  {
   "cell_type": "code",
   "execution_count": 46,
   "id": "2a13b1bf",
   "metadata": {},
   "outputs": [
    {
     "data": {
      "image/png": "[encoded data removed]",
      "text/plain": [
       "<Figure size 640x480 with 1 Axes>"
      ]
     },
     "metadata": {},
     "output_type": "display_data"
    }
   ],
   "source": [
    "plt.hist(point);"
   ]
  }
 ],
 "metadata": {
  "kernelspec": {
   "display_name": "base",
   "language": "python",
   "name": "python3"
  },
  "language_info": {
   "codemirror_mode": {
    "name": "ipython",
    "version": 3
   },
   "file_extension": ".py",
   "mimetype": "text/x-python",
   "name": "python",
   "nbconvert_exporter": "python",
   "pygments_lexer": "ipython3",
   "version": "3.9.19"
  }
 },
 "nbformat": 4,
 "nbformat_minor": 5
}
