{
 "cells": [
  {
   "cell_type": "code",
   "execution_count": 1,
   "id": "934936c9",
   "metadata": {},
   "outputs": [],
   "source": [
    "import pandas as pd \n",
    "\n",
    "import numpy as np \n",
    "import matplotlib.pyplot as plt\n",
    "\n",
    "from scipy import stats\n",
    "\n",
    "from pandas.api import types"
   ]
  },
  {
   "cell_type": "code",
   "execution_count": 2,
   "id": "30060504",
   "metadata": {},
   "outputs": [],
   "source": [
    "data = pd.read_csv(\"src/did_training_productivity.csv\", index_col = 0)"
   ]
  },
  {
   "cell_type": "markdown",
   "id": "562edce2",
   "metadata": {},
   "source": [
    "# Descriptive analysis
1. Present summary statistics (mean, standard deviation) of worker characteristics separately for the treatment and control groups."
   ]
  },
  {
   "cell_type": "code",
   "execution_count": 14,
   "id": "3a263170",
   "metadata": {},
   "outputs": [],
   "source": [
    "# Group of individuals treated at least once, so who are in the \"treat_group\"\n",
    "treated = data[data[\"treat_group\"] == 1].copy()\n",
    "\n",
    "ordinal_map = {'<HS': 0, 'HS': 1, 'College': 2, 'Graduate': 3}\n",
    "treated[\"mothers_educ\"] = treated[\"mothers_educ\"].map(ordinal_map)\n",
    "\n",
    "# Group of individuals who never got treated, so who aren't in the \"treat_group\"\n",
    "control = data[data[\"treat_group\"] == 0].copy()\n",
    "\n",
    "control[\"mothers_educ\"] = control[\"mothers_educ\"].map(ordinal_map)"
   ]
  },
  {
   "cell_type": "code",
   "execution_count": null,
   "id": "63d7c74e",
   "metadata": {},
   "outputs": [],
   "source": [
    "worker_vars = [ 'female', 'mothers_educ', 'technical',\n",
    "                'immigrant', 'base_productivity',\n",
    "                'tenure', 'prev_performance',\n",
    "                'team_size', 'manager_exp',\n",
    "                'treat_hours','productivity', 'log_productivity']\n",
    "\n",
    "useful_stats = [\"mean\",\"std\"]"
   ]
  },
  {
   "cell_type": "code",
   "execution_count": 29,
   "id": "181d2d00",
   "metadata": {},
   "outputs": [
    {
     "data": {
      "text/html": [
       "<div>\n",
       "<style scoped>\n",
       "    .dataframe tbody tr th:only-of-type {\n",
       "        vertical-align: middle;\n",
       "    }\n",
       "\n",
       "    .dataframe tbody tr th {\n",
       "        vertical-align: top;\n",
       "    }\n",
       "\n",
       "    .dataframe thead th {\n",
       "        text-align: right;\n",
       "    }\n",
       "</style>\n",
       "<table border=\"1\" class=\"dataframe\">\n",
       "  <thead>\n",
       "    <tr style=\"text-align: right;\">\n",
       "      <th></th>\n",
       "      <th>female</th>\n",
       "      <th>mothers_educ</th>\n",
       "      <th>technical</th>\n",
       "      <th>immigrant</th>\n",
       "      <th>base_productivity</th>\n",
       "      <th>tenure</th>\n",
       "      <th>prev_performance</th>\n",
       "      <th>team_size</th>\n",
       "      <th>manager_exp</th>\n",
       "      <th>treat_hours</th>\n",
       "      <th>productivity</th>\n",
       "      <th>log_productivity</th>\n",
       "    </tr>\n",
       "  </thead>\n",
       "  <tbody>\n",
       "    <tr>\n",
       "      <th>mean</th>\n",
       "      <td>0.467446</td>\n",
       "      <td>1.362270</td>\n",
       "      <td>0.342237</td>\n",
       "      <td>0.125209</td>\n",
       "      <td>100.005689</td>\n",
       "      <td>3.717594</td>\n",
       "      <td>0.698946</td>\n",
       "      <td>6.513982</td>\n",
       "      <td>7.985462</td>\n",
       "      <td>9.955273</td>\n",
       "      <td>147.108237</td>\n",
       "      <td>5.093169</td>\n",
       "    </tr>\n",
       "    <tr>\n",
       "      <th>std</th>\n",
       "      <td>0.498956</td>\n",
       "      <td>0.901141</td>\n",
       "      <td>0.474475</td>\n",
       "      <td>0.330967</td>\n",
       "      <td>15.545845</td>\n",
       "      <td>1.348548</td>\n",
       "      <td>0.198905</td>\n",
       "      <td>2.288560</td>\n",
       "      <td>2.842240</td>\n",
       "      <td>10.438105</td>\n",
       "      <td>27.190090</td>\n",
       "      <td>0.246477</td>\n",
       "    </tr>\n",
       "  </tbody>\n",
       "</table>\n",
       "</div>"
      ],
      "text/plain": [
       "        female  mothers_educ  technical  immigrant  base_productivity  \\\n",
       "mean  0.467446      1.362270   0.342237   0.125209         100.005689   \n",
       "std   0.498956      0.901141   0.474475   0.330967          15.545845   \n",
       "\n",
       "        tenure  prev_performance  team_size  manager_exp  treat_hours  \\\n",
       "mean  3.717594          0.698946   6.513982     7.985462     9.955273   \n",
       "std   1.348548          0.198905   2.288560     2.842240    10.438105   \n",
       "\n",
       "      productivity  log_productivity  \n",
       "mean    147.108237          5.093169  \n",
       "std      27.190090          0.246477  "
      ]
     },
     "execution_count": 29,
     "metadata": {},
     "output_type": "execute_result"
    }
   ],
   "source": [
    "treated_summary = treated.describe().loc[[\"mean\", \"std\"], worker_vars]\n",
    "treated_summary"
   ]
  },
  {
   "cell_type": "code",
   "execution_count": 31,
   "id": "594b0eff",
   "metadata": {},
   "outputs": [
    {
     "data": {
      "text/html": [
       "<div>\n",
       "<style scoped>\n",
       "    .dataframe tbody tr th:only-of-type {\n",
       "        vertical-align: middle;\n",
       "    }\n",
       "\n",
       "    .dataframe tbody tr th {\n",
       "        vertical-align: top;\n",
       "    }\n",
       "\n",
       "    .dataframe thead th {\n",
       "        text-align: right;\n",
       "    }\n",
       "</style>\n",
       "<table border=\"1\" class=\"dataframe\">\n",
       "  <thead>\n",
       "    <tr style=\"text-align: right;\">\n",
       "      <th></th>\n",
       "      <th>female</th>\n",
       "      <th>mothers_educ</th>\n",
       "      <th>technical</th>\n",
       "      <th>immigrant</th>\n",
       "      <th>base_productivity</th>\n",
       "      <th>tenure</th>\n",
       "      <th>prev_performance</th>\n",
       "      <th>team_size</th>\n",
       "      <th>manager_exp</th>\n",
       "      <th>treat_hours</th>\n",
       "      <th>productivity</th>\n",
       "      <th>log_productivity</th>\n",
       "    </tr>\n",
       "  </thead>\n",
       "  <tbody>\n",
       "    <tr>\n",
       "      <th>mean</th>\n",
       "      <td>0.427552</td>\n",
       "      <td>1.279800</td>\n",
       "      <td>0.289793</td>\n",
       "      <td>0.154176</td>\n",
       "      <td>100.074436</td>\n",
       "      <td>3.725269</td>\n",
       "      <td>0.699290</td>\n",
       "      <td>6.491970</td>\n",
       "      <td>8.001368</td>\n",
       "      <td>0.0</td>\n",
       "      <td>133.096625</td>\n",
       "      <td>4.878158</td>\n",
       "    </tr>\n",
       "    <tr>\n",
       "      <th>std</th>\n",
       "      <td>0.494731</td>\n",
       "      <td>0.927167</td>\n",
       "      <td>0.453673</td>\n",
       "      <td>0.361122</td>\n",
       "      <td>15.370252</td>\n",
       "      <td>1.344866</td>\n",
       "      <td>0.200037</td>\n",
       "      <td>2.292865</td>\n",
       "      <td>2.826597</td>\n",
       "      <td>0.0</td>\n",
       "      <td>20.865463</td>\n",
       "      <td>0.163360</td>\n",
       "    </tr>\n",
       "  </tbody>\n",
       "</table>\n",
       "</div>"
      ],
      "text/plain": [
       "        female  mothers_educ  technical  immigrant  base_productivity  \\\n",
       "mean  0.427552      1.279800   0.289793   0.154176         100.074436   \n",
       "std   0.494731      0.927167   0.453673   0.361122          15.370252   \n",
       "\n",
       "        tenure  prev_performance  team_size  manager_exp  treat_hours  \\\n",
       "mean  3.725269          0.699290   6.491970     8.001368          0.0   \n",
       "std   1.344866          0.200037   2.292865     2.826597          0.0   \n",
       "\n",
       "      productivity  log_productivity  \n",
       "mean    133.096625          4.878158  \n",
       "std      20.865463          0.163360  "
      ]
     },
     "execution_count": 31,
     "metadata": {},
     "output_type": "execute_result"
    }
   ],
   "source": [
    "control_summary = control.describe().loc[[\"mean\", \"std\"], worker_vars]\n",
    "control_summary"
   ]
  },
  {
   "cell_type": "markdown",
   "id": "3585e153",
   "metadata": {},
   "source": [
    "Conduct balance tests (t-tests or normalized differences) for the predetermined\n",
    "covariates."
   ]
  },
  {
   "cell_type": "code",
   "execution_count": 32,
   "id": "8d0cd048",
   "metadata": {},
   "outputs": [],
   "source": [
    "# t-test approach (excluding categorical variables)\n",
    "t_test_balance = {}\n",
    "\n",
    "categorical = [\"mothers_educ\"]\n",
    "vars_to_remove = [\"treated\", \"treat_group\", \"period\", \"treat_hours\"]\n",
    "\n",
    "for var in data.drop(vars_to_remove, axis = 1).columns:\n",
    "    if types.is_numeric_dtype(data[var]) == True:\n",
    "        t_stat, p_value = stats.ttest_ind(treated[var], control[var], equal_var=False)\n",
    "\n",
    "        t_test_balance[var] = {\"t_stat/chi_stat\": t_stat, \"p_value\": p_value}\n",
    "    \n",
    "    else:\n",
    "        contingency_table_meduc = pd.crosstab(data[\"treat_group\"], data[var])\n",
    "        chi2, p_value, dof, expected = stats.chi2_contingency(contingency_table_meduc)\n",
    "\n",
    "        t_test_balance[var] = {\"t_stat/chi_stat\": chi2, \"p_value\": p_value}"
   ]
  },
  {
   "cell_type": "code",
   "execution_count": 33,
   "id": "cd234db3",
   "metadata": {},
   "outputs": [
    {
     "data": {
      "text/html": [
       "<style type=\"text/css\">\n",
       "</style>\n",
       "<table id=\"T_b5072\">\n",
       "  <thead>\n",
       "    <tr>\n",
       "      <th class=\"blank level0\" >&nbsp;</th>\n",
       "      <th id=\"T_b5072_level0_col0\" class=\"col_heading level0 col0\" >t_stat/chi_stat</th>\n",
       "      <th id=\"T_b5072_level0_col1\" class=\"col_heading level0 col1\" >p_value</th>\n",
       "    </tr>\n",
       "  </thead>\n",
       "  <tbody>\n",
       "    <tr>\n",
       "      <th id=\"T_b5072_level0_row0\" class=\"row_heading level0 row0\" >female</th>\n",
       "      <td id=\"T_b5072_row0_col0\" class=\"data row0 col0\" >8.0439</td>\n",
       "      <td id=\"T_b5072_row0_col1\" class=\"data row0 col1\" >0.0000</td>\n",
       "    </tr>\n",
       "    <tr>\n",
       "      <th id=\"T_b5072_level0_row1\" class=\"row_heading level0 row1\" >mothers_educ</th>\n",
       "      <td id=\"T_b5072_row1_col0\" class=\"data row1 col0\" >125.9819</td>\n",
       "      <td id=\"T_b5072_row1_col1\" class=\"data row1 col1\" >0.0000</td>\n",
       "    </tr>\n",
       "    <tr>\n",
       "      <th id=\"T_b5072_level0_row2\" class=\"row_heading level0 row2\" >technical</th>\n",
       "      <td id=\"T_b5072_row2_col0\" class=\"data row2 col0\" >11.2372</td>\n",
       "      <td id=\"T_b5072_row2_col1\" class=\"data row2 col1\" >0.0000</td>\n",
       "    </tr>\n",
       "    <tr>\n",
       "      <th id=\"T_b5072_level0_row3\" class=\"row_heading level0 row3\" >immigrant</th>\n",
       "      <td id=\"T_b5072_row3_col0\" class=\"data row3 col0\" >-8.5426</td>\n",
       "      <td id=\"T_b5072_row3_col1\" class=\"data row3 col1\" >0.0000</td>\n",
       "    </tr>\n",
       "    <tr>\n",
       "      <th id=\"T_b5072_level0_row4\" class=\"row_heading level0 row4\" >base_productivity</th>\n",
       "      <td id=\"T_b5072_row4_col0\" class=\"data row4 col0\" >-0.4453</td>\n",
       "      <td id=\"T_b5072_row4_col1\" class=\"data row4 col1\" >0.6561</td>\n",
       "    </tr>\n",
       "    <tr>\n",
       "      <th id=\"T_b5072_level0_row5\" class=\"row_heading level0 row5\" >tenure</th>\n",
       "      <td id=\"T_b5072_row5_col0\" class=\"data row5 col0\" >-0.5715</td>\n",
       "      <td id=\"T_b5072_row5_col1\" class=\"data row5 col1\" >0.5676</td>\n",
       "    </tr>\n",
       "    <tr>\n",
       "      <th id=\"T_b5072_level0_row6\" class=\"row_heading level0 row6\" >prev_performance</th>\n",
       "      <td id=\"T_b5072_row6_col0\" class=\"data row6 col0\" >-0.1732</td>\n",
       "      <td id=\"T_b5072_row6_col1\" class=\"data row6 col1\" >0.8625</td>\n",
       "    </tr>\n",
       "    <tr>\n",
       "      <th id=\"T_b5072_level0_row7\" class=\"row_heading level0 row7\" >team_size</th>\n",
       "      <td id=\"T_b5072_row7_col0\" class=\"data row7 col0\" >0.9646</td>\n",
       "      <td id=\"T_b5072_row7_col1\" class=\"data row7 col1\" >0.3347</td>\n",
       "    </tr>\n",
       "    <tr>\n",
       "      <th id=\"T_b5072_level0_row8\" class=\"row_heading level0 row8\" >manager_exp</th>\n",
       "      <td id=\"T_b5072_row8_col0\" class=\"data row8 col0\" >-0.5625</td>\n",
       "      <td id=\"T_b5072_row8_col1\" class=\"data row8 col1\" >0.5738</td>\n",
       "    </tr>\n",
       "    <tr>\n",
       "      <th id=\"T_b5072_level0_row9\" class=\"row_heading level0 row9\" >post</th>\n",
       "      <td id=\"T_b5072_row9_col0\" class=\"data row9 col0\" >0.0000</td>\n",
       "      <td id=\"T_b5072_row9_col1\" class=\"data row9 col1\" >1.0000</td>\n",
       "    </tr>\n",
       "    <tr>\n",
       "      <th id=\"T_b5072_level0_row10\" class=\"row_heading level0 row10\" >productivity</th>\n",
       "      <td id=\"T_b5072_row10_col0\" class=\"data row10 col0\" >55.2246</td>\n",
       "      <td id=\"T_b5072_row10_col1\" class=\"data row10 col1\" >0.0000</td>\n",
       "    </tr>\n",
       "    <tr>\n",
       "      <th id=\"T_b5072_level0_row11\" class=\"row_heading level0 row11\" >log_productivity</th>\n",
       "      <td id=\"T_b5072_row11_col0\" class=\"data row11 col0\" >95.9689</td>\n",
       "      <td id=\"T_b5072_row11_col1\" class=\"data row11 col1\" >0.0000</td>\n",
       "    </tr>\n",
       "  </tbody>\n",
       "</table>\n"
      ],
      "text/plain": [
       "<pandas.io.formats.style.Styler at 0x20b2e29a700>"
      ]
     },
     "execution_count": 33,
     "metadata": {},
     "output_type": "execute_result"
    }
   ],
   "source": [
    "test_balance_numerical = pd.DataFrame(t_test_balance)\n",
    "test_balance_numerical_transposed = test_balance_numerical.T  # Transpose the DataFrame\n",
    "\n",
    "test_balance_numerical_styled = test_balance_numerical_transposed.style.format(precision=4)\n",
    "\n",
    "test_balance_numerical_styled"
   ]
  },
  {
   "cell_type": "markdown",
   "id": "7d99a582",
   "metadata": {},
   "source": [
    "Plot the evolution of average productivity (both in levels and logs) for treated and control groups over time, with a vertical line at the treatment period (\"with treatment (AI training) beginning in 2021Q1 (period 13)\"). \n",
    "\n",
    "Comment on the visual evidence for parallel pre-trends in both specifications."
   ]
  },
  {
   "cell_type": "code",
   "execution_count": 127,
   "id": "9b1b0e99",
   "metadata": {},
   "outputs": [],
   "source": [
    "average_productivity_treated = treated.groupby(by = [\"period\"])[\"productivity\"].mean()\n",
    "average_productivity_control = control.groupby(by = [\"period\"])[\"productivity\"].mean()"
   ]
  },
  {
   "cell_type": "code",
   "execution_count": 133,
   "id": "ed07d4b9",
   "metadata": {},
   "outputs": [
    {
     "data": {
      "image/png": "[encoded data removed]",
      "text/plain": [
       "<Figure size 640x480 with 1 Axes>"
      ]
     },
     "metadata": {},
     "output_type": "display_data"
    }
   ],
   "source": [
    "average_productivity_treated.plot(legend =  True, label = \"treated\")\n",
    "average_productivity_control.plot(legend =  True, label = \"control\")\n",
    "plt.axvline(x = 13);"
   ]
  },
  {
   "cell_type": "code",
   "execution_count": 135,
   "id": "7ab6d380",
   "metadata": {},
   "outputs": [],
   "source": [
    "average_productivity_logs_treated = treated.groupby(by = [\"period\"])[\"log_productivity\"].mean()\n",
    "average_productivity_logs_control = control.groupby(by = [\"period\"])[\"log_productivity\"].mean()"
   ]
  },
  {
   "cell_type": "code",
   "execution_count": 137,
   "id": "44fdeb2b",
   "metadata": {},
   "outputs": [
    {
     "data": {
      "image/png": "[encoded data removed]",
      "text/plain": [
       "<Figure size 640x480 with 1 Axes>"
      ]
     },
     "metadata": {},
     "output_type": "display_data"
    }
   ],
   "source": [
    "average_productivity_logs_treated.plot(legend =  True, label = \"treated_logs\")\n",
    "average_productivity_logs_control.plot(legend =  True, label = \"control_logs\")\n",
    "plt.axvline(x = 13);"
   ]
  },
  {
   "cell_type": "markdown",
   "id": "48d0a86f",
   "metadata": {},
   "source": [
    "In the first specification, with productivity, trends seem to be validating the PTA up to around period 9. From that moment onwards they start to drift away, and we see a change of slope. \n",
    "\n",
    "On the contrary, in the logs regression, we see the jump only slightly before the treatment period, and we see the difference between the two productivities increasing in magnitude from the very beginning."
   ]
  }
 ],
 "metadata": {
  "kernelspec": {
   "display_name": "base",
   "language": "python",
   "name": "python3"
  },
  "language_info": {
   "codemirror_mode": {
    "name": "ipython",
    "version": 3
   },
   "file_extension": ".py",
   "mimetype": "text/x-python",
   "name": "python",
   "nbconvert_exporter": "python",
   "pygments_lexer": "ipython3",
   "version": "3.9.19"
  }
 },
 "nbformat": 4,
 "nbformat_minor": 5
}
