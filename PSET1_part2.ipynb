{
 "cells": [
  {
   "cell_type": "code",
   "execution_count": 6,
   "id": "55e71a72",
   "metadata": {},
   "outputs": [],
   "source": [
    "import pandas as pd \n",
    "\n",
    "import numpy as np \n",
    "import matplotlib.pyplot as plt\n",
    "\n",
    "from scipy import stats\n",
    "import statsmodels.api as sm\n",
    "import statsmodels.formula.api as smf\n",
    "\n",
    "from pandas.api import types\n",
    "\n",
    "from linearmodels import PanelOLS\n"
   ]
  },
  {
   "cell_type": "code",
   "execution_count": 7,
   "id": "df047f00",
   "metadata": {},
   "outputs": [],
   "source": [
    "data = pd.read_csv(\"src/did_training_productivity.csv\", index_col = 0)"
   ]
  },
  {
   "cell_type": "markdown",
   "id": "607ab5a7",
   "metadata": {},
   "source": [
    "Estimate the simple 2x2 Difference-in-Differences (DiD) model without covariates:\n",
    "\n",
    "$$ Y_{it} = \\alpha + \\beta W_i + \\gamma \\text{Post}_t + \\theta (W_i \\times \\text{Post}_t) + \\epsilon_{it} $$\n",
    "\n",
    "Report results for both the extensive margin treatment and intensive margin (replace treatment indicator with hours)."
   ]
  },
  {
   "cell_type": "code",
   "execution_count": 8,
   "id": "b72a0a75",
   "metadata": {},
   "outputs": [],
   "source": [
    "# extensive margin_treatment\n",
    "data22_extensive = data.copy()\n",
    "data22_extensive[\"interaction_post\"] = data22_extensive[\"post\"]*data22_extensive[\"treat_group\"]\n",
    "\n",
    "y = data22_extensive[\"productivity\"]\n",
    "X_extensive = data22_extensive[[\"treat_group\",\"post\", \"interaction_post\"]]\n",
    "\n",
    "did22_extensive = sm.OLS(y, sm.add_constant(X_extensive)).fit()"
   ]
  },
  {
   "cell_type": "code",
   "execution_count": 10,
   "id": "d7be93b1",
   "metadata": {},
   "outputs": [
    {
     "data": {
      "text/html": [
       "<table class=\"simpletable\">\n",
       "<caption>OLS Regression Results</caption>\n",
       "<tr>\n",
       "  <th>Dep. Variable:</th>      <td>productivity</td>   <th>  R-squared:         </th>  <td>   0.291</td>  \n",
       "</tr>\n",
       "<tr>\n",
       "  <th>Model:</th>                   <td>OLS</td>       <th>  Adj. R-squared:    </th>  <td>   0.291</td>  \n",
       "</tr>\n",
       "<tr>\n",
       "  <th>Method:</th>             <td>Least Squares</td>  <th>  F-statistic:       </th>  <td>1.706e+04</td> \n",
       "</tr>\n",
       "<tr>\n",
       "  <th>Date:</th>             <td>Thu, 17 Apr 2025</td> <th>  Prob (F-statistic):</th>   <td>  0.00</td>   \n",
       "</tr>\n",
       "<tr>\n",
       "  <th>Time:</th>                 <td>10:54:42</td>     <th>  Log-Likelihood:    </th> <td>-2.1204e+05</td>\n",
       "</tr>\n",
       "<tr>\n",
       "  <th>No. Observations:</th>      <td> 48000</td>      <th>  AIC:               </th>  <td>4.241e+05</td> \n",
       "</tr>\n",
       "<tr>\n",
       "  <th>Df Residuals:</th>          <td> 47996</td>      <th>  BIC:               </th>  <td>4.241e+05</td> \n",
       "</tr>\n",
       "<tr>\n",
       "  <th>Df Model:</th>              <td>     3</td>      <th>                     </th>      <td> </td>     \n",
       "</tr>\n",
       "<tr>\n",
       "  <th>Covariance Type:</th>       <td>cluster</td>     <th>                     </th>      <td> </td>     \n",
       "</tr>\n",
       "</table>\n",
       "<table class=\"simpletable\">\n",
       "<tr>\n",
       "          <td></td>            <th>coef</th>     <th>std err</th>      <th>t</th>      <th>P>|t|</th>  <th>[0.025</th>    <th>0.975]</th>  \n",
       "</tr>\n",
       "<tr>\n",
       "  <th>const</th>            <td>  126.5662</td> <td>    0.438</td> <td>  289.055</td> <td> 0.000</td> <td>  125.708</td> <td>  127.425</td>\n",
       "</tr>\n",
       "<tr>\n",
       "  <th>treat_group</th>      <td>    2.8069</td> <td>    0.819</td> <td>    3.427</td> <td> 0.001</td> <td>    1.201</td> <td>    4.413</td>\n",
       "</tr>\n",
       "<tr>\n",
       "  <th>post</th>             <td>   13.0608</td> <td>    0.113</td> <td>  115.908</td> <td> 0.000</td> <td>   12.840</td> <td>   13.282</td>\n",
       "</tr>\n",
       "<tr>\n",
       "  <th>interaction_post</th> <td>   22.4094</td> <td>    0.216</td> <td>  103.703</td> <td> 0.000</td> <td>   21.986</td> <td>   22.833</td>\n",
       "</tr>\n",
       "</table>\n",
       "<table class=\"simpletable\">\n",
       "<tr>\n",
       "  <th>Omnibus:</th>       <td> 7.125</td> <th>  Durbin-Watson:     </th> <td>   0.679</td>\n",
       "</tr>\n",
       "<tr>\n",
       "  <th>Prob(Omnibus):</th> <td> 0.028</td> <th>  Jarque-Bera (JB):  </th> <td>   7.108</td>\n",
       "</tr>\n",
       "<tr>\n",
       "  <th>Skew:</th>          <td>-0.025</td> <th>  Prob(JB):          </th> <td>  0.0286</td>\n",
       "</tr>\n",
       "<tr>\n",
       "  <th>Kurtosis:</th>      <td> 2.969</td> <th>  Cond. No.          </th> <td>    6.35</td>\n",
       "</tr>\n",
       "</table><br/><br/>Notes:<br/>[1] Standard Errors are robust to cluster correlation (cluster)"
      ],
      "text/latex": [
       "\\begin{center}\n",
       "\\begin{tabular}{lclc}\n",
       "\\toprule\n",
       "\\textbf{Dep. Variable:}    &   productivity   & \\textbf{  R-squared:         } &      0.291   \\\\\n",
       "\\textbf{Model:}            &       OLS        & \\textbf{  Adj. R-squared:    } &      0.291   \\\\\n",
       "\\textbf{Method:}           &  Least Squares   & \\textbf{  F-statistic:       } &  1.706e+04   \\\\\n",
       "\\textbf{Date:}             & Thu, 17 Apr 2025 & \\textbf{  Prob (F-statistic):} &      0.00    \\\\\n",
       "\\textbf{Time:}             &     10:54:42     & \\textbf{  Log-Likelihood:    } & -2.1204e+05  \\\\\n",
       "\\textbf{No. Observations:} &       48000      & \\textbf{  AIC:               } &  4.241e+05   \\\\\n",
       "\\textbf{Df Residuals:}     &       47996      & \\textbf{  BIC:               } &  4.241e+05   \\\\\n",
       "\\textbf{Df Model:}         &           3      & \\textbf{                     } &              \\\\\n",
       "\\textbf{Covariance Type:}  &     cluster      & \\textbf{                     } &              \\\\\n",
       "\\bottomrule\n",
       "\\end{tabular}\n",
       "\\begin{tabular}{lcccccc}\n",
       "                           & \\textbf{coef} & \\textbf{std err} & \\textbf{t} & \\textbf{P$> |$t$|$} & \\textbf{[0.025} & \\textbf{0.975]}  \\\\\n",
       "\\midrule\n",
       "\\textbf{const}             &     126.5662  &        0.438     &   289.055  &         0.000        &      125.708    &      127.425     \\\\\n",
       "\\textbf{treat\\_group}      &       2.8069  &        0.819     &     3.427  &         0.001        &        1.201    &        4.413     \\\\\n",
       "\\textbf{post}              &      13.0608  &        0.113     &   115.908  &         0.000        &       12.840    &       13.282     \\\\\n",
       "\\textbf{interaction\\_post} &      22.4094  &        0.216     &   103.703  &         0.000        &       21.986    &       22.833     \\\\\n",
       "\\bottomrule\n",
       "\\end{tabular}\n",
       "\\begin{tabular}{lclc}\n",
       "\\textbf{Omnibus:}       &  7.125 & \\textbf{  Durbin-Watson:     } &    0.679  \\\\\n",
       "\\textbf{Prob(Omnibus):} &  0.028 & \\textbf{  Jarque-Bera (JB):  } &    7.108  \\\\\n",
       "\\textbf{Skew:}          & -0.025 & \\textbf{  Prob(JB):          } &   0.0286  \\\\\n",
       "\\textbf{Kurtosis:}      &  2.969 & \\textbf{  Cond. No.          } &     6.35  \\\\\n",
       "\\bottomrule\n",
       "\\end{tabular}\n",
       "%\\caption{OLS Regression Results}\n",
       "\\end{center}\n",
       "\n",
       "Notes: \\newline\n",
       " [1] Standard Errors are robust to cluster correlation (cluster)"
      ],
      "text/plain": [
       "<class 'statsmodels.iolib.summary.Summary'>\n",
       "\"\"\"\n",
       "                            OLS Regression Results                            \n",
       "==============================================================================\n",
       "Dep. Variable:           productivity   R-squared:                       0.291\n",
       "Model:                            OLS   Adj. R-squared:                  0.291\n",
       "Method:                 Least Squares   F-statistic:                 1.706e+04\n",
       "Date:                Thu, 17 Apr 2025   Prob (F-statistic):               0.00\n",
       "Time:                        10:54:42   Log-Likelihood:            -2.1204e+05\n",
       "No. Observations:               48000   AIC:                         4.241e+05\n",
       "Df Residuals:                   47996   BIC:                         4.241e+05\n",
       "Df Model:                           3                                         \n",
       "Covariance Type:              cluster                                         \n",
       "====================================================================================\n",
       "                       coef    std err          t      P>|t|      [0.025      0.975]\n",
       "------------------------------------------------------------------------------------\n",
       "const              126.5662      0.438    289.055      0.000     125.708     127.425\n",
       "treat_group          2.8069      0.819      3.427      0.001       1.201       4.413\n",
       "post                13.0608      0.113    115.908      0.000      12.840      13.282\n",
       "interaction_post    22.4094      0.216    103.703      0.000      21.986      22.833\n",
       "==============================================================================\n",
       "Omnibus:                        7.125   Durbin-Watson:                   0.679\n",
       "Prob(Omnibus):                  0.028   Jarque-Bera (JB):                7.108\n",
       "Skew:                          -0.025   Prob(JB):                       0.0286\n",
       "Kurtosis:                       2.969   Cond. No.                         6.35\n",
       "==============================================================================\n",
       "\n",
       "Notes:\n",
       "[1] Standard Errors are robust to cluster correlation (cluster)\n",
       "\"\"\""
      ]
     },
     "execution_count": 10,
     "metadata": {},
     "output_type": "execute_result"
    }
   ],
   "source": [
    "did22_extensive.get_robustcov_results(cov_type = \"cluster\", groups = data22_extensive.index).summary()"
   ]
  },
  {
   "cell_type": "markdown",
   "id": "0739dae2",
   "metadata": {},
   "source": [
    "The number of hours that a worker is treated changes over time. In order to do exercise 3 (part II) of the pset, you need to average those hours across all the years in which worker i got training, and use that as your time-invariant treatment intensity. (Obviously, you nee to assign this figure also to the years prior to treatment, so that it can be interacted with the Post dummy in the estimating equation)"
   ]
  },
  {
   "cell_type": "code",
   "execution_count": 11,
   "id": "bf14117c",
   "metadata": {},
   "outputs": [],
   "source": [
    "data22_intensive = data.copy()\n",
    "data22_intensive[\"interaction_hours\"] = data22_intensive[\"post\"]*data22_intensive[\"treat_hours\"]\n",
    "\n",
    "data22_intensive[\"avg_hours\"] = 0\n",
    "data22_intensive[\"avg_hours\"] = data22_intensive[\"avg_hours\"].astype(float)\n",
    "\n",
    "for worker_id in range(1,2001):\n",
    "    data22_intensive.loc[data22_intensive.index == worker_id, \"avg_hours\"] = data22_intensive.groupby(level= 0)[\"treat_hours\"].mean().astype(float)\n",
    "\n",
    "y_intensive =data22_intensive[\"productivity\"]\n",
    "X_intensive = data22_intensive[[\"avg_hours\",\"post\", \"interaction_hours\"]]"
   ]
  },
  {
   "cell_type": "code",
   "execution_count": 12,
   "id": "12c23b2e",
   "metadata": {},
   "outputs": [],
   "source": [
    "did22_intensive = sm.OLS(y, sm.add_constant(X_intensive)).fit()"
   ]
  },
  {
   "cell_type": "code",
   "execution_count": 13,
   "id": "0e623485",
   "metadata": {},
   "outputs": [
    {
     "data": {
      "text/html": [
       "<table class=\"simpletable\">\n",
       "<caption>OLS Regression Results</caption>\n",
       "<tr>\n",
       "  <th>Dep. Variable:</th>      <td>productivity</td>   <th>  R-squared:         </th>  <td>   0.289</td>  \n",
       "</tr>\n",
       "<tr>\n",
       "  <th>Model:</th>                   <td>OLS</td>       <th>  Adj. R-squared:    </th>  <td>   0.289</td>  \n",
       "</tr>\n",
       "<tr>\n",
       "  <th>Method:</th>             <td>Least Squares</td>  <th>  F-statistic:       </th>  <td>1.629e+04</td> \n",
       "</tr>\n",
       "<tr>\n",
       "  <th>Date:</th>             <td>Thu, 17 Apr 2025</td> <th>  Prob (F-statistic):</th>   <td>  0.00</td>   \n",
       "</tr>\n",
       "<tr>\n",
       "  <th>Time:</th>                 <td>10:54:50</td>     <th>  Log-Likelihood:    </th> <td>-2.1212e+05</td>\n",
       "</tr>\n",
       "<tr>\n",
       "  <th>No. Observations:</th>      <td> 48000</td>      <th>  AIC:               </th>  <td>4.242e+05</td> \n",
       "</tr>\n",
       "<tr>\n",
       "  <th>Df Residuals:</th>          <td> 47996</td>      <th>  BIC:               </th>  <td>4.243e+05</td> \n",
       "</tr>\n",
       "<tr>\n",
       "  <th>Df Model:</th>              <td>     3</td>      <th>                     </th>      <td> </td>     \n",
       "</tr>\n",
       "<tr>\n",
       "  <th>Covariance Type:</th>       <td>cluster</td>     <th>                     </th>      <td> </td>     \n",
       "</tr>\n",
       "</table>\n",
       "<table class=\"simpletable\">\n",
       "<tr>\n",
       "          <td></td>             <th>coef</th>     <th>std err</th>      <th>t</th>      <th>P>|t|</th>  <th>[0.025</th>    <th>0.975]</th>  \n",
       "</tr>\n",
       "<tr>\n",
       "  <th>const</th>             <td>  126.2861</td> <td>    0.438</td> <td>  288.572</td> <td> 0.000</td> <td>  125.428</td> <td>  127.144</td>\n",
       "</tr>\n",
       "<tr>\n",
       "  <th>avg_hours</th>         <td>    0.3759</td> <td>    0.082</td> <td>    4.581</td> <td> 0.000</td> <td>    0.215</td> <td>    0.537</td>\n",
       "</tr>\n",
       "<tr>\n",
       "  <th>post</th>              <td>   13.6372</td> <td>    0.115</td> <td>  118.883</td> <td> 0.000</td> <td>   13.412</td> <td>   13.862</td>\n",
       "</tr>\n",
       "<tr>\n",
       "  <th>interaction_hours</th> <td>    1.0288</td> <td>    0.010</td> <td>   98.774</td> <td> 0.000</td> <td>    1.008</td> <td>    1.049</td>\n",
       "</tr>\n",
       "</table>\n",
       "<table class=\"simpletable\">\n",
       "<tr>\n",
       "  <th>Omnibus:</th>       <td> 6.742</td> <th>  Durbin-Watson:     </th> <td>   0.682</td>\n",
       "</tr>\n",
       "<tr>\n",
       "  <th>Prob(Omnibus):</th> <td> 0.034</td> <th>  Jarque-Bera (JB):  </th> <td>   6.740</td>\n",
       "</tr>\n",
       "<tr>\n",
       "  <th>Skew:</th>          <td>-0.026</td> <th>  Prob(JB):          </th> <td>  0.0344</td>\n",
       "</tr>\n",
       "<tr>\n",
       "  <th>Kurtosis:</th>      <td> 2.972</td> <th>  Cond. No.          </th> <td>    24.1</td>\n",
       "</tr>\n",
       "</table><br/><br/>Notes:<br/>[1] Standard Errors are robust to cluster correlation (cluster)"
      ],
      "text/latex": [
       "\\begin{center}\n",
       "\\begin{tabular}{lclc}\n",
       "\\toprule\n",
       "\\textbf{Dep. Variable:}     &   productivity   & \\textbf{  R-squared:         } &      0.289   \\\\\n",
       "\\textbf{Model:}             &       OLS        & \\textbf{  Adj. R-squared:    } &      0.289   \\\\\n",
       "\\textbf{Method:}            &  Least Squares   & \\textbf{  F-statistic:       } &  1.629e+04   \\\\\n",
       "\\textbf{Date:}              & Thu, 17 Apr 2025 & \\textbf{  Prob (F-statistic):} &      0.00    \\\\\n",
       "\\textbf{Time:}              &     10:54:50     & \\textbf{  Log-Likelihood:    } & -2.1212e+05  \\\\\n",
       "\\textbf{No. Observations:}  &       48000      & \\textbf{  AIC:               } &  4.242e+05   \\\\\n",
       "\\textbf{Df Residuals:}      &       47996      & \\textbf{  BIC:               } &  4.243e+05   \\\\\n",
       "\\textbf{Df Model:}          &           3      & \\textbf{                     } &              \\\\\n",
       "\\textbf{Covariance Type:}   &     cluster      & \\textbf{                     } &              \\\\\n",
       "\\bottomrule\n",
       "\\end{tabular}\n",
       "\\begin{tabular}{lcccccc}\n",
       "                            & \\textbf{coef} & \\textbf{std err} & \\textbf{t} & \\textbf{P$> |$t$|$} & \\textbf{[0.025} & \\textbf{0.975]}  \\\\\n",
       "\\midrule\n",
       "\\textbf{const}              &     126.2861  &        0.438     &   288.572  &         0.000        &      125.428    &      127.144     \\\\\n",
       "\\textbf{avg\\_hours}         &       0.3759  &        0.082     &     4.581  &         0.000        &        0.215    &        0.537     \\\\\n",
       "\\textbf{post}               &      13.6372  &        0.115     &   118.883  &         0.000        &       13.412    &       13.862     \\\\\n",
       "\\textbf{interaction\\_hours} &       1.0288  &        0.010     &    98.774  &         0.000        &        1.008    &        1.049     \\\\\n",
       "\\bottomrule\n",
       "\\end{tabular}\n",
       "\\begin{tabular}{lclc}\n",
       "\\textbf{Omnibus:}       &  6.742 & \\textbf{  Durbin-Watson:     } &    0.682  \\\\\n",
       "\\textbf{Prob(Omnibus):} &  0.034 & \\textbf{  Jarque-Bera (JB):  } &    6.740  \\\\\n",
       "\\textbf{Skew:}          & -0.026 & \\textbf{  Prob(JB):          } &   0.0344  \\\\\n",
       "\\textbf{Kurtosis:}      &  2.972 & \\textbf{  Cond. No.          } &     24.1  \\\\\n",
       "\\bottomrule\n",
       "\\end{tabular}\n",
       "%\\caption{OLS Regression Results}\n",
       "\\end{center}\n",
       "\n",
       "Notes: \\newline\n",
       " [1] Standard Errors are robust to cluster correlation (cluster)"
      ],
      "text/plain": [
       "<class 'statsmodels.iolib.summary.Summary'>\n",
       "\"\"\"\n",
       "                            OLS Regression Results                            \n",
       "==============================================================================\n",
       "Dep. Variable:           productivity   R-squared:                       0.289\n",
       "Model:                            OLS   Adj. R-squared:                  0.289\n",
       "Method:                 Least Squares   F-statistic:                 1.629e+04\n",
       "Date:                Thu, 17 Apr 2025   Prob (F-statistic):               0.00\n",
       "Time:                        10:54:50   Log-Likelihood:            -2.1212e+05\n",
       "No. Observations:               48000   AIC:                         4.242e+05\n",
       "Df Residuals:                   47996   BIC:                         4.243e+05\n",
       "Df Model:                           3                                         \n",
       "Covariance Type:              cluster                                         \n",
       "=====================================================================================\n",
       "                        coef    std err          t      P>|t|      [0.025      0.975]\n",
       "-------------------------------------------------------------------------------------\n",
       "const               126.2861      0.438    288.572      0.000     125.428     127.144\n",
       "avg_hours             0.3759      0.082      4.581      0.000       0.215       0.537\n",
       "post                 13.6372      0.115    118.883      0.000      13.412      13.862\n",
       "interaction_hours     1.0288      0.010     98.774      0.000       1.008       1.049\n",
       "==============================================================================\n",
       "Omnibus:                        6.742   Durbin-Watson:                   0.682\n",
       "Prob(Omnibus):                  0.034   Jarque-Bera (JB):                6.740\n",
       "Skew:                          -0.026   Prob(JB):                       0.0344\n",
       "Kurtosis:                       2.972   Cond. No.                         24.1\n",
       "==============================================================================\n",
       "\n",
       "Notes:\n",
       "[1] Standard Errors are robust to cluster correlation (cluster)\n",
       "\"\"\""
      ]
     },
     "execution_count": 13,
     "metadata": {},
     "output_type": "execute_result"
    }
   ],
   "source": [
    "did22_intensive.get_robustcov_results(cov_type = \"cluster\", groups = data22_intensive.index).summary()"
   ]
  },
  {
   "cell_type": "markdown",
   "id": "8964f903",
   "metadata": {},
   "source": [
    "Estimate the two-way fixed effects model:\n",
    "\n",
    "$$ Y_{it} = \\alpha_i + \\delta_t + \\theta (W_i \\times \\text{Post}_t) + \\epsilon_{it} $$\n",
    "\n",
    "Compare results with the simple DiD."
   ]
  },
  {
   "cell_type": "code",
   "execution_count": 14,
   "id": "8aaaa5b6",
   "metadata": {},
   "outputs": [],
   "source": [
    "fe_2way_data = data22_extensive.reset_index().copy()\n",
    "\n",
    "fe_2way_data = fe_2way_data.set_index([\"worker_id\", \"period\"])\n",
    "\n",
    "y_2way = fe_2way_data[\"productivity\"]\n",
    "X_2way = fe_2way_data[\"interaction_post\"]"
   ]
  },
  {
   "cell_type": "code",
   "execution_count": 15,
   "id": "1e237ecd",
   "metadata": {},
   "outputs": [],
   "source": [
    "entity_ids = pd.Series(y_2way.index.get_level_values(0))\n",
    "fe_model = PanelOLS(y_2way, X_2way, entity_effects=True, time_effects=True).fit(cov_type= \"clustered\", cluster_entity = True)"
   ]
  },
  {
   "cell_type": "code",
   "execution_count": 16,
   "id": "2ab991f2",
   "metadata": {},
   "outputs": [
    {
     "data": {
      "text/html": [
       "<table class=\"simpletable\">\n",
       "<caption>PanelOLS Estimation Summary</caption>\n",
       "<tr>\n",
       "  <th>Dep. Variable:</th>      <td>productivity</td>   <th>  R-squared:         </th>     <td>0.1912</td>  \n",
       "</tr>\n",
       "<tr>\n",
       "  <th>Estimator:</th>            <td>PanelOLS</td>     <th>  R-squared (Between):</th>    <td>0.0496</td>  \n",
       "</tr>\n",
       "<tr>\n",
       "  <th>No. Observations:</th>       <td>48000</td>      <th>  R-squared (Within):</th>     <td>0.3152</td>  \n",
       "</tr>\n",
       "<tr>\n",
       "  <th>Date:</th>             <td>Thu, Apr 17 2025</td> <th>  R-squared (Overall):</th>    <td>0.0531</td>  \n",
       "</tr>\n",
       "<tr>\n",
       "  <th>Time:</th>                 <td>10:54:54</td>     <th>  Log-likelihood     </th>   <td>-1.812e+05</td>\n",
       "</tr>\n",
       "<tr>\n",
       "  <th>Cov. Estimator:</th>       <td>Clustered</td>    <th>                     </th>        <td></td>     \n",
       "</tr>\n",
       "<tr>\n",
       "  <th></th>                          <td></td>         <th>  F-statistic:       </th>    <td>1.087e+04</td>\n",
       "</tr>\n",
       "<tr>\n",
       "  <th>Entities:</th>               <td>2000</td>       <th>  P-value            </th>     <td>0.0000</td>  \n",
       "</tr>\n",
       "<tr>\n",
       "  <th>Avg Obs:</th>               <td>24.000</td>      <th>  Distribution:      </th>   <td>F(1,45976)</td>\n",
       "</tr>\n",
       "<tr>\n",
       "  <th>Min Obs:</th>               <td>24.000</td>      <th>                     </th>        <td></td>     \n",
       "</tr>\n",
       "<tr>\n",
       "  <th>Max Obs:</th>               <td>24.000</td>      <th>  F-statistic (robust):</th>  <td>1.031e+04</td>\n",
       "</tr>\n",
       "<tr>\n",
       "  <th></th>                          <td></td>         <th>  P-value            </th>     <td>0.0000</td>  \n",
       "</tr>\n",
       "<tr>\n",
       "  <th>Time periods:</th>            <td>24</td>        <th>  Distribution:      </th>   <td>F(1,45976)</td>\n",
       "</tr>\n",
       "<tr>\n",
       "  <th>Avg Obs:</th>               <td>2000.0</td>      <th>                     </th>        <td></td>     \n",
       "</tr>\n",
       "<tr>\n",
       "  <th>Min Obs:</th>               <td>2000.0</td>      <th>                     </th>        <td></td>     \n",
       "</tr>\n",
       "<tr>\n",
       "  <th>Max Obs:</th>               <td>2000.0</td>      <th>                     </th>        <td></td>     \n",
       "</tr>\n",
       "<tr>\n",
       "  <th></th>                          <td></td>         <th>                     </th>        <td></td>     \n",
       "</tr>\n",
       "</table>\n",
       "<table class=\"simpletable\">\n",
       "<caption>Parameter Estimates</caption>\n",
       "<tr>\n",
       "          <td></td>         <th>Parameter</th> <th>Std. Err.</th> <th>T-stat</th> <th>P-value</th> <th>Lower CI</th> <th>Upper CI</th>\n",
       "</tr>\n",
       "<tr>\n",
       "  <th>interaction_post</th>  <td>22.409</td>    <td>0.2207</td>   <td>101.52</td> <td>0.0000</td>   <td>21.977</td>   <td>22.842</td> \n",
       "</tr>\n",
       "</table><br/><br/>F-test for Poolability: 65.805<br/>P-value: 0.0000<br/>Distribution: F(2022,45976)<br/><br/>Included effects: Entity, Time<br/>id: 0x2034af3bb50"
      ],
      "text/plain": [
       "                          PanelOLS Estimation Summary                           \n",
       "================================================================================\n",
       "Dep. Variable:           productivity   R-squared:                        0.1912\n",
       "Estimator:                   PanelOLS   R-squared (Between):              0.0496\n",
       "No. Observations:               48000   R-squared (Within):               0.3152\n",
       "Date:                Thu, Apr 17 2025   R-squared (Overall):              0.0531\n",
       "Time:                        10:54:54   Log-likelihood                -1.812e+05\n",
       "Cov. Estimator:             Clustered                                           \n",
       "                                        F-statistic:                   1.087e+04\n",
       "Entities:                        2000   P-value                           0.0000\n",
       "Avg Obs:                       24.000   Distribution:                 F(1,45976)\n",
       "Min Obs:                       24.000                                           \n",
       "Max Obs:                       24.000   F-statistic (robust):          1.031e+04\n",
       "                                        P-value                           0.0000\n",
       "Time periods:                      24   Distribution:                 F(1,45976)\n",
       "Avg Obs:                       2000.0                                           \n",
       "Min Obs:                       2000.0                                           \n",
       "Max Obs:                       2000.0                                           \n",
       "                                                                                \n",
       "                                Parameter Estimates                                 \n",
       "====================================================================================\n",
       "                  Parameter  Std. Err.     T-stat    P-value    Lower CI    Upper CI\n",
       "------------------------------------------------------------------------------------\n",
       "interaction_post     22.409     0.2207     101.52     0.0000      21.977      22.842\n",
       "====================================================================================\n",
       "\n",
       "F-test for Poolability: 65.805\n",
       "P-value: 0.0000\n",
       "Distribution: F(2022,45976)\n",
       "\n",
       "Included effects: Entity, Time\n",
       "PanelEffectsResults, id: 0x2034af3bb50"
      ]
     },
     "execution_count": 16,
     "metadata": {},
     "output_type": "execute_result"
    }
   ],
   "source": [
    "fe_model"
   ]
  },
  {
   "cell_type": "markdown",
   "id": "c81eb14f",
   "metadata": {},
   "source": [
    "Conduct randomization inference:\n",
    "\n",
    "(a) Randomly reassign treatment status 500 times\n",
    "\n",
    "(b) Estimate the placebo treatment effect each time\n",
    "\n",
    "(c) Compare your actual estimate to this distribution\n",
    "\n",
    "(d) Calculate the p-value as the proportion of placebo effects larger\n",
    "in absolute value than your estimate"
   ]
  },
  {
   "cell_type": "code",
   "execution_count": 56,
   "id": "7277dbaf",
   "metadata": {},
   "outputs": [
    {
     "data": {
      "text/plain": [
       "Index(['period', 'female', 'mothers_educ', 'technical', 'immigrant',\n",
       "       'base_productivity', 'treat_group', 'tenure', 'prev_performance',\n",
       "       'team_size', 'manager_exp', 'post', 'treated', 'treat_hours',\n",
       "       'productivity', 'log_productivity'],\n",
       "      dtype='object')"
      ]
     },
     "execution_count": 56,
     "metadata": {},
     "output_type": "execute_result"
    }
   ],
   "source": [
    "data.columns"
   ]
  },
  {
   "cell_type": "code",
   "execution_count": 57,
   "id": "4ce7df5d",
   "metadata": {},
   "outputs": [],
   "source": [
    "def randomization_inference_extensive(df:pd.DataFrame, treat_col:str, n:int, n_treatments: int, confidence_level: int):\n",
    "\n",
    "    num_permutations = n\n",
    "\n",
    "    df_ri = df.copy()\n",
    "    df_ri = df_ri.drop([treat_col], axis = 1)\n",
    "\n",
    "    unique_indices = df_ri.index.unique()\n",
    "\n",
    "    intpost_coefficients = []\n",
    "    \n",
    "    for i in range(num_permutations):\n",
    "        permuted_df = df_ri.copy()\n",
    "\n",
    "        # I randomly choose to which workers to assign the treatment status\n",
    "        treated_indices = np.random.choice(unique_indices, size=n_treatments, replace=False)\n",
    "\n",
    "        permuted_df[\"treatment\"] = 0\n",
    "        permuted_df.loc[permuted_df.index.isin(treated_indices), \"treatment\"] = 1\n",
    "\n",
    "        permuted_df[\"interaction_post\"] = permuted_df[\"post\"]*permuted_df[\"treatment\"]\n",
    "        \n",
    "        X_ri = permuted_df[[\"treatment\",\"post\", \"interaction_post\"]]\n",
    "        y_ri = permuted_df[\"productivity\"]\n",
    "\n",
    "        reg = sm.OLS(y_ri, sm.add_constant(X_ri)).fit(cov_type=\"cluster\", cov_kwds={'groups': permuted_df.index})\n",
    "        \n",
    "        intpost_coefficient = reg.params['interaction_post']\n",
    "        intpost_coefficients.append(intpost_coefficient)\n",
    "    \n",
    "    return (np.percentile(intpost_coefficients, confidence_level),np.percentile(intpost_coefficients, 100-confidence_level))"
   ]
  },
  {
   "cell_type": "code",
   "execution_count": 58,
   "id": "b612c5dc",
   "metadata": {},
   "outputs": [],
   "source": [
    "treated_workers = int(data22_extensive.groupby(level = 0)[\"treat_group\"].mean().sum())"
   ]
  },
  {
   "cell_type": "code",
   "execution_count": 59,
   "id": "40a00932",
   "metadata": {},
   "outputs": [
    {
     "data": {
      "text/plain": [
       "(-0.9013987817117091, 0.9232879059403801)"
      ]
     },
     "execution_count": 59,
     "metadata": {},
     "output_type": "execute_result"
    }
   ],
   "source": [
    "ri_extensive =  randomization_inference_extensive(data22_extensive, treat_col= \"treat_group\", n = 500, n_treatments= treated_workers, confidence_level= 5)\n",
    "\n",
    "ri_extensive"
   ]
  },
  {
   "cell_type": "code",
   "execution_count": null,
   "id": "0a9ad419",
   "metadata": {},
   "outputs": [],
   "source": [
    "def randomization_inference_intensive(df:pd.DataFrame, treat_col:str, n:int, n_treatments: int, confidence_level: int):\n",
    "\n",
    "    num_permutations = n\n",
    "    df_ri = df.copy()\n",
    "\n",
    "    unique_indices = df_ri.index.unique()\n",
    "\n",
    "    original_treated_workers_data = df[df[treat_col] == 1]\n",
    "    unique_avg_treated_hours = original_treated_workers_data.groupby(level=0)[\"avg_hours\"].first().values\n",
    "\n",
    "    intpost_coefficients = []\n",
    "\n",
    "    for i in range(num_permutations):\n",
    "            permuted_df = df_ri.copy()\n",
    "            permuted_df[\"treated\"] = 0\n",
    "            permuted_df[\"treated_hours_permuted\"] = 0.0  # Initialize treated hours\n",
    "\n",
    "            treated_worker_ids = np.random.choice(unique_indices, size=n_treatments, replace=False)\n",
    "\n",
    "            treated_hours_random = np.random.choice(unique_avg_treated_hours, size=n_treatments, replace=False)\n",
    "\n",
    "            # Randomly assign average treated hours to the selected workers\n",
    "            for index,worker_id in enumerate(treated_worker_ids):\n",
    "                    permuted_df.loc[permuted_df.index == worker_id, 'treated_hours_permuted'] = treated_hours_random[index]\n",
    "\n",
    "            permuted_df[\"interaction_post\"] = permuted_df[\"post\"] * permuted_df[\"treated_hours_permuted\"]\n",
    "\n",
    "            X_ri = permuted_df[[\"treated_hours_permuted\", \"post\", \"interaction_post\"]]\n",
    "            y_ri = permuted_df[\"productivity\"]\n",
    "\n",
    "            reg = sm.OLS(y_ri, sm.add_constant(X_ri)).fit(cov_type=\"cluster\", cov_kwds={'groups': permuted_df.index.get_level_values(0)})\n",
    "\n",
    "            intpost_coefficient = reg.params['interaction_post']\n",
    "            intpost_coefficients.append(intpost_coefficient)\n",
    "\n",
    "    return (np.percentile(intpost_coefficients, confidence_level), np.percentile(intpost_coefficients, 100 - confidence_level))"
   ]
  },
  {
   "cell_type": "code",
   "execution_count": 92,
   "id": "d0cb760f",
   "metadata": {},
   "outputs": [
    {
     "data": {
      "text/plain": [
       "(-0.09422338803647694, 0.09368129104656457)"
      ]
     },
     "execution_count": 92,
     "metadata": {},
     "output_type": "execute_result"
    }
   ],
   "source": [
    "ri_extensive =  randomization_inference_intensive(data22_intensive, treat_col= \"treat_group\", n = 500, n_treatments= treated_workers, confidence_level= 5)\n",
    "\n",
    "ri_extensive"
   ]
  },
  {
   "cell_type": "code",
   "execution_count": null,
   "id": "037b2087",
   "metadata": {},
   "outputs": [],
   "source": [
    "def randomization_inference_fe(df:pd.DataFrame, treat_col:str, n:int, n_treatments: int, confidence_level: int):\n",
    "\n",
    "    num_permutations = n\n",
    "\n",
    "    df_ri = df.copy()\n",
    "    df_ri = df_ri.drop([treat_col], axis = 1)\n",
    "\n",
    "    unique_indices = df_ri.index.unique()\n",
    "\n",
    "    intpost_coefficients = []\n",
    "    \n",
    "    for i in range(num_permutations):\n",
    "        permuted_df = df_ri.reset_index().copy()\n",
    "\n",
    "        treated_indices = np.random.choice(unique_indices, size=n_treatments, replace=False)\n",
    "\n",
    "        permuted_df[\"treatment\"] = 0\n",
    "        permuted_df.loc[permuted_df.index.isin(treated_indices), \"treatment\"] = 1\n",
    "\n",
    "        permuted_df[\"interaction_post\"] = permuted_df[\"post\"]*permuted_df[\"treatment\"]\n",
    "\n",
    "        permuted_df = permuted_df.set_index([\"worker_id\", \"period\"])\n",
    "\n",
    "        y_2way = permuted_df[\"productivity\"]\n",
    "        X_2way = permuted_df[\"interaction_post\"]\n",
    "\n",
    "        ####\n",
    "        fe_model = PanelOLS(y_2way, X_2way, entity_effects=True, time_effects=True).fit(cov_type= \"clustered\", cluster_entity = True)\n",
    "        ####\n",
    "\n",
    "        intpost_coefficient = fe_model.params['interaction_post']\n",
    "        intpost_coefficients.append(intpost_coefficient)\n",
    "        \n",
    "    \n",
    "    return (np.percentile(intpost_coefficients, confidence_level),np.percentile(intpost_coefficients, 100-confidence_level)), intpost_coefficients"
   ]
  },
  {
   "cell_type": "code",
   "execution_count": null,
   "id": "c619f0b1",
   "metadata": {},
   "outputs": [
    {
     "data": {
      "text/plain": [
       "(-2.428323694343052, -0.3161082277390864)"
      ]
     },
     "execution_count": 111,
     "metadata": {},
     "output_type": "execute_result"
    }
   ],
   "source": [
    "# weird results with this; to check again\n",
    "ri_fe, coefficients = randomization_inference_fe(data22_extensive, \"treat_group\", 500, treated_workers, 5)\n",
    "ri_fe"
   ]
  },
  {
   "cell_type": "code",
   "execution_count": 112,
   "id": "00dc86fb",
   "metadata": {},
   "outputs": [
    {
     "data": {
      "image/png": "[encoded data removed]",
      "text/plain": [
       "<Figure size 640x480 with 1 Axes>"
      ]
     },
     "metadata": {},
     "output_type": "display_data"
    }
   ],
   "source": [
    "plt.hist(coefficients, density= True, bins = 20);"
   ]
  }
 ],
 "metadata": {
  "kernelspec": {
   "display_name": "base",
   "language": "python",
   "name": "python3"
  },
  "language_info": {
   "codemirror_mode": {
    "name": "ipython",
    "version": 3
   },
   "file_extension": ".py",
   "mimetype": "text/x-python",
   "name": "python",
   "nbconvert_exporter": "python",
   "pygments_lexer": "ipython3",
   "version": "3.9.19"
  }
 },
 "nbformat": 4,
 "nbformat_minor": 5
}
