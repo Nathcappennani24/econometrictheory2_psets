{
 "cells": [
  {
   "cell_type": "markdown",
   "id": "e34d5ca8-5c9f-4f37-94b0-2b36c7b51adf",
   "metadata": {},
   "source": [
    "# Interpretation\n",
    "## Causal effect of AI training on productivity"
   ]
  },
  {
   "cell_type": "markdown",
   "id": "6f3572a1-eb87-4bc2-9525-8702ed7837b9",
   "metadata": {},
   "source": [
    "## Validity of parallel trends assumption\n",
    "There is plenty of evidence that the parallel trends assumption that does not hold. \n",
    "\n",
    "This is suggested in the first place by the simple plots of productivity (both in levels and log), which show trends that drift progressively apart well before the treatment. Moreover, the dynamic DiD specification produces (both in levels and logs) pre-treatment coefficients that are clearly negative and significant, showing a pre-treatment trend; testing the hypothesis that the pre-treatment coefficients are jointly null, indeed, we get a sharp rejection.\n",
    "\n",
    "Absence of parallel trends is also confirmed by re-estimating the equation with a placebo treatment. If we had parallel trends, the estimated coefficient should be not significant; instead, it is clearly positive and significant. Also Roth's pre-test for violation of parallel trends shows negative and significant pre-treatment coefficients; the maximum pre-treatment deviation is far from zero."
   ]
  },
  {
   "cell_type": "markdown",
   "id": "ac68eda1-0107-445f-bccc-9a46c1b6583d",
   "metadata": {},
   "source": [
    "## Heterogeneity in effects\n",
    "Estimating the model separately for technical and non-technical workers, male and females, and for different mother's education-levels does not yield outstandingly different coefficients. This suggests that there is heterogeneity at none of the examined levels. To assess this we have run the regression\n",
    "$$Y_{it} = \\alpha_i + \\delta_t + \\theta_1(W_i \\times Post_t) + \\theta_2(W_i \\times Post_t \\times Covariate_i) + \\epsilon_{it}$$\n",
    "in order to inspect the significancy of the coefficient of the interaction term, $\\theta_2$. Since $\\theta_2$, in each of the three cases, is not significant, we can safely conclude there there is no significant heterogeneity. Therefore AI training produces an uniform effect over all types of workers, regardless of their technical training, their gender and their family's education background. "
   ]
  },
  {
   "cell_type": "markdown",
   "id": "7f1bbba5-d42b-46cd-b68d-d268661e5737",
   "metadata": {},
   "source": [
    "## Robustness of findings"
   ]
  },
  {
   "cell_type": "code",
   "execution_count": null,
   "id": "a420239b-242b-4ef6-aa84-615281294b6e",
   "metadata": {},
   "outputs": [],
   "source": []
  }
 ],
 "metadata": {
  "kernelspec": {
   "display_name": "Python [conda env:base] *",
   "language": "python",
   "name": "conda-base-py"
  },
  "language_info": {
   "codemirror_mode": {
    "name": "ipython",
    "version": 3
   },
   "file_extension": ".py",
   "mimetype": "text/x-python",
   "name": "python",
   "nbconvert_exporter": "python",
   "pygments_lexer": "ipython3",
   "version": "3.12.7"
  }
 },
 "nbformat": 4,
 "nbformat_minor": 5
}
