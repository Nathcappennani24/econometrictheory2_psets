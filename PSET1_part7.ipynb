{
 "cells": [
  {
   "cell_type": "markdown",
   "id": "e34d5ca8-5c9f-4f37-94b0-2b36c7b51adf",
   "metadata": {},
   "source": [
    "# Interpretation\n",
    "## Causal effect of AI training on productivity"
   ]
  },
  {
   "cell_type": "markdown",
   "id": "e864e709",
   "metadata": {},
   "source": [
    "Because the parallel‐trends assumption fails, we cannot interpret the estimate of θ,even though it’s always highly significant,as the causal impact of the AI training on productivity. All we can say is that:\n",
    "  - There is a robust positive correlation between treatment status and the change in  productivity (θ stays the same and significant across classical DiD, TWFE, IPW, regression adjustments).\n",
    "  - The necessary identification assumption is violated: pre‐treatment trends differ between treated and control group \n"
   ]
  },
  {
   "cell_type": "markdown",
   "id": "6f3572a1-eb87-4bc2-9525-8702ed7837b9",
   "metadata": {},
   "source": [
    "## Validity of parallel trends assumption\n",
    "There is plenty of evidence that the parallel trends assumption that does not hold. \n",
    "\n",
    "This is suggested in the first place by the simple plots of productivity (both in levels and log), which show trends that drift progressively apart well before the treatment. Moreover, the dynamic DiD specification produces (both in levels and logs) pre-treatment coefficients that are clearly negative and significant, showing a pre-treatment trend; testing the hypothesis that the pre-treatment coefficients are jointly null, indeed, we get a sharp rejection.\n",
    "\n",
    "Absence of parallel trends is also confirmed by re-estimating the equation with a placebo treatment. If we had parallel trends, the estimated coefficient should be not significant; instead, it is clearly positive and significant. Also Roth's pre-test for violation of parallel trends shows negative and significant pre-treatment coefficients; the maximum pre-treatment deviation is far from zero."
   ]
  },
  {
   "cell_type": "markdown",
   "id": "ac68eda1-0107-445f-bccc-9a46c1b6583d",
   "metadata": {},
   "source": [
    "## Heterogeneity in effects\n",
    "Estimating the model separately for technical and non-technical workers, male and females, and for different mother's education-levels does not yield outstandingly different coefficients. This suggests that there is heterogeneity at none of the examined levels. To assess this we have run the regression\n",
    "$$Y_{it} = \\alpha_i + \\delta_t + \\theta_1(W_i \\times Post_t) + \\theta_2(W_i \\times Post_t \\times Covariate_i) + \\epsilon_{it}$$\n",
    "in order to inspect the significancy of the coefficient of the interaction term, $\\theta_2$. Since $\\theta_2$, in each of the three cases, is not significant, we can safely conclude there there is no significant heterogeneity. Therefore AI training produces an uniform effect over all types of workers, regardless of their technical preparation, their gender and their family's education background. "
   ]
  },
  {
   "cell_type": "markdown",
   "id": "7f1bbba5-d42b-46cd-b68d-d268661e5737",
   "metadata": {},
   "source": [
    "## Robustness of findings"
   ]
  },
  {
   "cell_type": "markdown",
   "id": "1faeeac2",
   "metadata": {},
   "source": [
    "Performing a regression for the classical diff-in-diff and for the TWFE, give us  an estimate of interaction term of interest, θ, always statistically significant (High Test T results,Low p-value,Randomization inference) but the parallel trend assumption doesn't hold (plot, placebo test,Event Study,Roth test).\n",
    "So the we can not infer that the difference,in term of  productivity, between pre and post treatment , for the treated trend, has been cause by the AI training. \n",
    "When we re-estimate the main DiD model (4) with covariates using \n",
    " - Inverse probability weighting (IPW, Abadie, 2005)\n",
    " - Regression adjustment (Heckman et al., 1997)\n",
    " - Doubly robust estimators (Sant'Anna and Zhao, 2020) \n",
    "\n",
    "We still get a statistically significant θ with the same estimate got in classical Diff-in-Diff regression and in TWFE. So basically, if conditional PTA would hold, the classical Diff-in-Diff regression and TWFE results would be robust although PTA doesn't hold. \n",
    "But since we did not perform any test to check the validity of the conditional PTA (placebo test, event study or graphical check), we do not have enough evidence to make this statement:  the result are not robust neither in the classical Diff-in-Diff/TWFE nor in the DiD model with covariates."
   ]
  }
 ],
 "metadata": {
  "kernelspec": {
   "display_name": "Python [conda env:base] *",
   "language": "python",
   "name": "conda-base-py"
  },
  "language_info": {
   "codemirror_mode": {
    "name": "ipython",
    "version": 3
   },
   "file_extension": ".py",
   "mimetype": "text/x-python",
   "name": "python",
   "nbconvert_exporter": "python",
   "pygments_lexer": "ipython3",
   "version": "3.12.7"
  }
 },
 "nbformat": 4,
 "nbformat_minor": 5
}
